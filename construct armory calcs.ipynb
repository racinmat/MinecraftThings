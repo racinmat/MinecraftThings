{
 "cells": [
  {
   "cell_type": "markdown",
   "metadata": {},
   "source": [
    "csv downloaded from https://docs.google.com/spreadsheets/d/1evROGNY7BjQF-A0i3TspQ_crkflV9rNLLjdOvw6TH1k/edit#gid=0"
   ]
  },
  {
   "cell_type": "code",
   "execution_count": 260,
   "metadata": {},
   "outputs": [],
   "source": [
    "using DataFrames, CSV, Plots"
   ]
  },
  {
   "cell_type": "code",
   "execution_count": 4,
   "metadata": {},
   "outputs": [
    {
     "name": "stdout",
     "output_type": "stream",
     "text": [
      "thread = 1 warning: only found 10 / 11 columns around data row: 143. Filling remaining columns with `missing`\n"
     ]
    },
    {
     "data": {
      "text/html": [
       "<table class=\"data-frame\"><thead><tr><th></th><th>Material</th><th>Core D.</th><th>Plate D.</th><th>Trim D.</th><th>Modifier</th><th>Defense</th><th>Toughness</th><th>Acquired (Gated by)</th></tr><tr><th></th><th>String</th><th>Float64</th><th>Float64</th><th>Float64</th><th>Float64</th><th>Float64</th><th>Float64</th><th>String</th></tr></thead><tbody><p>142 rows × 11 columns (omitted printing of 3 columns)</p><tr><th>1</th><td>Electrical Steel</td><td>14.0</td><td>8.4</td><td>8.4</td><td>10.12</td><td>10.12</td><td>0.0</td><td>Alloying</td></tr><tr><th>2</th><td>Energetic Alloy</td><td>32.0</td><td>44.8</td><td>44.8</td><td>25.2</td><td>25.2</td><td>0.0</td><td>Alloying</td></tr><tr><th>3</th><td>Vibrant Alloy</td><td>10.0</td><td>6.72</td><td>6.72</td><td>40.5</td><td>40.5</td><td>0.0</td><td>Alloying</td></tr><tr><th>4</th><td>Redstone Alloy</td><td>5.0</td><td>16.8</td><td>16.8</td><td>6.75</td><td>6.75</td><td>0.0</td><td>Alloying</td></tr><tr><th>5</th><td>Conductive Iron</td><td>4.0</td><td>28.0</td><td>28.0</td><td>5.62</td><td>5.62</td><td>0.0</td><td>Smeltery Alloy</td></tr><tr><th>6</th><td>Pulsating Iron</td><td>43.0</td><td>28.0</td><td>28.0</td><td>9.0</td><td>9.0</td><td>0.0</td><td>Smeltery Alloy</td></tr><tr><th>7</th><td>Dark Steel</td><td>25.0</td><td>28.0</td><td>28.0</td><td>27.0</td><td>27.0</td><td>0.0</td><td>Smeltery Alloy</td></tr><tr><th>8</th><td>Soularium</td><td>73.0</td><td>140.0</td><td>140.0</td><td>4.5</td><td>4.5</td><td>0.0</td><td>Alloying</td></tr><tr><th>9</th><td>End Steel</td><td>18.0</td><td>16.8</td><td>16.8</td><td>22.5</td><td>22.5</td><td>0.0</td><td>Alloying</td></tr><tr><th>10</th><td>Iron Alloy</td><td>2.0</td><td>1.12</td><td>1.12</td><td>4.5</td><td>4.5</td><td>0.0</td><td>Alloying</td></tr><tr><th>11</th><td>Naga Scale</td><td>21.0</td><td>0.0</td><td>0.0</td><td>19.35</td><td>19.35</td><td>0.0</td><td>Twilight</td></tr><tr><th>12</th><td>Steeleaf</td><td>8.0</td><td>11.2</td><td>11.2</td><td>31.5</td><td>31.5</td><td>0.0</td><td>Twilight</td></tr><tr><th>13</th><td>Fiery</td><td>33.0</td><td>22.4</td><td>22.4</td><td>34.2</td><td>34.2</td><td>0.0</td><td>Twilight</td></tr><tr><th>14</th><td>Knightly</td><td>56.0</td><td>61.6</td><td>61.6</td><td>31.5</td><td>31.5</td><td>0.0</td><td>Twilight</td></tr><tr><th>15</th><td>Stone</td><td>8.7</td><td>-3.5</td><td>0.75</td><td>0.5</td><td>5.0</td><td>0.0</td><td>Gathering</td></tr><tr><th>16</th><td>Flint</td><td>10.0</td><td>-5.0</td><td>2.6</td><td>0.6</td><td>4.5</td><td>1.0</td><td>Gathering</td></tr><tr><th>17</th><td>Cactus</td><td>12.5</td><td>0.75</td><td>3.5</td><td>0.85</td><td>10.0</td><td>0.0</td><td>Gathering</td></tr><tr><th>18</th><td>Bone</td><td>12.0</td><td>3.5</td><td>5.3</td><td>1.1</td><td>4.0</td><td>1.0</td><td>Gathering</td></tr><tr><th>19</th><td>Obsidian</td><td>9.5</td><td>-8.0</td><td>7.0</td><td>0.9</td><td>16.2</td><td>3.5</td><td>Gathering</td></tr><tr><th>20</th><td>Prismarine</td><td>16.0</td><td>-10.0</td><td>8.0</td><td>0.6</td><td>18.8</td><td>2.0</td><td>Gathering</td></tr><tr><th>21</th><td>End Stone</td><td>15.5</td><td>0.0</td><td>2.7</td><td>0.85</td><td>9.0</td><td>1.0</td><td>Gathering</td></tr><tr><th>22</th><td>Paper</td><td>0.4</td><td>0.3</td><td>0.5</td><td>0.1</td><td>0.5</td><td>0.0</td><td>Gathering</td></tr><tr><th>23</th><td>Sponge</td><td>21.0</td><td>13.0</td><td>13.0</td><td>1.2</td><td>1.0</td><td>5.0</td><td>Gathering</td></tr><tr><th>24</th><td>Firewood</td><td>17.0</td><td>-12.0</td><td>10.0</td><td>1.0</td><td>17.5</td><td>0.5</td><td>Casting</td></tr><tr><th>25</th><td>Iron</td><td>12.0</td><td>5.0</td><td>3.5</td><td>0.85</td><td>15.0</td><td>0.0</td><td>Casting</td></tr><tr><th>26</th><td>Pig Iron</td><td>15.0</td><td>0.0</td><td>10.5</td><td>1.2</td><td>16.7</td><td>1.0</td><td>Smeltery Alloy</td></tr><tr><th>27</th><td>Knightslime</td><td>20.0</td><td>16.7</td><td>9.0</td><td>0.5</td><td>17.1</td><td>1.0</td><td>Smeltery Alloy</td></tr><tr><th>28</th><td>Slime Crystal</td><td>20.7</td><td>0.0</td><td>14.5</td><td>0.7</td><td>2.0</td><td>2.0</td><td>Gathering</td></tr><tr><th>29</th><td>Blue Slime Crystal</td><td>19.5</td><td>-3.5</td><td>12.0</td><td>1.3</td><td>1.8</td><td>2.25</td><td>Gathering</td></tr><tr><th>30</th><td>Magma Slime Crystal</td><td>18.0</td><td>-12.0</td><td>10.0</td><td>0.85</td><td>19.4</td><td>2.5</td><td>Gathering</td></tr><tr><th>&vellip;</th><td>&vellip;</td><td>&vellip;</td><td>&vellip;</td><td>&vellip;</td><td>&vellip;</td><td>&vellip;</td><td>&vellip;</td><td>&vellip;</td></tr></tbody></table>"
      ],
      "text/latex": [
       "\\begin{tabular}{r|ccccccccc}\n",
       "\t& Material & Core D. & Plate D. & Trim D. & Modifier & Defense & Toughness & Acquired (Gated by) & \\\\\n",
       "\t\\hline\n",
       "\t& String & Float64 & Float64 & Float64 & Float64 & Float64 & Float64 & String & \\\\\n",
       "\t\\hline\n",
       "\t1 & Electrical Steel & 14.0 & 8.4 & 8.4 & 10.12 & 10.12 & 0.0 & Alloying & $\\dots$ \\\\\n",
       "\t2 & Energetic Alloy & 32.0 & 44.8 & 44.8 & 25.2 & 25.2 & 0.0 & Alloying & $\\dots$ \\\\\n",
       "\t3 & Vibrant Alloy & 10.0 & 6.72 & 6.72 & 40.5 & 40.5 & 0.0 & Alloying & $\\dots$ \\\\\n",
       "\t4 & Redstone Alloy & 5.0 & 16.8 & 16.8 & 6.75 & 6.75 & 0.0 & Alloying & $\\dots$ \\\\\n",
       "\t5 & Conductive Iron & 4.0 & 28.0 & 28.0 & 5.62 & 5.62 & 0.0 & Smeltery Alloy & $\\dots$ \\\\\n",
       "\t6 & Pulsating Iron & 43.0 & 28.0 & 28.0 & 9.0 & 9.0 & 0.0 & Smeltery Alloy & $\\dots$ \\\\\n",
       "\t7 & Dark Steel & 25.0 & 28.0 & 28.0 & 27.0 & 27.0 & 0.0 & Smeltery Alloy & $\\dots$ \\\\\n",
       "\t8 & Soularium & 73.0 & 140.0 & 140.0 & 4.5 & 4.5 & 0.0 & Alloying & $\\dots$ \\\\\n",
       "\t9 & End Steel & 18.0 & 16.8 & 16.8 & 22.5 & 22.5 & 0.0 & Alloying & $\\dots$ \\\\\n",
       "\t10 & Iron Alloy & 2.0 & 1.12 & 1.12 & 4.5 & 4.5 & 0.0 & Alloying & $\\dots$ \\\\\n",
       "\t11 & Naga Scale & 21.0 & 0.0 & 0.0 & 19.35 & 19.35 & 0.0 & Twilight & $\\dots$ \\\\\n",
       "\t12 & Steeleaf & 8.0 & 11.2 & 11.2 & 31.5 & 31.5 & 0.0 & Twilight & $\\dots$ \\\\\n",
       "\t13 & Fiery & 33.0 & 22.4 & 22.4 & 34.2 & 34.2 & 0.0 & Twilight & $\\dots$ \\\\\n",
       "\t14 & Knightly & 56.0 & 61.6 & 61.6 & 31.5 & 31.5 & 0.0 & Twilight & $\\dots$ \\\\\n",
       "\t15 & Stone & 8.7 & -3.5 & 0.75 & 0.5 & 5.0 & 0.0 & Gathering & $\\dots$ \\\\\n",
       "\t16 & Flint & 10.0 & -5.0 & 2.6 & 0.6 & 4.5 & 1.0 & Gathering & $\\dots$ \\\\\n",
       "\t17 & Cactus & 12.5 & 0.75 & 3.5 & 0.85 & 10.0 & 0.0 & Gathering & $\\dots$ \\\\\n",
       "\t18 & Bone & 12.0 & 3.5 & 5.3 & 1.1 & 4.0 & 1.0 & Gathering & $\\dots$ \\\\\n",
       "\t19 & Obsidian & 9.5 & -8.0 & 7.0 & 0.9 & 16.2 & 3.5 & Gathering & $\\dots$ \\\\\n",
       "\t20 & Prismarine & 16.0 & -10.0 & 8.0 & 0.6 & 18.8 & 2.0 & Gathering & $\\dots$ \\\\\n",
       "\t21 & End Stone & 15.5 & 0.0 & 2.7 & 0.85 & 9.0 & 1.0 & Gathering & $\\dots$ \\\\\n",
       "\t22 & Paper & 0.4 & 0.3 & 0.5 & 0.1 & 0.5 & 0.0 & Gathering & $\\dots$ \\\\\n",
       "\t23 & Sponge & 21.0 & 13.0 & 13.0 & 1.2 & 1.0 & 5.0 & Gathering & $\\dots$ \\\\\n",
       "\t24 & Firewood & 17.0 & -12.0 & 10.0 & 1.0 & 17.5 & 0.5 & Casting & $\\dots$ \\\\\n",
       "\t25 & Iron & 12.0 & 5.0 & 3.5 & 0.85 & 15.0 & 0.0 & Casting & $\\dots$ \\\\\n",
       "\t26 & Pig Iron & 15.0 & 0.0 & 10.5 & 1.2 & 16.7 & 1.0 & Smeltery Alloy & $\\dots$ \\\\\n",
       "\t27 & Knightslime & 20.0 & 16.7 & 9.0 & 0.5 & 17.1 & 1.0 & Smeltery Alloy & $\\dots$ \\\\\n",
       "\t28 & Slime Crystal & 20.7 & 0.0 & 14.5 & 0.7 & 2.0 & 2.0 & Gathering & $\\dots$ \\\\\n",
       "\t29 & Blue Slime Crystal & 19.5 & -3.5 & 12.0 & 1.3 & 1.8 & 2.25 & Gathering & $\\dots$ \\\\\n",
       "\t30 & Magma Slime Crystal & 18.0 & -12.0 & 10.0 & 0.85 & 19.4 & 2.5 & Gathering & $\\dots$ \\\\\n",
       "\t$\\dots$ & $\\dots$ & $\\dots$ & $\\dots$ & $\\dots$ & $\\dots$ & $\\dots$ & $\\dots$ & $\\dots$ &  \\\\\n",
       "\\end{tabular}\n"
      ],
      "text/plain": [
       "142×11 DataFrame. Omitted printing of 5 columns\n",
       "│ Row │ Material         │ Core D. │ Plate D. │ Trim D. │ Modifier │ Defense │\n",
       "│     │ \u001B[90mString\u001B[39m           │ \u001B[90mFloat64\u001B[39m │ \u001B[90mFloat64\u001B[39m  │ \u001B[90mFloat64\u001B[39m │ \u001B[90mFloat64\u001B[39m  │ \u001B[90mFloat64\u001B[39m │\n",
       "├─────┼──────────────────┼─────────┼──────────┼─────────┼──────────┼─────────┤\n",
       "│ 1   │ Electrical Steel │ 14.0    │ 8.4      │ 8.4     │ 10.12    │ 10.12   │\n",
       "│ 2   │ Energetic Alloy  │ 32.0    │ 44.8     │ 44.8    │ 25.2     │ 25.2    │\n",
       "│ 3   │ Vibrant Alloy    │ 10.0    │ 6.72     │ 6.72    │ 40.5     │ 40.5    │\n",
       "│ 4   │ Redstone Alloy   │ 5.0     │ 16.8     │ 16.8    │ 6.75     │ 6.75    │\n",
       "│ 5   │ Conductive Iron  │ 4.0     │ 28.0     │ 28.0    │ 5.62     │ 5.62    │\n",
       "│ 6   │ Pulsating Iron   │ 43.0    │ 28.0     │ 28.0    │ 9.0      │ 9.0     │\n",
       "│ 7   │ Dark Steel       │ 25.0    │ 28.0     │ 28.0    │ 27.0     │ 27.0    │\n",
       "│ 8   │ Soularium        │ 73.0    │ 140.0    │ 140.0   │ 4.5      │ 4.5     │\n",
       "│ 9   │ End Steel        │ 18.0    │ 16.8     │ 16.8    │ 22.5     │ 22.5    │\n",
       "│ 10  │ Iron Alloy       │ 2.0     │ 1.12     │ 1.12    │ 4.5      │ 4.5     │\n",
       "⋮\n",
       "│ 132 │ Corrupted        │ 9.0     │ 5.6      │ 5.6     │ 18.0     │ 18.0    │\n",
       "│ 133 │ Awakened         │ 120.0   │ 56.0     │ 56.0    │ 50.0     │ 50.0    │\n",
       "│ 134 │ Mirion           │ 90.0    │ 10.08    │ 10.08   │ 40.5     │ 40.5    │\n",
       "│ 135 │ Elementium       │ 25.0    │ 6.72     │ 6.72    │ 27.0     │ 27.0    │\n",
       "│ 136 │ Manasteel        │ 25.0    │ 6.72     │ 6.72    │ 27.0     │ 27.0    │\n",
       "│ 137 │ Terrasteel       │ 73.0    │ 1.12     │ 1.12    │ 29.25    │ 29.25   │\n",
       "│ 138 │ Chaotic          │ 120.0   │ 89.6     │ 89.6    │ 50.0     │ 50.0    │\n",
       "│ 139 │ Livingwood       │ 2.0     │ 2.24     │ 2.24    │ 12.6     │ 12.6    │\n",
       "│ 140 │ Wyvern           │ 94.0    │ 26.88    │ 26.88   │ 50.0     │ 50.0    │\n",
       "│ 141 │ Emerald          │ 18.0    │ 9.0      │ 13.5    │ 1.0      │ 20.0    │\n",
       "│ 142 │ Wood             │ 2.5     │ 1.0      │ 0.5     │ 1.0      │ 3.0     │"
      ]
     },
     "execution_count": 4,
     "metadata": {},
     "output_type": "execute_result"
    }
   ],
   "source": [
    "df = DataFrame(CSV.File(\"Tinkers' Armor Materials - Materials.csv\"))"
   ]
  },
  {
   "cell_type": "code",
   "execution_count": 8,
   "metadata": {},
   "outputs": [
    {
     "data": {
      "text/plain": [
       "142-element Array{String,1}:\n",
       " \"Electrical Steel\"\n",
       " \"Energetic Alloy\"\n",
       " \"Vibrant Alloy\"\n",
       " \"Redstone Alloy\"\n",
       " \"Conductive Iron\"\n",
       " \"Pulsating Iron\"\n",
       " \"Dark Steel\"\n",
       " \"Soularium\"\n",
       " \"End Steel\"\n",
       " \"Iron Alloy\"\n",
       " \"Naga Scale\"\n",
       " \"Steeleaf\"\n",
       " \"Fiery\"\n",
       " ⋮\n",
       " \"Void\"\n",
       " \"Corrupted\"\n",
       " \"Awakened\"\n",
       " \"Mirion\"\n",
       " \"Elementium\"\n",
       " \"Manasteel\"\n",
       " \"Terrasteel\"\n",
       " \"Chaotic\"\n",
       " \"Livingwood\"\n",
       " \"Wyvern\"\n",
       " \"Emerald\"\n",
       " \"Wood\""
      ]
     },
     "execution_count": 8,
     "metadata": {},
     "output_type": "execute_result"
    }
   ],
   "source": [
    "df[:Material]"
   ]
  },
  {
   "cell_type": "code",
   "execution_count": 168,
   "metadata": {},
   "outputs": [
    {
     "data": {
      "text/plain": [
       "27-element Array{String,1}:\n",
       " \"Wood\"\n",
       " \"Stone\"\n",
       " \"Flint\"\n",
       " \"Cactus\"\n",
       " \"Bone\"\n",
       " \"Obsidian\"\n",
       " \"Prismarine\"\n",
       " \"End Stone\"\n",
       " \"Paper\"\n",
       " \"Sponge\"\n",
       " \"Firewood\"\n",
       " \"Iron\"\n",
       " \"Pig Iron\"\n",
       " ⋮\n",
       " \"Blue Slime Crystal\"\n",
       " \"Magma Slime Crystal\"\n",
       " \"Netherrack\"\n",
       " \"Cobalt\"\n",
       " \"Ardite\"\n",
       " \"Manyullyn\"\n",
       " \"Copper\"\n",
       " \"Bronze\"\n",
       " \"Lead\"\n",
       " \"Silver\"\n",
       " \"Electrum\"\n",
       " \"Steel\""
      ]
     },
     "execution_count": 168,
     "metadata": {},
     "output_type": "execute_result"
    }
   ],
   "source": [
    "my_materials = [\"Wood\", \"Stone\", \"Flint\", \"Cactus\", \"Bone\", \"Obsidian\", \"Prismarine\", \"End Stone\", \"Paper\", \"Sponge\", \"Firewood\", \n",
    "    \"Iron\", \"Pig Iron\", \"Knightslime\", \"Slime Crystal\", \"Blue Slime Crystal\", \"Magma Slime Crystal\", \"Netherrack\", \"Cobalt\", \"Ardite\", \"Manyullyn\",\n",
    "    \"Copper\", \"Bronze\", \"Lead\", \"Silver\", \"Electrum\", \"Steel\"]#todo: dopsat"
   ]
  },
  {
   "cell_type": "code",
   "execution_count": 169,
   "metadata": {},
   "outputs": [
    {
     "data": {
      "text/plain": [
       "true"
      ]
     },
     "execution_count": 169,
     "metadata": {},
     "output_type": "execute_result"
    }
   ],
   "source": [
    "map(x->x ∈ df[:Material], my_materials) |> all"
   ]
  },
  {
   "cell_type": "code",
   "execution_count": 17,
   "metadata": {},
   "outputs": [
    {
     "data": {
      "text/html": [
       "<table class=\"data-frame\"><thead><tr><th></th><th>Material</th><th>Core D.</th><th>Plate D.</th><th>Trim D.</th><th>Modifier</th><th>Defense</th><th>Toughness</th><th>Acquired (Gated by)</th></tr><tr><th></th><th>String</th><th>Float64</th><th>Float64</th><th>Float64</th><th>Float64</th><th>Float64</th><th>Float64</th><th>String</th></tr></thead><tbody><p>23 rows × 11 columns (omitted printing of 3 columns)</p><tr><th>1</th><td>Stone</td><td>8.7</td><td>-3.5</td><td>0.75</td><td>0.5</td><td>5.0</td><td>0.0</td><td>Gathering</td></tr><tr><th>2</th><td>Flint</td><td>10.0</td><td>-5.0</td><td>2.6</td><td>0.6</td><td>4.5</td><td>1.0</td><td>Gathering</td></tr><tr><th>3</th><td>Cactus</td><td>12.5</td><td>0.75</td><td>3.5</td><td>0.85</td><td>10.0</td><td>0.0</td><td>Gathering</td></tr><tr><th>4</th><td>Bone</td><td>12.0</td><td>3.5</td><td>5.3</td><td>1.1</td><td>4.0</td><td>1.0</td><td>Gathering</td></tr><tr><th>5</th><td>Obsidian</td><td>9.5</td><td>-8.0</td><td>7.0</td><td>0.9</td><td>16.2</td><td>3.5</td><td>Gathering</td></tr><tr><th>6</th><td>Prismarine</td><td>16.0</td><td>-10.0</td><td>8.0</td><td>0.6</td><td>18.8</td><td>2.0</td><td>Gathering</td></tr><tr><th>7</th><td>Paper</td><td>0.4</td><td>0.3</td><td>0.5</td><td>0.1</td><td>0.5</td><td>0.0</td><td>Gathering</td></tr><tr><th>8</th><td>Sponge</td><td>21.0</td><td>13.0</td><td>13.0</td><td>1.2</td><td>1.0</td><td>5.0</td><td>Gathering</td></tr><tr><th>9</th><td>Firewood</td><td>17.0</td><td>-12.0</td><td>10.0</td><td>1.0</td><td>17.5</td><td>0.5</td><td>Casting</td></tr><tr><th>10</th><td>Iron</td><td>12.0</td><td>5.0</td><td>3.5</td><td>0.85</td><td>15.0</td><td>0.0</td><td>Casting</td></tr><tr><th>11</th><td>Pig Iron</td><td>15.0</td><td>0.0</td><td>10.5</td><td>1.2</td><td>16.7</td><td>1.0</td><td>Smeltery Alloy</td></tr><tr><th>12</th><td>Knightslime</td><td>20.0</td><td>16.7</td><td>9.0</td><td>0.5</td><td>17.1</td><td>1.0</td><td>Smeltery Alloy</td></tr><tr><th>13</th><td>Netherrack</td><td>13.5</td><td>-10.0</td><td>5.5</td><td>0.85</td><td>5.3</td><td>0.0</td><td>Gathering</td></tr><tr><th>14</th><td>Cobalt</td><td>19.5</td><td>8.0</td><td>14.0</td><td>0.9</td><td>15.6</td><td>0.0</td><td>Casting</td></tr><tr><th>15</th><td>Ardite</td><td>20.5</td><td>-12.0</td><td>16.2</td><td>1.4</td><td>13.0</td><td>4.0</td><td>Casting</td></tr><tr><th>16</th><td>Manyullyn</td><td>19.7</td><td>13.0</td><td>3.5</td><td>1.0</td><td>20.0</td><td>3.0</td><td>Smeltery Alloy</td></tr><tr><th>17</th><td>Copper</td><td>12.0</td><td>2.0</td><td>8.0</td><td>1.05</td><td>8.0</td><td>0.0</td><td>Casting</td></tr><tr><th>18</th><td>Bronze</td><td>16.0</td><td>5.5</td><td>6.5</td><td>1.1</td><td>12.0</td><td>1.25</td><td>Casting</td></tr><tr><th>19</th><td>Lead</td><td>16.0</td><td>-3.5</td><td>8.0</td><td>0.7</td><td>11.0</td><td>2.0</td><td>Casting</td></tr><tr><th>20</th><td>Silver</td><td>13.0</td><td>3.5</td><td>10.0</td><td>0.95</td><td>17.0</td><td>2.0</td><td>Casting</td></tr><tr><th>21</th><td>Electrum</td><td>3.5</td><td>-1.0</td><td>13.0</td><td>1.1</td><td>8.1</td><td>0.0</td><td>Smeltery Alloy</td></tr><tr><th>22</th><td>Steel</td><td>17.0</td><td>10.0</td><td>1.0</td><td>0.9</td><td>18.4</td><td>4.5</td><td>Smeltery Alloy</td></tr><tr><th>23</th><td>Wood</td><td>2.5</td><td>1.0</td><td>0.5</td><td>1.0</td><td>3.0</td><td>0.0</td><td>Gathering</td></tr></tbody></table>"
      ],
      "text/latex": [
       "\\begin{tabular}{r|ccccccccc}\n",
       "\t& Material & Core D. & Plate D. & Trim D. & Modifier & Defense & Toughness & Acquired (Gated by) & \\\\\n",
       "\t\\hline\n",
       "\t& String & Float64 & Float64 & Float64 & Float64 & Float64 & Float64 & String & \\\\\n",
       "\t\\hline\n",
       "\t1 & Stone & 8.7 & -3.5 & 0.75 & 0.5 & 5.0 & 0.0 & Gathering & $\\dots$ \\\\\n",
       "\t2 & Flint & 10.0 & -5.0 & 2.6 & 0.6 & 4.5 & 1.0 & Gathering & $\\dots$ \\\\\n",
       "\t3 & Cactus & 12.5 & 0.75 & 3.5 & 0.85 & 10.0 & 0.0 & Gathering & $\\dots$ \\\\\n",
       "\t4 & Bone & 12.0 & 3.5 & 5.3 & 1.1 & 4.0 & 1.0 & Gathering & $\\dots$ \\\\\n",
       "\t5 & Obsidian & 9.5 & -8.0 & 7.0 & 0.9 & 16.2 & 3.5 & Gathering & $\\dots$ \\\\\n",
       "\t6 & Prismarine & 16.0 & -10.0 & 8.0 & 0.6 & 18.8 & 2.0 & Gathering & $\\dots$ \\\\\n",
       "\t7 & Paper & 0.4 & 0.3 & 0.5 & 0.1 & 0.5 & 0.0 & Gathering & $\\dots$ \\\\\n",
       "\t8 & Sponge & 21.0 & 13.0 & 13.0 & 1.2 & 1.0 & 5.0 & Gathering & $\\dots$ \\\\\n",
       "\t9 & Firewood & 17.0 & -12.0 & 10.0 & 1.0 & 17.5 & 0.5 & Casting & $\\dots$ \\\\\n",
       "\t10 & Iron & 12.0 & 5.0 & 3.5 & 0.85 & 15.0 & 0.0 & Casting & $\\dots$ \\\\\n",
       "\t11 & Pig Iron & 15.0 & 0.0 & 10.5 & 1.2 & 16.7 & 1.0 & Smeltery Alloy & $\\dots$ \\\\\n",
       "\t12 & Knightslime & 20.0 & 16.7 & 9.0 & 0.5 & 17.1 & 1.0 & Smeltery Alloy & $\\dots$ \\\\\n",
       "\t13 & Netherrack & 13.5 & -10.0 & 5.5 & 0.85 & 5.3 & 0.0 & Gathering & $\\dots$ \\\\\n",
       "\t14 & Cobalt & 19.5 & 8.0 & 14.0 & 0.9 & 15.6 & 0.0 & Casting & $\\dots$ \\\\\n",
       "\t15 & Ardite & 20.5 & -12.0 & 16.2 & 1.4 & 13.0 & 4.0 & Casting & $\\dots$ \\\\\n",
       "\t16 & Manyullyn & 19.7 & 13.0 & 3.5 & 1.0 & 20.0 & 3.0 & Smeltery Alloy & $\\dots$ \\\\\n",
       "\t17 & Copper & 12.0 & 2.0 & 8.0 & 1.05 & 8.0 & 0.0 & Casting & $\\dots$ \\\\\n",
       "\t18 & Bronze & 16.0 & 5.5 & 6.5 & 1.1 & 12.0 & 1.25 & Casting & $\\dots$ \\\\\n",
       "\t19 & Lead & 16.0 & -3.5 & 8.0 & 0.7 & 11.0 & 2.0 & Casting & $\\dots$ \\\\\n",
       "\t20 & Silver & 13.0 & 3.5 & 10.0 & 0.95 & 17.0 & 2.0 & Casting & $\\dots$ \\\\\n",
       "\t21 & Electrum & 3.5 & -1.0 & 13.0 & 1.1 & 8.1 & 0.0 & Smeltery Alloy & $\\dots$ \\\\\n",
       "\t22 & Steel & 17.0 & 10.0 & 1.0 & 0.9 & 18.4 & 4.5 & Smeltery Alloy & $\\dots$ \\\\\n",
       "\t23 & Wood & 2.5 & 1.0 & 0.5 & 1.0 & 3.0 & 0.0 & Gathering & $\\dots$ \\\\\n",
       "\\end{tabular}\n"
      ],
      "text/plain": [
       "23×11 DataFrame. Omitted printing of 5 columns\n",
       "│ Row │ Material    │ Core D. │ Plate D. │ Trim D. │ Modifier │ Defense │\n",
       "│     │ \u001B[90mString\u001B[39m      │ \u001B[90mFloat64\u001B[39m │ \u001B[90mFloat64\u001B[39m  │ \u001B[90mFloat64\u001B[39m │ \u001B[90mFloat64\u001B[39m  │ \u001B[90mFloat64\u001B[39m │\n",
       "├─────┼─────────────┼─────────┼──────────┼─────────┼──────────┼─────────┤\n",
       "│ 1   │ Stone       │ 8.7     │ -3.5     │ 0.75    │ 0.5      │ 5.0     │\n",
       "│ 2   │ Flint       │ 10.0    │ -5.0     │ 2.6     │ 0.6      │ 4.5     │\n",
       "│ 3   │ Cactus      │ 12.5    │ 0.75     │ 3.5     │ 0.85     │ 10.0    │\n",
       "│ 4   │ Bone        │ 12.0    │ 3.5      │ 5.3     │ 1.1      │ 4.0     │\n",
       "│ 5   │ Obsidian    │ 9.5     │ -8.0     │ 7.0     │ 0.9      │ 16.2    │\n",
       "│ 6   │ Prismarine  │ 16.0    │ -10.0    │ 8.0     │ 0.6      │ 18.8    │\n",
       "│ 7   │ Paper       │ 0.4     │ 0.3      │ 0.5     │ 0.1      │ 0.5     │\n",
       "│ 8   │ Sponge      │ 21.0    │ 13.0     │ 13.0    │ 1.2      │ 1.0     │\n",
       "│ 9   │ Firewood    │ 17.0    │ -12.0    │ 10.0    │ 1.0      │ 17.5    │\n",
       "│ 10  │ Iron        │ 12.0    │ 5.0      │ 3.5     │ 0.85     │ 15.0    │\n",
       "│ 11  │ Pig Iron    │ 15.0    │ 0.0      │ 10.5    │ 1.2      │ 16.7    │\n",
       "│ 12  │ Knightslime │ 20.0    │ 16.7     │ 9.0     │ 0.5      │ 17.1    │\n",
       "│ 13  │ Netherrack  │ 13.5    │ -10.0    │ 5.5     │ 0.85     │ 5.3     │\n",
       "│ 14  │ Cobalt      │ 19.5    │ 8.0      │ 14.0    │ 0.9      │ 15.6    │\n",
       "│ 15  │ Ardite      │ 20.5    │ -12.0    │ 16.2    │ 1.4      │ 13.0    │\n",
       "│ 16  │ Manyullyn   │ 19.7    │ 13.0     │ 3.5     │ 1.0      │ 20.0    │\n",
       "│ 17  │ Copper      │ 12.0    │ 2.0      │ 8.0     │ 1.05     │ 8.0     │\n",
       "│ 18  │ Bronze      │ 16.0    │ 5.5      │ 6.5     │ 1.1      │ 12.0    │\n",
       "│ 19  │ Lead        │ 16.0    │ -3.5     │ 8.0     │ 0.7      │ 11.0    │\n",
       "│ 20  │ Silver      │ 13.0    │ 3.5      │ 10.0    │ 0.95     │ 17.0    │\n",
       "│ 21  │ Electrum    │ 3.5     │ -1.0     │ 13.0    │ 1.1      │ 8.1     │\n",
       "│ 22  │ Steel       │ 17.0    │ 10.0     │ 1.0     │ 0.9      │ 18.4    │\n",
       "│ 23  │ Wood        │ 2.5     │ 1.0      │ 0.5     │ 1.0      │ 3.0     │"
      ]
     },
     "execution_count": 17,
     "metadata": {},
     "output_type": "execute_result"
    }
   ],
   "source": [
    "my_df = df[map(x->x ∈ my_materials, df[:Material]), :]"
   ]
  },
  {
   "cell_type": "code",
   "execution_count": 246,
   "metadata": {},
   "outputs": [
    {
     "data": {
      "text/plain": [
       "total_stats (generic function with 2 methods)"
      ]
     },
     "execution_count": 246,
     "metadata": {},
     "output_type": "execute_result"
    }
   ],
   "source": [
    "base_multiplier = Dict(\n",
    "    :head=>11,\n",
    "    :chest=>16,\n",
    "    :legs=>15,\n",
    "    :feet=>13\n",
    ")\n",
    "base_armor = Dict(\n",
    "    :head=>0.16,\n",
    "    :chest=>0.4,\n",
    "    :legs=>0.3,\n",
    "    :feet=>0.14\n",
    ")\n",
    "r(x) = round(x, RoundNearestTiesUp)\n",
    "function total_stats(core, plates, trim, position)\n",
    "    !(core ∈ df[:Material]) && @error \"$core not found in materials\"\n",
    "    core_d = df[df[:Material] .== core, \"Core D.\"][1]\n",
    "    plates_d = df[df[:Material] .== plates, \"Plate D.\"][1]\n",
    "    trim_d = df[df[:Material] .== trim, \"Trim D.\"][1]\n",
    "    modifier = df[df[:Material] .== plates, \"Modifier\"][1]\n",
    "    base_mul = base_multiplier[position]\n",
    "    defense = df[df[:Material] .== core, \"Defense\"][1]\n",
    "    total_dur = r(r((core_d + trim_d) * base_mul) * modifier) + r(plates_d * base_mul)\n",
    "    total_defense = defense * base_armor[position]\n",
    "    total_tough = base_tough = df[df[:Material] .== plates, \"Toughness\"][1]\n",
    "    # applying relevant traits\n",
    "    # cheapstake\n",
    "    if core == \"Stone\"\n",
    "        total_dur = r(total_dur*0.8)\n",
    "    end\n",
    "    # indomitable does not stack\n",
    "    if plates == \"Steel\" || trim == \"Steel\"\n",
    "        total_defense = total_defense*1.2\n",
    "        total_tough += base_tough*0.2\n",
    "    end\n",
    "    # skeletal stacks\n",
    "    if plates == \"Bone\"\n",
    "        total_tough += base_tough*0.5\n",
    "    end\n",
    "    if trim == \"Bone\"\n",
    "        total_tough += base_tough*0.5\n",
    "    end\n",
    "    total_armor = r(total_defense * 100) / 100\n",
    "    total_dur, total_armor, total_tough\n",
    "end"
   ]
  },
  {
   "cell_type": "code",
   "execution_count": 247,
   "metadata": {},
   "outputs": [
    {
     "data": {
      "text/plain": [
       "4-element Array{Pair{Symbol,Tuple{Float64,Float64,Float64}},1}:\n",
       "  :legs => (573.0, 4.68, 0.0)\n",
       " :chest => (610.0, 6.24, 0.0)\n",
       "  :feet => (496.0, 2.18, 0.0)\n",
       "  :head => (420.0, 2.5, 0.0)"
      ]
     },
     "execution_count": 247,
     "metadata": {},
     "output_type": "execute_result"
    }
   ],
   "source": [
    "map(x->x=>total_stats(\"Cobalt\", \"Cobalt\", \"Cobalt\", x), base_multiplier |> keys |> collect)"
   ]
  },
  {
   "cell_type": "markdown",
   "metadata": {},
   "source": [
    "4-element Array{Pair{Symbol,Float64},1}:\n",
    "-  :legs => 573.0\n",
    "- :chest => 610.0\n",
    "-  :feet => 496.0\n",
    "-  :head => 420.0"
   ]
  },
  {
   "cell_type": "code",
   "execution_count": 248,
   "metadata": {},
   "outputs": [
    {
     "data": {
      "text/plain": [
       "4-element Array{Pair{Symbol,Tuple{Float64,Float64,Float64}},1}:\n",
       "  :legs => (273.0, 4.5, 0.0)\n",
       " :chest => (291.0, 6.0, 0.0)\n",
       "  :feet => (237.0, 2.1, 0.0)\n",
       "  :head => (200.0, 2.4, 0.0)"
      ]
     },
     "execution_count": 248,
     "metadata": {},
     "output_type": "execute_result"
    }
   ],
   "source": [
    "map(x->x=>total_stats(\"Iron\", \"Iron\", \"Iron\", x), base_multiplier |> keys |> collect)"
   ]
  },
  {
   "cell_type": "markdown",
   "metadata": {},
   "source": [
    "4-element Array{Pair{Symbol,Float64},1}:\n",
    "-  :legs => 273.0\n",
    "- :chest => 291.0\n",
    "-  :feet => 237.0\n",
    "-  :head => 200.0"
   ]
  },
  {
   "cell_type": "code",
   "execution_count": 249,
   "metadata": {},
   "outputs": [
    {
     "data": {
      "text/plain": [
       "4-element Array{Pair{Symbol,Tuple{Float64,Float64,Float64}},1}:\n",
       "  :legs => (471.0, 4.86, 1.25)\n",
       " :chest => (502.0, 6.48, 1.25)\n",
       "  :feet => (409.0, 2.27, 1.25)\n",
       "  :head => (346.0, 2.59, 1.25)"
      ]
     },
     "execution_count": 249,
     "metadata": {},
     "output_type": "execute_result"
    }
   ],
   "source": [
    "map(x->x=>total_stats(\"Obsidian\", \"Bronze\", \"Cobalt\", x), base_multiplier |> keys |> collect)"
   ]
  },
  {
   "cell_type": "markdown",
   "metadata": {},
   "source": [
    "4-element Array{Pair{Symbol,Float64},1}:\n",
    "-  :legs => 471.0\n",
    "- :chest => 502.0\n",
    "-  :feet => 409.0\n",
    "-  :head => 346.0"
   ]
  },
  {
   "cell_type": "code",
   "execution_count": 250,
   "metadata": {},
   "outputs": [
    {
     "data": {
      "text/plain": [
       "4-element Array{Pair{Symbol,Tuple{Float64,Float64,Float64}},1}:\n",
       "  :legs => (543.0, 6.0, 3.0)\n",
       " :chest => (579.0, 8.0, 3.0)\n",
       "  :feet => (471.0, 2.8, 3.0)\n",
       "  :head => (398.0, 3.2, 3.0)"
      ]
     },
     "execution_count": 250,
     "metadata": {},
     "output_type": "execute_result"
    }
   ],
   "source": [
    "map(x->x=>total_stats(\"Manyullyn\", \"Manyullyn\", \"Manyullyn\", x), base_multiplier |> keys |> collect)"
   ]
  },
  {
   "cell_type": "code",
   "execution_count": 251,
   "metadata": {},
   "outputs": [
    {
     "data": {
      "text/plain": [
       "4-element Array{Pair{Symbol,Tuple{Float64,Float64,Float64}},1}:\n",
       "  :legs => (627.0, 3.9, 5.0)\n",
       " :chest => (669.0, 5.2, 5.0)\n",
       "  :feet => (543.0, 1.82, 5.0)\n",
       "  :head => (460.0, 2.08, 5.0)"
      ]
     },
     "execution_count": 251,
     "metadata": {},
     "output_type": "execute_result"
    }
   ],
   "source": [
    "map(x->x=>total_stats(\"Ardite\", \"Sponge\", \"Manyullyn\", x), base_multiplier |> keys |> collect)"
   ]
  },
  {
   "cell_type": "code",
   "execution_count": 252,
   "metadata": {},
   "outputs": [
    {
     "data": {
      "text/plain": [
       "4-element Array{Pair{Symbol,Tuple{Float64,Float64,Float64}},1}:\n",
       "  :legs => (568.0, 7.2, 6.0)\n",
       " :chest => (605.0, 9.6, 6.0)\n",
       "  :feet => (492.0, 3.36, 6.0)\n",
       "  :head => (417.0, 3.84, 6.0)"
      ]
     },
     "execution_count": 252,
     "metadata": {},
     "output_type": "execute_result"
    }
   ],
   "source": [
    "map(x->x=>total_stats(\"Manyullyn\", \"Sponge\", \"Steel\", x), base_multiplier |> keys |> collect)"
   ]
  },
  {
   "cell_type": "code",
   "execution_count": 253,
   "metadata": {},
   "outputs": [
    {
     "data": {
      "text/plain": [
       "4-element Array{Pair{Symbol,Tuple{Float64,Float64,Float64}},1}:\n",
       "  :legs => (488.0, 7.2, 7.65)\n",
       " :chest => (520.0, 9.6, 7.65)\n",
       "  :feet => (423.0, 3.36, 7.65)\n",
       "  :head => (358.0, 3.84, 7.65)"
      ]
     },
     "execution_count": 253,
     "metadata": {},
     "output_type": "execute_result"
    }
   ],
   "source": [
    "map(x->x=>total_stats(\"Manyullyn\", \"Steel\", \"Bone\", x), base_multiplier |> keys |> collect)"
   ]
  },
  {
   "cell_type": "code",
   "execution_count": 254,
   "metadata": {},
   "outputs": [
    {
     "data": {
      "text/plain": [
       "4-element Array{Pair{Symbol,Tuple{Float64,Float64,Float64}},1}:\n",
       "  :legs => (466.0, 6.0, 2.0)\n",
       " :chest => (496.0, 8.0, 2.0)\n",
       "  :feet => (404.0, 2.8, 2.0)\n",
       "  :head => (342.0, 3.2, 2.0)"
      ]
     },
     "execution_count": 254,
     "metadata": {},
     "output_type": "execute_result"
    }
   ],
   "source": [
    "map(x->x=>total_stats(\"Manyullyn\", \"Bone\", \"Bone\", x), base_multiplier |> keys |> collect)"
   ]
  },
  {
   "cell_type": "markdown",
   "metadata": {},
   "source": [
    "\"Manyullyn\", \"Bone\", \"Bone\" head should be 342, 3.2, 2\n",
    "\n",
    "\"Manyullyn\", \"Steel\", \"Bone\" head should be 358, 3.84, 7.65"
   ]
  },
  {
   "cell_type": "code",
   "execution_count": null,
   "metadata": {},
   "outputs": [],
   "source": []
  },
  {
   "cell_type": "markdown",
   "metadata": {},
   "source": [
    "cobalt:\n",
    "- head: 420, 2.5\n",
    "- chest: 610, 6.24\n",
    "- legs: 573, 4.68\n",
    "- feet: 496, 2.18"
   ]
  },
  {
   "cell_type": "markdown",
   "metadata": {},
   "source": [
    "iron:\n",
    "- head: 200, 2.4\n",
    "- chest: 291, 6\n",
    "- legs: 273, 4.5\n",
    "- feet: 237, 2.1"
   ]
  },
  {
   "cell_type": "code",
   "execution_count": 112,
   "metadata": {},
   "outputs": [
    {
     "data": {
      "text/plain": [
       "4-element Array{Float64,1}:\n",
       " 572.0\n",
       " 610.0\n",
       " 496.0\n",
       " 419.0"
      ]
     },
     "execution_count": 112,
     "metadata": {},
     "output_type": "execute_result"
    }
   ],
   "source": [
    "map(x->total_stats(\"Cobalt\", \"Cobalt\", \"Cobalt\", x), base_multiplier |> keys |> collect)"
   ]
  },
  {
   "cell_type": "code",
   "execution_count": 229,
   "metadata": {},
   "outputs": [
    {
     "data": {
      "text/plain": [
       "8.1"
      ]
     },
     "execution_count": 229,
     "metadata": {},
     "output_type": "execute_result"
    }
   ],
   "source": [
    "4.5*1.5*1.2"
   ]
  },
  {
   "cell_type": "code",
   "execution_count": 230,
   "metadata": {},
   "outputs": [
    {
     "data": {
      "text/plain": [
       "2.25"
      ]
     },
     "execution_count": 230,
     "metadata": {},
     "output_type": "execute_result"
    }
   ],
   "source": [
    "1*1.5*1.5"
   ]
  },
  {
   "cell_type": "code",
   "execution_count": 231,
   "metadata": {},
   "outputs": [
    {
     "data": {
      "text/plain": [
       "5.1000000000000005"
      ]
     },
     "execution_count": 231,
     "metadata": {},
     "output_type": "execute_result"
    }
   ],
   "source": [
    "7.65/1.5"
   ]
  },
  {
   "cell_type": "code",
   "execution_count": 233,
   "metadata": {},
   "outputs": [
    {
     "data": {
      "text/plain": [
       "6.375000000000001"
      ]
     },
     "execution_count": 233,
     "metadata": {},
     "output_type": "execute_result"
    }
   ],
   "source": [
    "7.65/1.2"
   ]
  },
  {
   "cell_type": "code",
   "execution_count": 234,
   "metadata": {},
   "outputs": [
    {
     "data": {
      "text/plain": [
       "1.7000000000000002"
      ]
     },
     "execution_count": 234,
     "metadata": {},
     "output_type": "execute_result"
    }
   ],
   "source": [
    "7.65/4.5"
   ]
  },
  {
   "cell_type": "code",
   "execution_count": 235,
   "metadata": {},
   "outputs": [
    {
     "data": {
      "text/plain": [
       "1.7999999999999998"
      ]
     },
     "execution_count": 235,
     "metadata": {},
     "output_type": "execute_result"
    }
   ],
   "source": [
    "1.5*1.2"
   ]
  },
  {
   "cell_type": "code",
   "execution_count": 238,
   "metadata": {},
   "outputs": [
    {
     "data": {
      "text/plain": [
       "7.65"
      ]
     },
     "execution_count": 238,
     "metadata": {},
     "output_type": "execute_result"
    }
   ],
   "source": [
    "4.5*1.5+4.5*0.2"
   ]
  },
  {
   "cell_type": "markdown",
   "metadata": {},
   "source": [
    "some maybe relevant things, but it's more for tools than armor https://docs.google.com/spreadsheets/d/1g40JSmZNyav8-qYI3owxA1IvEIhI10ebs9QAoPpGS4g/edit#gid=1882082548"
   ]
  },
  {
   "cell_type": "markdown",
   "metadata": {},
   "source": [
    "# and now, the grid search"
   ]
  },
  {
   "cell_type": "code",
   "execution_count": 255,
   "metadata": {},
   "outputs": [],
   "source": [
    "pos = :head\n",
    "combs = Dict((i, j, k)=>total_stats(i, j, k, pos) for (i, j, k) in Iterators.product(my_materials, my_materials, my_materials));"
   ]
  },
  {
   "cell_type": "code",
   "execution_count": 271,
   "metadata": {
    "scrolled": false
   },
   "outputs": [],
   "source": [
    "comb_df = DataFrame(\n",
    "    Dict(:core=>k[1], :plate=>k[2], :trim=>k[3], :durability=>v[1], :armor=>v[2], :toughness=>v[3]) for (k, v) in combs\n",
    "    )\n",
    "comb_df = select(comb_df, [:armor, :durability, :toughness, :core, :plate, :trim]); # force column ordering"
   ]
  },
  {
   "cell_type": "code",
   "execution_count": 267,
   "metadata": {
    "scrolled": false
   },
   "outputs": [
    {
     "data": {
      "text/html": [
       "<table class=\"data-frame\"><thead><tr><th></th><th>armor</th><th>durability</th><th>toughness</th><th>core</th><th>plate</th><th>trim</th></tr><tr><th></th><th>Float64</th><th>Float64</th><th>Float64</th><th>String</th><th>String</th><th>String</th></tr></thead><tbody><p>19,683 rows × 6 columns</p><tr><th>1</th><td>3.84</td><td>358.0</td><td>7.65</td><td>Manyullyn</td><td>Steel</td><td>Bone</td></tr><tr><th>2</th><td>3.84</td><td>417.0</td><td>6.0</td><td>Manyullyn</td><td>Sponge</td><td>Steel</td></tr><tr><th>3</th><td>3.84</td><td>466.0</td><td>5.4</td><td>Manyullyn</td><td>Steel</td><td>Ardite</td></tr><tr><th>4</th><td>3.84</td><td>448.0</td><td>5.4</td><td>Manyullyn</td><td>Steel</td><td>Slime Crystal</td></tr><tr><th>5</th><td>3.84</td><td>444.0</td><td>5.4</td><td>Manyullyn</td><td>Steel</td><td>Cobalt</td></tr><tr><th>6</th><td>3.84</td><td>434.0</td><td>5.4</td><td>Manyullyn</td><td>Steel</td><td>Electrum</td></tr><tr><th>7</th><td>3.84</td><td>434.0</td><td>5.4</td><td>Manyullyn</td><td>Steel</td><td>Sponge</td></tr><tr><th>8</th><td>3.84</td><td>424.0</td><td>5.4</td><td>Manyullyn</td><td>Steel</td><td>Blue Slime Crystal</td></tr><tr><th>9</th><td>3.84</td><td>409.0</td><td>5.4</td><td>Manyullyn</td><td>Steel</td><td>Pig Iron</td></tr><tr><th>10</th><td>3.84</td><td>404.0</td><td>5.4</td><td>Manyullyn</td><td>Steel</td><td>Silver</td></tr><tr><th>11</th><td>3.84</td><td>404.0</td><td>5.4</td><td>Manyullyn</td><td>Steel</td><td>Firewood</td></tr><tr><th>12</th><td>3.84</td><td>404.0</td><td>5.4</td><td>Manyullyn</td><td>Steel</td><td>Magma Slime Crystal</td></tr><tr><th>13</th><td>3.84</td><td>394.0</td><td>5.4</td><td>Manyullyn</td><td>Steel</td><td>Knightslime</td></tr><tr><th>14</th><td>3.84</td><td>385.0</td><td>5.4</td><td>Manyullyn</td><td>Steel</td><td>Prismarine</td></tr><tr><th>15</th><td>3.84</td><td>385.0</td><td>5.4</td><td>Manyullyn</td><td>Steel</td><td>Copper</td></tr><tr><th>16</th><td>3.84</td><td>385.0</td><td>5.4</td><td>Manyullyn</td><td>Steel</td><td>Lead</td></tr><tr><th>17</th><td>3.84</td><td>375.0</td><td>5.4</td><td>Manyullyn</td><td>Steel</td><td>Obsidian</td></tr><tr><th>18</th><td>3.84</td><td>369.0</td><td>5.4</td><td>Manyullyn</td><td>Steel</td><td>Bronze</td></tr><tr><th>19</th><td>3.84</td><td>359.0</td><td>5.4</td><td>Manyullyn</td><td>Steel</td><td>Netherrack</td></tr><tr><th>20</th><td>3.84</td><td>340.0</td><td>5.4</td><td>Manyullyn</td><td>Steel</td><td>Manyullyn</td></tr><tr><th>&vellip;</th><td>&vellip;</td><td>&vellip;</td><td>&vellip;</td><td>&vellip;</td><td>&vellip;</td><td>&vellip;</td></tr></tbody></table>"
      ],
      "text/latex": [
       "\\begin{tabular}{r|cccccc}\n",
       "\t& armor & durability & toughness & core & plate & trim\\\\\n",
       "\t\\hline\n",
       "\t& Float64 & Float64 & Float64 & String & String & String\\\\\n",
       "\t\\hline\n",
       "\t1 & 3.84 & 358.0 & 7.65 & Manyullyn & Steel & Bone \\\\\n",
       "\t2 & 3.84 & 417.0 & 6.0 & Manyullyn & Sponge & Steel \\\\\n",
       "\t3 & 3.84 & 466.0 & 5.4 & Manyullyn & Steel & Ardite \\\\\n",
       "\t4 & 3.84 & 448.0 & 5.4 & Manyullyn & Steel & Slime Crystal \\\\\n",
       "\t5 & 3.84 & 444.0 & 5.4 & Manyullyn & Steel & Cobalt \\\\\n",
       "\t6 & 3.84 & 434.0 & 5.4 & Manyullyn & Steel & Electrum \\\\\n",
       "\t7 & 3.84 & 434.0 & 5.4 & Manyullyn & Steel & Sponge \\\\\n",
       "\t8 & 3.84 & 424.0 & 5.4 & Manyullyn & Steel & Blue Slime Crystal \\\\\n",
       "\t9 & 3.84 & 409.0 & 5.4 & Manyullyn & Steel & Pig Iron \\\\\n",
       "\t10 & 3.84 & 404.0 & 5.4 & Manyullyn & Steel & Silver \\\\\n",
       "\t11 & 3.84 & 404.0 & 5.4 & Manyullyn & Steel & Firewood \\\\\n",
       "\t12 & 3.84 & 404.0 & 5.4 & Manyullyn & Steel & Magma Slime Crystal \\\\\n",
       "\t13 & 3.84 & 394.0 & 5.4 & Manyullyn & Steel & Knightslime \\\\\n",
       "\t14 & 3.84 & 385.0 & 5.4 & Manyullyn & Steel & Prismarine \\\\\n",
       "\t15 & 3.84 & 385.0 & 5.4 & Manyullyn & Steel & Copper \\\\\n",
       "\t16 & 3.84 & 385.0 & 5.4 & Manyullyn & Steel & Lead \\\\\n",
       "\t17 & 3.84 & 375.0 & 5.4 & Manyullyn & Steel & Obsidian \\\\\n",
       "\t18 & 3.84 & 369.0 & 5.4 & Manyullyn & Steel & Bronze \\\\\n",
       "\t19 & 3.84 & 359.0 & 5.4 & Manyullyn & Steel & Netherrack \\\\\n",
       "\t20 & 3.84 & 340.0 & 5.4 & Manyullyn & Steel & Manyullyn \\\\\n",
       "\t$\\dots$ & $\\dots$ & $\\dots$ & $\\dots$ & $\\dots$ & $\\dots$ & $\\dots$ \\\\\n",
       "\\end{tabular}\n"
      ],
      "text/plain": [
       "19683×6 DataFrame. Omitted printing of 1 columns\n",
       "│ Row   │ armor   │ durability │ toughness │ core      │ plate      │\n",
       "│       │ \u001B[90mFloat64\u001B[39m │ \u001B[90mFloat64\u001B[39m    │ \u001B[90mFloat64\u001B[39m   │ \u001B[90mString\u001B[39m    │ \u001B[90mString\u001B[39m     │\n",
       "├───────┼─────────┼────────────┼───────────┼───────────┼────────────┤\n",
       "│ 1     │ 3.84    │ 358.0      │ 7.65      │ Manyullyn │ Steel      │\n",
       "│ 2     │ 3.84    │ 417.0      │ 6.0       │ Manyullyn │ Sponge     │\n",
       "│ 3     │ 3.84    │ 466.0      │ 5.4       │ Manyullyn │ Steel      │\n",
       "│ 4     │ 3.84    │ 448.0      │ 5.4       │ Manyullyn │ Steel      │\n",
       "│ 5     │ 3.84    │ 444.0      │ 5.4       │ Manyullyn │ Steel      │\n",
       "⋮\n",
       "│ 19678 │ 0.08    │ -73.0      │ 0.0       │ Paper     │ Netherrack │\n",
       "│ 19679 │ 0.08    │ -81.0      │ 0.0       │ Paper     │ Netherrack │\n",
       "│ 19680 │ 0.08    │ -82.0      │ 0.0       │ Paper     │ Netherrack │\n",
       "│ 19681 │ 0.08    │ -99.0      │ 0.0       │ Paper     │ Netherrack │\n",
       "│ 19682 │ 0.08    │ -101.0     │ 0.0       │ Paper     │ Netherrack │\n",
       "│ 19683 │ 0.08    │ -101.0     │ 0.0       │ Paper     │ Netherrack │"
      ]
     },
     "execution_count": 267,
     "metadata": {},
     "output_type": "execute_result"
    }
   ],
   "source": [
    "ENV[\"LINES\"] = 20\n",
    "sort(comb_df, [:armor, :toughness, :durability], rev=true)[1:20]"
   ]
  },
  {
   "cell_type": "code",
   "execution_count": 277,
   "metadata": {},
   "outputs": [],
   "source": [
    "using Latexify, Markdown"
   ]
  },
  {
   "cell_type": "code",
   "execution_count": 294,
   "metadata": {
    "scrolled": true
   },
   "outputs": [
    {
     "name": "stdout",
     "output_type": "stream",
     "text": [
      "| armor | durability | toughness |      core |  plate |          trim |\n",
      "| -----:| ----------:| ---------:| ---------:| ------:| -------------:|\n",
      "|  3.84 |      358.0 |      7.65 | Manyullyn |  Steel |          Bone |\n",
      "|  3.84 |      417.0 |       6.0 | Manyullyn | Sponge |         Steel |\n",
      "|  3.84 |      466.0 |       5.4 | Manyullyn |  Steel |        Ardite |\n",
      "|  3.84 |      448.0 |       5.4 | Manyullyn |  Steel | Slime Crystal |\n",
      "|  3.84 |      444.0 |       5.4 | Manyullyn |  Steel |        Cobalt |\n"
     ]
    }
   ],
   "source": [
    "print(latexify(sort(comb_df, [:armor, :toughness, :durability], rev=true)[1:5, :]; env=:mdtable, latex=false))"
   ]
  },
  {
   "cell_type": "code",
   "execution_count": 268,
   "metadata": {
    "scrolled": true
   },
   "outputs": [
    {
     "data": {
      "text/html": [
       "<table class=\"data-frame\"><thead><tr><th></th><th>armor</th><th>durability</th><th>toughness</th><th>core</th><th>plate</th><th>trim</th></tr><tr><th></th><th>Float64</th><th>Float64</th><th>Float64</th><th>String</th><th>String</th><th>String</th></tr></thead><tbody><p>19,683 rows × 6 columns</p><tr><th>1</th><td>3.84</td><td>358.0</td><td>7.65</td><td>Manyullyn</td><td>Steel</td><td>Bone</td></tr><tr><th>2</th><td>3.72</td><td>340.0</td><td>7.65</td><td>Magma Slime Crystal</td><td>Steel</td><td>Bone</td></tr><tr><th>3</th><td>3.61</td><td>321.0</td><td>7.65</td><td>Prismarine</td><td>Steel</td><td>Bone</td></tr><tr><th>4</th><td>3.53</td><td>331.0</td><td>7.65</td><td>Steel</td><td>Steel</td><td>Bone</td></tr><tr><th>5</th><td>3.36</td><td>331.0</td><td>7.65</td><td>Firewood</td><td>Steel</td><td>Bone</td></tr><tr><th>6</th><td>3.28</td><td>360.0</td><td>7.65</td><td>Knightslime</td><td>Steel</td><td>Bone</td></tr><tr><th>7</th><td>3.26</td><td>291.0</td><td>7.65</td><td>Silver</td><td>Steel</td><td>Bone</td></tr><tr><th>8</th><td>3.21</td><td>311.0</td><td>7.65</td><td>Pig Iron</td><td>Steel</td><td>Bone</td></tr><tr><th>9</th><td>3.11</td><td>257.0</td><td>7.65</td><td>Obsidian</td><td>Steel</td><td>Bone</td></tr><tr><th>10</th><td>3.0</td><td>356.0</td><td>7.65</td><td>Cobalt</td><td>Steel</td><td>Bone</td></tr><tr><th>11</th><td>2.88</td><td>281.0</td><td>7.65</td><td>Iron</td><td>Steel</td><td>Bone</td></tr><tr><th>12</th><td>2.5</td><td>366.0</td><td>7.65</td><td>Ardite</td><td>Steel</td><td>Bone</td></tr><tr><th>13</th><td>2.3</td><td>321.0</td><td>7.65</td><td>Bronze</td><td>Steel</td><td>Bone</td></tr><tr><th>14</th><td>2.11</td><td>321.0</td><td>7.65</td><td>Lead</td><td>Steel</td><td>Bone</td></tr><tr><th>15</th><td>1.92</td><td>286.0</td><td>7.65</td><td>Cactus</td><td>Steel</td><td>Bone</td></tr><tr><th>16</th><td>1.73</td><td>316.0</td><td>7.65</td><td>End Stone</td><td>Steel</td><td>Bone</td></tr><tr><th>17</th><td>1.56</td><td>197.0</td><td>7.65</td><td>Electrum</td><td>Steel</td><td>Bone</td></tr><tr><th>18</th><td>1.54</td><td>281.0</td><td>7.65</td><td>Copper</td><td>Steel</td><td>Bone</td></tr><tr><th>19</th><td>1.02</td><td>296.0</td><td>7.65</td><td>Netherrack</td><td>Steel</td><td>Bone</td></tr><tr><th>20</th><td>0.96</td><td>199.0</td><td>7.65</td><td>Stone</td><td>Steel</td><td>Bone</td></tr><tr><th>&vellip;</th><td>&vellip;</td><td>&vellip;</td><td>&vellip;</td><td>&vellip;</td><td>&vellip;</td><td>&vellip;</td></tr></tbody></table>"
      ],
      "text/latex": [
       "\\begin{tabular}{r|cccccc}\n",
       "\t& armor & durability & toughness & core & plate & trim\\\\\n",
       "\t\\hline\n",
       "\t& Float64 & Float64 & Float64 & String & String & String\\\\\n",
       "\t\\hline\n",
       "\t1 & 3.84 & 358.0 & 7.65 & Manyullyn & Steel & Bone \\\\\n",
       "\t2 & 3.72 & 340.0 & 7.65 & Magma Slime Crystal & Steel & Bone \\\\\n",
       "\t3 & 3.61 & 321.0 & 7.65 & Prismarine & Steel & Bone \\\\\n",
       "\t4 & 3.53 & 331.0 & 7.65 & Steel & Steel & Bone \\\\\n",
       "\t5 & 3.36 & 331.0 & 7.65 & Firewood & Steel & Bone \\\\\n",
       "\t6 & 3.28 & 360.0 & 7.65 & Knightslime & Steel & Bone \\\\\n",
       "\t7 & 3.26 & 291.0 & 7.65 & Silver & Steel & Bone \\\\\n",
       "\t8 & 3.21 & 311.0 & 7.65 & Pig Iron & Steel & Bone \\\\\n",
       "\t9 & 3.11 & 257.0 & 7.65 & Obsidian & Steel & Bone \\\\\n",
       "\t10 & 3.0 & 356.0 & 7.65 & Cobalt & Steel & Bone \\\\\n",
       "\t11 & 2.88 & 281.0 & 7.65 & Iron & Steel & Bone \\\\\n",
       "\t12 & 2.5 & 366.0 & 7.65 & Ardite & Steel & Bone \\\\\n",
       "\t13 & 2.3 & 321.0 & 7.65 & Bronze & Steel & Bone \\\\\n",
       "\t14 & 2.11 & 321.0 & 7.65 & Lead & Steel & Bone \\\\\n",
       "\t15 & 1.92 & 286.0 & 7.65 & Cactus & Steel & Bone \\\\\n",
       "\t16 & 1.73 & 316.0 & 7.65 & End Stone & Steel & Bone \\\\\n",
       "\t17 & 1.56 & 197.0 & 7.65 & Electrum & Steel & Bone \\\\\n",
       "\t18 & 1.54 & 281.0 & 7.65 & Copper & Steel & Bone \\\\\n",
       "\t19 & 1.02 & 296.0 & 7.65 & Netherrack & Steel & Bone \\\\\n",
       "\t20 & 0.96 & 199.0 & 7.65 & Stone & Steel & Bone \\\\\n",
       "\t$\\dots$ & $\\dots$ & $\\dots$ & $\\dots$ & $\\dots$ & $\\dots$ & $\\dots$ \\\\\n",
       "\\end{tabular}\n"
      ],
      "text/plain": [
       "19683×6 DataFrame. Omitted printing of 1 columns\n",
       "│ Row   │ armor   │ durability │ toughness │ core                │ plate      │\n",
       "│       │ \u001B[90mFloat64\u001B[39m │ \u001B[90mFloat64\u001B[39m    │ \u001B[90mFloat64\u001B[39m   │ \u001B[90mString\u001B[39m              │ \u001B[90mString\u001B[39m     │\n",
       "├───────┼─────────┼────────────┼───────────┼─────────────────────┼────────────┤\n",
       "│ 1     │ 3.84    │ 358.0      │ 7.65      │ Manyullyn           │ Steel      │\n",
       "│ 2     │ 3.72    │ 340.0      │ 7.65      │ Magma Slime Crystal │ Steel      │\n",
       "│ 3     │ 3.61    │ 321.0      │ 7.65      │ Prismarine          │ Steel      │\n",
       "│ 4     │ 3.53    │ 331.0      │ 7.65      │ Steel               │ Steel      │\n",
       "│ 5     │ 3.36    │ 331.0      │ 7.65      │ Firewood            │ Steel      │\n",
       "⋮\n",
       "│ 19678 │ 0.08    │ -73.0      │ 0.0       │ Paper               │ Netherrack │\n",
       "│ 19679 │ 0.08    │ -81.0      │ 0.0       │ Paper               │ Netherrack │\n",
       "│ 19680 │ 0.08    │ -82.0      │ 0.0       │ Paper               │ Netherrack │\n",
       "│ 19681 │ 0.08    │ -99.0      │ 0.0       │ Paper               │ Netherrack │\n",
       "│ 19682 │ 0.08    │ -101.0     │ 0.0       │ Paper               │ Netherrack │\n",
       "│ 19683 │ 0.08    │ -101.0     │ 0.0       │ Paper               │ Netherrack │"
      ]
     },
     "execution_count": 268,
     "metadata": {},
     "output_type": "execute_result"
    }
   ],
   "source": [
    "ENV[\"LINES\"] = 20\n",
    "sort(comb_df, [:toughness, :armor, :durability], rev=true)"
   ]
  },
  {
   "cell_type": "code",
   "execution_count": 293,
   "metadata": {},
   "outputs": [
    {
     "name": "stdout",
     "output_type": "stream",
     "text": [
      "| armor | durability | toughness |                core | plate | trim |\n",
      "| -----:| ----------:| ---------:| -------------------:| -----:| ----:|\n",
      "|  3.84 |      358.0 |      7.65 |           Manyullyn | Steel | Bone |\n",
      "|  3.72 |      340.0 |      7.65 | Magma Slime Crystal | Steel | Bone |\n",
      "|  3.61 |      321.0 |      7.65 |          Prismarine | Steel | Bone |\n",
      "|  3.53 |      331.0 |      7.65 |               Steel | Steel | Bone |\n",
      "|  3.36 |      331.0 |      7.65 |            Firewood | Steel | Bone |\n"
     ]
    }
   ],
   "source": [
    "print(latexify(sort(comb_df, [:toughness, :armor, :durability], rev=true)[1:5, :]; env=:mdtable, latex=false))"
   ]
  },
  {
   "cell_type": "code",
   "execution_count": 269,
   "metadata": {
    "scrolled": true
   },
   "outputs": [
    {
     "data": {
      "text/html": [
       "<table class=\"data-frame\"><thead><tr><th></th><th>armor</th><th>durability</th><th>toughness</th><th>core</th><th>plate</th><th>trim</th></tr><tr><th></th><th>Float64</th><th>Float64</th><th>Float64</th><th>String</th><th>String</th><th>String</th></tr></thead><tbody><p>19,683 rows × 6 columns</p><tr><th>1</th><td>0.16</td><td>634.0</td><td>5.0</td><td>Sponge</td><td>Sponge</td><td>Ardite</td></tr><tr><th>2</th><td>0.32</td><td>630.0</td><td>5.0</td><td>Slime Crystal</td><td>Sponge</td><td>Ardite</td></tr><tr><th>3</th><td>2.08</td><td>628.0</td><td>5.0</td><td>Ardite</td><td>Sponge</td><td>Ardite</td></tr><tr><th>4</th><td>2.74</td><td>621.0</td><td>5.0</td><td>Knightslime</td><td>Sponge</td><td>Ardite</td></tr><tr><th>5</th><td>3.2</td><td>617.0</td><td>5.0</td><td>Manyullyn</td><td>Sponge</td><td>Ardite</td></tr><tr><th>6</th><td>2.5</td><td>615.0</td><td>5.0</td><td>Cobalt</td><td>Sponge</td><td>Ardite</td></tr><tr><th>7</th><td>0.29</td><td>615.0</td><td>5.0</td><td>Blue Slime Crystal</td><td>Sponge</td><td>Ardite</td></tr><tr><th>8</th><td>0.16</td><td>612.0</td><td>5.0</td><td>Sponge</td><td>Sponge</td><td>Slime Crystal</td></tr><tr><th>9</th><td>0.32</td><td>607.0</td><td>5.0</td><td>Slime Crystal</td><td>Sponge</td><td>Slime Crystal</td></tr><tr><th>10</th><td>2.08</td><td>605.0</td><td>5.0</td><td>Ardite</td><td>Sponge</td><td>Slime Crystal</td></tr><tr><th>11</th><td>0.16</td><td>605.0</td><td>5.0</td><td>Sponge</td><td>Sponge</td><td>Cobalt</td></tr><tr><th>12</th><td>0.32</td><td>601.0</td><td>5.0</td><td>Slime Crystal</td><td>Sponge</td><td>Cobalt</td></tr><tr><th>13</th><td>2.74</td><td>599.0</td><td>5.0</td><td>Knightslime</td><td>Sponge</td><td>Slime Crystal</td></tr><tr><th>14</th><td>2.08</td><td>599.0</td><td>5.0</td><td>Ardite</td><td>Sponge</td><td>Cobalt</td></tr><tr><th>15</th><td>3.2</td><td>594.0</td><td>5.0</td><td>Manyullyn</td><td>Sponge</td><td>Slime Crystal</td></tr><tr><th>16</th><td>3.1</td><td>594.0</td><td>5.0</td><td>Magma Slime Crystal</td><td>Sponge</td><td>Ardite</td></tr><tr><th>17</th><td>2.74</td><td>592.0</td><td>5.0</td><td>Knightslime</td><td>Sponge</td><td>Cobalt</td></tr><tr><th>18</th><td>2.5</td><td>592.0</td><td>5.0</td><td>Cobalt</td><td>Sponge</td><td>Slime Crystal</td></tr><tr><th>19</th><td>0.29</td><td>592.0</td><td>5.0</td><td>Blue Slime Crystal</td><td>Sponge</td><td>Slime Crystal</td></tr><tr><th>20</th><td>0.16</td><td>592.0</td><td>5.0</td><td>Sponge</td><td>Sponge</td><td>Sponge</td></tr><tr><th>&vellip;</th><td>&vellip;</td><td>&vellip;</td><td>&vellip;</td><td>&vellip;</td><td>&vellip;</td><td>&vellip;</td></tr></tbody></table>"
      ],
      "text/latex": [
       "\\begin{tabular}{r|cccccc}\n",
       "\t& armor & durability & toughness & core & plate & trim\\\\\n",
       "\t\\hline\n",
       "\t& Float64 & Float64 & Float64 & String & String & String\\\\\n",
       "\t\\hline\n",
       "\t1 & 0.16 & 634.0 & 5.0 & Sponge & Sponge & Ardite \\\\\n",
       "\t2 & 0.32 & 630.0 & 5.0 & Slime Crystal & Sponge & Ardite \\\\\n",
       "\t3 & 2.08 & 628.0 & 5.0 & Ardite & Sponge & Ardite \\\\\n",
       "\t4 & 2.74 & 621.0 & 5.0 & Knightslime & Sponge & Ardite \\\\\n",
       "\t5 & 3.2 & 617.0 & 5.0 & Manyullyn & Sponge & Ardite \\\\\n",
       "\t6 & 2.5 & 615.0 & 5.0 & Cobalt & Sponge & Ardite \\\\\n",
       "\t7 & 0.29 & 615.0 & 5.0 & Blue Slime Crystal & Sponge & Ardite \\\\\n",
       "\t8 & 0.16 & 612.0 & 5.0 & Sponge & Sponge & Slime Crystal \\\\\n",
       "\t9 & 0.32 & 607.0 & 5.0 & Slime Crystal & Sponge & Slime Crystal \\\\\n",
       "\t10 & 2.08 & 605.0 & 5.0 & Ardite & Sponge & Slime Crystal \\\\\n",
       "\t11 & 0.16 & 605.0 & 5.0 & Sponge & Sponge & Cobalt \\\\\n",
       "\t12 & 0.32 & 601.0 & 5.0 & Slime Crystal & Sponge & Cobalt \\\\\n",
       "\t13 & 2.74 & 599.0 & 5.0 & Knightslime & Sponge & Slime Crystal \\\\\n",
       "\t14 & 2.08 & 599.0 & 5.0 & Ardite & Sponge & Cobalt \\\\\n",
       "\t15 & 3.2 & 594.0 & 5.0 & Manyullyn & Sponge & Slime Crystal \\\\\n",
       "\t16 & 3.1 & 594.0 & 5.0 & Magma Slime Crystal & Sponge & Ardite \\\\\n",
       "\t17 & 2.74 & 592.0 & 5.0 & Knightslime & Sponge & Cobalt \\\\\n",
       "\t18 & 2.5 & 592.0 & 5.0 & Cobalt & Sponge & Slime Crystal \\\\\n",
       "\t19 & 0.29 & 592.0 & 5.0 & Blue Slime Crystal & Sponge & Slime Crystal \\\\\n",
       "\t20 & 0.16 & 592.0 & 5.0 & Sponge & Sponge & Sponge \\\\\n",
       "\t$\\dots$ & $\\dots$ & $\\dots$ & $\\dots$ & $\\dots$ & $\\dots$ & $\\dots$ \\\\\n",
       "\\end{tabular}\n"
      ],
      "text/plain": [
       "19683×6 DataFrame. Omitted printing of 2 columns\n",
       "│ Row   │ armor   │ durability │ toughness │ core          │\n",
       "│       │ \u001B[90mFloat64\u001B[39m │ \u001B[90mFloat64\u001B[39m    │ \u001B[90mFloat64\u001B[39m   │ \u001B[90mString\u001B[39m        │\n",
       "├───────┼─────────┼────────────┼───────────┼───────────────┤\n",
       "│ 1     │ 0.16    │ 634.0      │ 5.0       │ Sponge        │\n",
       "│ 2     │ 0.32    │ 630.0      │ 5.0       │ Slime Crystal │\n",
       "│ 3     │ 2.08    │ 628.0      │ 5.0       │ Ardite        │\n",
       "│ 4     │ 2.74    │ 621.0      │ 5.0       │ Knightslime   │\n",
       "│ 5     │ 3.2     │ 617.0      │ 5.0       │ Manyullyn     │\n",
       "⋮\n",
       "│ 19678 │ 0.08    │ -119.0     │ 0.5       │ Paper         │\n",
       "│ 19679 │ 0.08    │ -121.0     │ 2.5       │ Paper         │\n",
       "│ 19680 │ 0.08    │ -122.0     │ 0.5       │ Paper         │\n",
       "│ 19681 │ 0.08    │ -122.0     │ 0.5       │ Paper         │\n",
       "│ 19682 │ 0.08    │ -123.0     │ 2.5       │ Paper         │\n",
       "│ 19683 │ 0.08    │ -123.0     │ 2.5       │ Paper         │"
      ]
     },
     "execution_count": 269,
     "metadata": {},
     "output_type": "execute_result"
    }
   ],
   "source": [
    "ENV[\"LINES\"] = 20\n",
    "sort(comb_df, [:durability, :armor, :toughness], rev=true)"
   ]
  },
  {
   "cell_type": "code",
   "execution_count": 292,
   "metadata": {},
   "outputs": [
    {
     "name": "stdout",
     "output_type": "stream",
     "text": [
      "| armor | durability | toughness |          core |  plate |   trim |\n",
      "| -----:| ----------:| ---------:| -------------:| ------:| ------:|\n",
      "|  0.16 |      634.0 |       5.0 |        Sponge | Sponge | Ardite |\n",
      "|  0.32 |      630.0 |       5.0 | Slime Crystal | Sponge | Ardite |\n",
      "|  2.08 |      628.0 |       5.0 |        Ardite | Sponge | Ardite |\n",
      "|  2.74 |      621.0 |       5.0 |   Knightslime | Sponge | Ardite |\n",
      "|   3.2 |      617.0 |       5.0 |     Manyullyn | Sponge | Ardite |\n"
     ]
    }
   ],
   "source": [
    "print(latexify(sort(comb_df, [:durability, :armor, :toughness], rev=true)[1:5, :]; env=:mdtable, latex=false))"
   ]
  },
  {
   "cell_type": "code",
   "execution_count": 270,
   "metadata": {
    "scrolled": false
   },
   "outputs": [
    {
     "data": {
      "text/html": [
       "<table class=\"data-frame\"><thead><tr><th></th><th>armor</th><th>durability</th><th>toughness</th><th>core</th><th>plate</th><th>trim</th></tr><tr><th></th><th>Float64</th><th>Float64</th><th>Float64</th><th>String</th><th>String</th><th>String</th></tr></thead><tbody><p>10,403 rows × 6 columns</p><tr><th>1</th><td>3.84</td><td>358.0</td><td>7.65</td><td>Manyullyn</td><td>Steel</td><td>Bone</td></tr><tr><th>2</th><td>3.84</td><td>417.0</td><td>6.0</td><td>Manyullyn</td><td>Sponge</td><td>Steel</td></tr><tr><th>3</th><td>3.84</td><td>466.0</td><td>5.4</td><td>Manyullyn</td><td>Steel</td><td>Ardite</td></tr><tr><th>4</th><td>3.84</td><td>448.0</td><td>5.4</td><td>Manyullyn</td><td>Steel</td><td>Slime Crystal</td></tr><tr><th>5</th><td>3.84</td><td>444.0</td><td>5.4</td><td>Manyullyn</td><td>Steel</td><td>Cobalt</td></tr><tr><th>6</th><td>3.84</td><td>434.0</td><td>5.4</td><td>Manyullyn</td><td>Steel</td><td>Electrum</td></tr><tr><th>7</th><td>3.84</td><td>434.0</td><td>5.4</td><td>Manyullyn</td><td>Steel</td><td>Sponge</td></tr><tr><th>8</th><td>3.84</td><td>424.0</td><td>5.4</td><td>Manyullyn</td><td>Steel</td><td>Blue Slime Crystal</td></tr><tr><th>9</th><td>3.84</td><td>409.0</td><td>5.4</td><td>Manyullyn</td><td>Steel</td><td>Pig Iron</td></tr><tr><th>10</th><td>3.84</td><td>404.0</td><td>5.4</td><td>Manyullyn</td><td>Steel</td><td>Silver</td></tr><tr><th>11</th><td>3.84</td><td>404.0</td><td>5.4</td><td>Manyullyn</td><td>Steel</td><td>Firewood</td></tr><tr><th>12</th><td>3.84</td><td>404.0</td><td>5.4</td><td>Manyullyn</td><td>Steel</td><td>Magma Slime Crystal</td></tr><tr><th>13</th><td>3.84</td><td>394.0</td><td>5.4</td><td>Manyullyn</td><td>Steel</td><td>Knightslime</td></tr><tr><th>14</th><td>3.84</td><td>385.0</td><td>5.4</td><td>Manyullyn</td><td>Steel</td><td>Prismarine</td></tr><tr><th>15</th><td>3.84</td><td>385.0</td><td>5.4</td><td>Manyullyn</td><td>Steel</td><td>Copper</td></tr><tr><th>16</th><td>3.84</td><td>385.0</td><td>5.4</td><td>Manyullyn</td><td>Steel</td><td>Lead</td></tr><tr><th>17</th><td>3.84</td><td>375.0</td><td>5.4</td><td>Manyullyn</td><td>Steel</td><td>Obsidian</td></tr><tr><th>18</th><td>3.84</td><td>369.0</td><td>5.4</td><td>Manyullyn</td><td>Steel</td><td>Bronze</td></tr><tr><th>19</th><td>3.84</td><td>359.0</td><td>5.4</td><td>Manyullyn</td><td>Steel</td><td>Netherrack</td></tr><tr><th>20</th><td>3.84</td><td>340.0</td><td>5.4</td><td>Manyullyn</td><td>Steel</td><td>Manyullyn</td></tr><tr><th>21</th><td>3.84</td><td>340.0</td><td>5.4</td><td>Manyullyn</td><td>Steel</td><td>Iron</td></tr><tr><th>22</th><td>3.84</td><td>340.0</td><td>5.4</td><td>Manyullyn</td><td>Steel</td><td>Cactus</td></tr><tr><th>23</th><td>3.84</td><td>331.0</td><td>5.4</td><td>Manyullyn</td><td>Steel</td><td>Flint</td></tr><tr><th>24</th><td>3.84</td><td>331.0</td><td>5.4</td><td>Manyullyn</td><td>Steel</td><td>End Stone</td></tr><tr><th>25</th><td>3.84</td><td>315.0</td><td>5.4</td><td>Manyullyn</td><td>Steel</td><td>Steel</td></tr><tr><th>26</th><td>3.84</td><td>313.0</td><td>5.4</td><td>Manyullyn</td><td>Steel</td><td>Stone</td></tr><tr><th>27</th><td>3.84</td><td>310.0</td><td>5.4</td><td>Manyullyn</td><td>Steel</td><td>Wood</td></tr><tr><th>28</th><td>3.84</td><td>310.0</td><td>5.4</td><td>Manyullyn</td><td>Steel</td><td>Paper</td></tr><tr><th>29</th><td>3.84</td><td>371.0</td><td>3.6</td><td>Manyullyn</td><td>Manyullyn</td><td>Steel</td></tr><tr><th>30</th><td>3.84</td><td>258.0</td><td>2.7</td><td>Manyullyn</td><td>Blue Slime Crystal</td><td>Steel</td></tr><tr><th>31</th><td>3.84</td><td>256.0</td><td>2.4</td><td>Manyullyn</td><td>Silver</td><td>Steel</td></tr><tr><th>32</th><td>3.84</td><td>290.0</td><td>1.7</td><td>Manyullyn</td><td>Bone</td><td>Steel</td></tr><tr><th>33</th><td>3.84</td><td>312.0</td><td>1.5</td><td>Manyullyn</td><td>Bronze</td><td>Steel</td></tr><tr><th>34</th><td>3.84</td><td>298.0</td><td>1.2</td><td>Manyullyn</td><td>Knightslime</td><td>Steel</td></tr><tr><th>35</th><td>3.84</td><td>274.0</td><td>1.2</td><td>Manyullyn</td><td>Pig Iron</td><td>Steel</td></tr><tr><th>36</th><td>3.84</td><td>293.0</td><td>0.0</td><td>Manyullyn</td><td>Cobalt</td><td>Steel</td></tr><tr><th>37</th><td>3.84</td><td>261.0</td><td>0.0</td><td>Manyullyn</td><td>Copper</td><td>Steel</td></tr><tr><th>38</th><td>3.84</td><td>249.0</td><td>0.0</td><td>Manyullyn</td><td>Iron</td><td>Steel</td></tr><tr><th>39</th><td>3.84</td><td>240.0</td><td>0.0</td><td>Manyullyn</td><td>Electrum</td><td>Steel</td></tr><tr><th>40</th><td>3.84</td><td>239.0</td><td>0.0</td><td>Manyullyn</td><td>Wood</td><td>Steel</td></tr><tr><th>41</th><td>3.84</td><td>202.0</td><td>0.0</td><td>Manyullyn</td><td>Cactus</td><td>Steel</td></tr><tr><th>42</th><td>3.72</td><td>340.0</td><td>7.65</td><td>Magma Slime Crystal</td><td>Steel</td><td>Bone</td></tr><tr><th>43</th><td>3.72</td><td>394.0</td><td>6.0</td><td>Magma Slime Crystal</td><td>Sponge</td><td>Steel</td></tr><tr><th>44</th><td>3.72</td><td>448.0</td><td>5.4</td><td>Magma Slime Crystal</td><td>Steel</td><td>Ardite</td></tr><tr><th>45</th><td>3.72</td><td>432.0</td><td>5.4</td><td>Magma Slime Crystal</td><td>Steel</td><td>Slime Crystal</td></tr><tr><th>46</th><td>3.72</td><td>427.0</td><td>5.4</td><td>Magma Slime Crystal</td><td>Steel</td><td>Cobalt</td></tr><tr><th>47</th><td>3.72</td><td>417.0</td><td>5.4</td><td>Magma Slime Crystal</td><td>Steel</td><td>Sponge</td></tr><tr><th>48</th><td>3.72</td><td>417.0</td><td>5.4</td><td>Magma Slime Crystal</td><td>Steel</td><td>Electrum</td></tr><tr><th>49</th><td>3.72</td><td>407.0</td><td>5.4</td><td>Magma Slime Crystal</td><td>Steel</td><td>Blue Slime Crystal</td></tr><tr><th>50</th><td>3.72</td><td>393.0</td><td>5.4</td><td>Magma Slime Crystal</td><td>Steel</td><td>Pig Iron</td></tr><tr><th>51</th><td>3.72</td><td>387.0</td><td>5.4</td><td>Magma Slime Crystal</td><td>Steel</td><td>Silver</td></tr><tr><th>52</th><td>3.72</td><td>387.0</td><td>5.4</td><td>Magma Slime Crystal</td><td>Steel</td><td>Magma Slime Crystal</td></tr><tr><th>53</th><td>3.72</td><td>387.0</td><td>5.4</td><td>Magma Slime Crystal</td><td>Steel</td><td>Firewood</td></tr><tr><th>54</th><td>3.72</td><td>377.0</td><td>5.4</td><td>Magma Slime Crystal</td><td>Steel</td><td>Knightslime</td></tr><tr><th>55</th><td>3.72</td><td>367.0</td><td>5.4</td><td>Magma Slime Crystal</td><td>Steel</td><td>Lead</td></tr><tr><th>56</th><td>3.72</td><td>367.0</td><td>5.4</td><td>Magma Slime Crystal</td><td>Steel</td><td>Prismarine</td></tr><tr><th>57</th><td>3.72</td><td>367.0</td><td>5.4</td><td>Magma Slime Crystal</td><td>Steel</td><td>Copper</td></tr><tr><th>58</th><td>3.72</td><td>358.0</td><td>5.4</td><td>Magma Slime Crystal</td><td>Steel</td><td>Obsidian</td></tr><tr><th>59</th><td>3.72</td><td>353.0</td><td>5.4</td><td>Magma Slime Crystal</td><td>Steel</td><td>Bronze</td></tr><tr><th>60</th><td>3.72</td><td>343.0</td><td>5.4</td><td>Magma Slime Crystal</td><td>Steel</td><td>Netherrack</td></tr><tr><th>61</th><td>3.72</td><td>323.0</td><td>5.4</td><td>Magma Slime Crystal</td><td>Steel</td><td>Manyullyn</td></tr><tr><th>62</th><td>3.72</td><td>323.0</td><td>5.4</td><td>Magma Slime Crystal</td><td>Steel</td><td>Iron</td></tr><tr><th>63</th><td>3.72</td><td>323.0</td><td>5.4</td><td>Magma Slime Crystal</td><td>Steel</td><td>Cactus</td></tr><tr><th>64</th><td>3.72</td><td>315.0</td><td>5.4</td><td>Magma Slime Crystal</td><td>Steel</td><td>End Stone</td></tr><tr><th>65</th><td>3.72</td><td>314.0</td><td>5.4</td><td>Magma Slime Crystal</td><td>Steel</td><td>Flint</td></tr><tr><th>66</th><td>3.72</td><td>298.0</td><td>5.4</td><td>Magma Slime Crystal</td><td>Steel</td><td>Steel</td></tr><tr><th>67</th><td>3.72</td><td>295.0</td><td>5.4</td><td>Magma Slime Crystal</td><td>Steel</td><td>Stone</td></tr><tr><th>68</th><td>3.72</td><td>294.0</td><td>5.4</td><td>Magma Slime Crystal</td><td>Steel</td><td>Wood</td></tr><tr><th>69</th><td>3.72</td><td>294.0</td><td>5.4</td><td>Magma Slime Crystal</td><td>Steel</td><td>Paper</td></tr><tr><th>70</th><td>3.72</td><td>352.0</td><td>3.6</td><td>Magma Slime Crystal</td><td>Manyullyn</td><td>Steel</td></tr><tr><th>71</th><td>3.72</td><td>234.0</td><td>2.7</td><td>Magma Slime Crystal</td><td>Blue Slime Crystal</td><td>Steel</td></tr><tr><th>72</th><td>3.72</td><td>238.0</td><td>2.4</td><td>Magma Slime Crystal</td><td>Silver</td><td>Steel</td></tr><tr><th>73</th><td>3.72</td><td>269.0</td><td>1.7</td><td>Magma Slime Crystal</td><td>Bone</td><td>Steel</td></tr><tr><th>74</th><td>3.72</td><td>291.0</td><td>1.5</td><td>Magma Slime Crystal</td><td>Bronze</td><td>Steel</td></tr><tr><th>75</th><td>3.72</td><td>289.0</td><td>1.2</td><td>Magma Slime Crystal</td><td>Knightslime</td><td>Steel</td></tr><tr><th>76</th><td>3.72</td><td>251.0</td><td>1.2</td><td>Magma Slime Crystal</td><td>Pig Iron</td><td>Steel</td></tr><tr><th>77</th><td>3.72</td><td>276.0</td><td>0.0</td><td>Magma Slime Crystal</td><td>Cobalt</td><td>Steel</td></tr><tr><th>78</th><td>3.72</td><td>241.0</td><td>0.0</td><td>Magma Slime Crystal</td><td>Copper</td><td>Steel</td></tr><tr><th>79</th><td>3.72</td><td>233.0</td><td>0.0</td><td>Magma Slime Crystal</td><td>Iron</td><td>Steel</td></tr><tr><th>80</th><td>3.72</td><td>220.0</td><td>0.0</td><td>Magma Slime Crystal</td><td>Wood</td><td>Steel</td></tr><tr><th>81</th><td>3.72</td><td>219.0</td><td>0.0</td><td>Magma Slime Crystal</td><td>Electrum</td><td>Steel</td></tr><tr><th>82</th><td>3.61</td><td>321.0</td><td>7.65</td><td>Prismarine</td><td>Steel</td><td>Bone</td></tr><tr><th>83</th><td>3.61</td><td>367.0</td><td>6.0</td><td>Prismarine</td><td>Sponge</td><td>Steel</td></tr><tr><th>84</th><td>3.61</td><td>429.0</td><td>5.4</td><td>Prismarine</td><td>Steel</td><td>Ardite</td></tr><tr><th>85</th><td>3.61</td><td>412.0</td><td>5.4</td><td>Prismarine</td><td>Steel</td><td>Slime Crystal</td></tr><tr><th>86</th><td>3.61</td><td>407.0</td><td>5.4</td><td>Prismarine</td><td>Steel</td><td>Cobalt</td></tr><tr><th>87</th><td>3.61</td><td>397.0</td><td>5.4</td><td>Prismarine</td><td>Steel</td><td>Electrum</td></tr><tr><th>88</th><td>3.61</td><td>397.0</td><td>5.4</td><td>Prismarine</td><td>Steel</td><td>Sponge</td></tr><tr><th>89</th><td>3.61</td><td>387.0</td><td>5.4</td><td>Prismarine</td><td>Steel</td><td>Blue Slime Crystal</td></tr><tr><th>90</th><td>3.61</td><td>373.0</td><td>5.4</td><td>Prismarine</td><td>Steel</td><td>Pig Iron</td></tr><tr><th>91</th><td>3.61</td><td>367.0</td><td>5.4</td><td>Prismarine</td><td>Steel</td><td>Silver</td></tr><tr><th>92</th><td>3.61</td><td>367.0</td><td>5.4</td><td>Prismarine</td><td>Steel</td><td>Magma Slime Crystal</td></tr><tr><th>93</th><td>3.61</td><td>367.0</td><td>5.4</td><td>Prismarine</td><td>Steel</td><td>Firewood</td></tr><tr><th>94</th><td>3.61</td><td>358.0</td><td>5.4</td><td>Prismarine</td><td>Steel</td><td>Knightslime</td></tr><tr><th>95</th><td>3.61</td><td>348.0</td><td>5.4</td><td>Prismarine</td><td>Steel</td><td>Lead</td></tr><tr><th>96</th><td>3.61</td><td>348.0</td><td>5.4</td><td>Prismarine</td><td>Steel</td><td>Prismarine</td></tr><tr><th>97</th><td>3.61</td><td>348.0</td><td>5.4</td><td>Prismarine</td><td>Steel</td><td>Copper</td></tr><tr><th>98</th><td>3.61</td><td>338.0</td><td>5.4</td><td>Prismarine</td><td>Steel</td><td>Obsidian</td></tr><tr><th>99</th><td>3.61</td><td>333.0</td><td>5.4</td><td>Prismarine</td><td>Steel</td><td>Bronze</td></tr><tr><th>100</th><td>3.61</td><td>323.0</td><td>5.4</td><td>Prismarine</td><td>Steel</td><td>Netherrack</td></tr><tr><th>&vellip;</th><td>&vellip;</td><td>&vellip;</td><td>&vellip;</td><td>&vellip;</td><td>&vellip;</td><td>&vellip;</td></tr></tbody></table>"
      ],
      "text/latex": [
       "\\begin{tabular}{r|cccccc}\n",
       "\t& armor & durability & toughness & core & plate & trim\\\\\n",
       "\t\\hline\n",
       "\t& Float64 & Float64 & Float64 & String & String & String\\\\\n",
       "\t\\hline\n",
       "\t1 & 3.84 & 358.0 & 7.65 & Manyullyn & Steel & Bone \\\\\n",
       "\t2 & 3.84 & 417.0 & 6.0 & Manyullyn & Sponge & Steel \\\\\n",
       "\t3 & 3.84 & 466.0 & 5.4 & Manyullyn & Steel & Ardite \\\\\n",
       "\t4 & 3.84 & 448.0 & 5.4 & Manyullyn & Steel & Slime Crystal \\\\\n",
       "\t5 & 3.84 & 444.0 & 5.4 & Manyullyn & Steel & Cobalt \\\\\n",
       "\t6 & 3.84 & 434.0 & 5.4 & Manyullyn & Steel & Electrum \\\\\n",
       "\t7 & 3.84 & 434.0 & 5.4 & Manyullyn & Steel & Sponge \\\\\n",
       "\t8 & 3.84 & 424.0 & 5.4 & Manyullyn & Steel & Blue Slime Crystal \\\\\n",
       "\t9 & 3.84 & 409.0 & 5.4 & Manyullyn & Steel & Pig Iron \\\\\n",
       "\t10 & 3.84 & 404.0 & 5.4 & Manyullyn & Steel & Silver \\\\\n",
       "\t11 & 3.84 & 404.0 & 5.4 & Manyullyn & Steel & Firewood \\\\\n",
       "\t12 & 3.84 & 404.0 & 5.4 & Manyullyn & Steel & Magma Slime Crystal \\\\\n",
       "\t13 & 3.84 & 394.0 & 5.4 & Manyullyn & Steel & Knightslime \\\\\n",
       "\t14 & 3.84 & 385.0 & 5.4 & Manyullyn & Steel & Prismarine \\\\\n",
       "\t15 & 3.84 & 385.0 & 5.4 & Manyullyn & Steel & Copper \\\\\n",
       "\t16 & 3.84 & 385.0 & 5.4 & Manyullyn & Steel & Lead \\\\\n",
       "\t17 & 3.84 & 375.0 & 5.4 & Manyullyn & Steel & Obsidian \\\\\n",
       "\t18 & 3.84 & 369.0 & 5.4 & Manyullyn & Steel & Bronze \\\\\n",
       "\t19 & 3.84 & 359.0 & 5.4 & Manyullyn & Steel & Netherrack \\\\\n",
       "\t20 & 3.84 & 340.0 & 5.4 & Manyullyn & Steel & Manyullyn \\\\\n",
       "\t21 & 3.84 & 340.0 & 5.4 & Manyullyn & Steel & Iron \\\\\n",
       "\t22 & 3.84 & 340.0 & 5.4 & Manyullyn & Steel & Cactus \\\\\n",
       "\t23 & 3.84 & 331.0 & 5.4 & Manyullyn & Steel & Flint \\\\\n",
       "\t24 & 3.84 & 331.0 & 5.4 & Manyullyn & Steel & End Stone \\\\\n",
       "\t25 & 3.84 & 315.0 & 5.4 & Manyullyn & Steel & Steel \\\\\n",
       "\t26 & 3.84 & 313.0 & 5.4 & Manyullyn & Steel & Stone \\\\\n",
       "\t27 & 3.84 & 310.0 & 5.4 & Manyullyn & Steel & Wood \\\\\n",
       "\t28 & 3.84 & 310.0 & 5.4 & Manyullyn & Steel & Paper \\\\\n",
       "\t29 & 3.84 & 371.0 & 3.6 & Manyullyn & Manyullyn & Steel \\\\\n",
       "\t30 & 3.84 & 258.0 & 2.7 & Manyullyn & Blue Slime Crystal & Steel \\\\\n",
       "\t31 & 3.84 & 256.0 & 2.4 & Manyullyn & Silver & Steel \\\\\n",
       "\t32 & 3.84 & 290.0 & 1.7 & Manyullyn & Bone & Steel \\\\\n",
       "\t33 & 3.84 & 312.0 & 1.5 & Manyullyn & Bronze & Steel \\\\\n",
       "\t34 & 3.84 & 298.0 & 1.2 & Manyullyn & Knightslime & Steel \\\\\n",
       "\t35 & 3.84 & 274.0 & 1.2 & Manyullyn & Pig Iron & Steel \\\\\n",
       "\t36 & 3.84 & 293.0 & 0.0 & Manyullyn & Cobalt & Steel \\\\\n",
       "\t37 & 3.84 & 261.0 & 0.0 & Manyullyn & Copper & Steel \\\\\n",
       "\t38 & 3.84 & 249.0 & 0.0 & Manyullyn & Iron & Steel \\\\\n",
       "\t39 & 3.84 & 240.0 & 0.0 & Manyullyn & Electrum & Steel \\\\\n",
       "\t40 & 3.84 & 239.0 & 0.0 & Manyullyn & Wood & Steel \\\\\n",
       "\t41 & 3.84 & 202.0 & 0.0 & Manyullyn & Cactus & Steel \\\\\n",
       "\t42 & 3.72 & 340.0 & 7.65 & Magma Slime Crystal & Steel & Bone \\\\\n",
       "\t43 & 3.72 & 394.0 & 6.0 & Magma Slime Crystal & Sponge & Steel \\\\\n",
       "\t44 & 3.72 & 448.0 & 5.4 & Magma Slime Crystal & Steel & Ardite \\\\\n",
       "\t45 & 3.72 & 432.0 & 5.4 & Magma Slime Crystal & Steel & Slime Crystal \\\\\n",
       "\t46 & 3.72 & 427.0 & 5.4 & Magma Slime Crystal & Steel & Cobalt \\\\\n",
       "\t47 & 3.72 & 417.0 & 5.4 & Magma Slime Crystal & Steel & Sponge \\\\\n",
       "\t48 & 3.72 & 417.0 & 5.4 & Magma Slime Crystal & Steel & Electrum \\\\\n",
       "\t49 & 3.72 & 407.0 & 5.4 & Magma Slime Crystal & Steel & Blue Slime Crystal \\\\\n",
       "\t50 & 3.72 & 393.0 & 5.4 & Magma Slime Crystal & Steel & Pig Iron \\\\\n",
       "\t51 & 3.72 & 387.0 & 5.4 & Magma Slime Crystal & Steel & Silver \\\\\n",
       "\t52 & 3.72 & 387.0 & 5.4 & Magma Slime Crystal & Steel & Magma Slime Crystal \\\\\n",
       "\t53 & 3.72 & 387.0 & 5.4 & Magma Slime Crystal & Steel & Firewood \\\\\n",
       "\t54 & 3.72 & 377.0 & 5.4 & Magma Slime Crystal & Steel & Knightslime \\\\\n",
       "\t55 & 3.72 & 367.0 & 5.4 & Magma Slime Crystal & Steel & Lead \\\\\n",
       "\t56 & 3.72 & 367.0 & 5.4 & Magma Slime Crystal & Steel & Prismarine \\\\\n",
       "\t57 & 3.72 & 367.0 & 5.4 & Magma Slime Crystal & Steel & Copper \\\\\n",
       "\t58 & 3.72 & 358.0 & 5.4 & Magma Slime Crystal & Steel & Obsidian \\\\\n",
       "\t59 & 3.72 & 353.0 & 5.4 & Magma Slime Crystal & Steel & Bronze \\\\\n",
       "\t60 & 3.72 & 343.0 & 5.4 & Magma Slime Crystal & Steel & Netherrack \\\\\n",
       "\t61 & 3.72 & 323.0 & 5.4 & Magma Slime Crystal & Steel & Manyullyn \\\\\n",
       "\t62 & 3.72 & 323.0 & 5.4 & Magma Slime Crystal & Steel & Iron \\\\\n",
       "\t63 & 3.72 & 323.0 & 5.4 & Magma Slime Crystal & Steel & Cactus \\\\\n",
       "\t64 & 3.72 & 315.0 & 5.4 & Magma Slime Crystal & Steel & End Stone \\\\\n",
       "\t65 & 3.72 & 314.0 & 5.4 & Magma Slime Crystal & Steel & Flint \\\\\n",
       "\t66 & 3.72 & 298.0 & 5.4 & Magma Slime Crystal & Steel & Steel \\\\\n",
       "\t67 & 3.72 & 295.0 & 5.4 & Magma Slime Crystal & Steel & Stone \\\\\n",
       "\t68 & 3.72 & 294.0 & 5.4 & Magma Slime Crystal & Steel & Wood \\\\\n",
       "\t69 & 3.72 & 294.0 & 5.4 & Magma Slime Crystal & Steel & Paper \\\\\n",
       "\t70 & 3.72 & 352.0 & 3.6 & Magma Slime Crystal & Manyullyn & Steel \\\\\n",
       "\t71 & 3.72 & 234.0 & 2.7 & Magma Slime Crystal & Blue Slime Crystal & Steel \\\\\n",
       "\t72 & 3.72 & 238.0 & 2.4 & Magma Slime Crystal & Silver & Steel \\\\\n",
       "\t73 & 3.72 & 269.0 & 1.7 & Magma Slime Crystal & Bone & Steel \\\\\n",
       "\t74 & 3.72 & 291.0 & 1.5 & Magma Slime Crystal & Bronze & Steel \\\\\n",
       "\t75 & 3.72 & 289.0 & 1.2 & Magma Slime Crystal & Knightslime & Steel \\\\\n",
       "\t76 & 3.72 & 251.0 & 1.2 & Magma Slime Crystal & Pig Iron & Steel \\\\\n",
       "\t77 & 3.72 & 276.0 & 0.0 & Magma Slime Crystal & Cobalt & Steel \\\\\n",
       "\t78 & 3.72 & 241.0 & 0.0 & Magma Slime Crystal & Copper & Steel \\\\\n",
       "\t79 & 3.72 & 233.0 & 0.0 & Magma Slime Crystal & Iron & Steel \\\\\n",
       "\t80 & 3.72 & 220.0 & 0.0 & Magma Slime Crystal & Wood & Steel \\\\\n",
       "\t81 & 3.72 & 219.0 & 0.0 & Magma Slime Crystal & Electrum & Steel \\\\\n",
       "\t82 & 3.61 & 321.0 & 7.65 & Prismarine & Steel & Bone \\\\\n",
       "\t83 & 3.61 & 367.0 & 6.0 & Prismarine & Sponge & Steel \\\\\n",
       "\t84 & 3.61 & 429.0 & 5.4 & Prismarine & Steel & Ardite \\\\\n",
       "\t85 & 3.61 & 412.0 & 5.4 & Prismarine & Steel & Slime Crystal \\\\\n",
       "\t86 & 3.61 & 407.0 & 5.4 & Prismarine & Steel & Cobalt \\\\\n",
       "\t87 & 3.61 & 397.0 & 5.4 & Prismarine & Steel & Electrum \\\\\n",
       "\t88 & 3.61 & 397.0 & 5.4 & Prismarine & Steel & Sponge \\\\\n",
       "\t89 & 3.61 & 387.0 & 5.4 & Prismarine & Steel & Blue Slime Crystal \\\\\n",
       "\t90 & 3.61 & 373.0 & 5.4 & Prismarine & Steel & Pig Iron \\\\\n",
       "\t91 & 3.61 & 367.0 & 5.4 & Prismarine & Steel & Silver \\\\\n",
       "\t92 & 3.61 & 367.0 & 5.4 & Prismarine & Steel & Magma Slime Crystal \\\\\n",
       "\t93 & 3.61 & 367.0 & 5.4 & Prismarine & Steel & Firewood \\\\\n",
       "\t94 & 3.61 & 358.0 & 5.4 & Prismarine & Steel & Knightslime \\\\\n",
       "\t95 & 3.61 & 348.0 & 5.4 & Prismarine & Steel & Lead \\\\\n",
       "\t96 & 3.61 & 348.0 & 5.4 & Prismarine & Steel & Prismarine \\\\\n",
       "\t97 & 3.61 & 348.0 & 5.4 & Prismarine & Steel & Copper \\\\\n",
       "\t98 & 3.61 & 338.0 & 5.4 & Prismarine & Steel & Obsidian \\\\\n",
       "\t99 & 3.61 & 333.0 & 5.4 & Prismarine & Steel & Bronze \\\\\n",
       "\t100 & 3.61 & 323.0 & 5.4 & Prismarine & Steel & Netherrack \\\\\n",
       "\t$\\dots$ & $\\dots$ & $\\dots$ & $\\dots$ & $\\dots$ & $\\dots$ & $\\dots$ \\\\\n",
       "\\end{tabular}\n"
      ],
      "text/plain": [
       "10403×6 DataFrame. Omitted printing of 2 columns\n",
       "│ Row   │ armor   │ durability │ toughness │ core                │\n",
       "│       │ \u001B[90mFloat64\u001B[39m │ \u001B[90mFloat64\u001B[39m    │ \u001B[90mFloat64\u001B[39m   │ \u001B[90mString\u001B[39m              │\n",
       "├───────┼─────────┼────────────┼───────────┼─────────────────────┤\n",
       "│ 1     │ 3.84    │ 358.0      │ 7.65      │ Manyullyn           │\n",
       "│ 2     │ 3.84    │ 417.0      │ 6.0       │ Manyullyn           │\n",
       "│ 3     │ 3.84    │ 466.0      │ 5.4       │ Manyullyn           │\n",
       "│ 4     │ 3.84    │ 448.0      │ 5.4       │ Manyullyn           │\n",
       "│ 5     │ 3.84    │ 444.0      │ 5.4       │ Manyullyn           │\n",
       "│ 6     │ 3.84    │ 434.0      │ 5.4       │ Manyullyn           │\n",
       "│ 7     │ 3.84    │ 434.0      │ 5.4       │ Manyullyn           │\n",
       "│ 8     │ 3.84    │ 424.0      │ 5.4       │ Manyullyn           │\n",
       "│ 9     │ 3.84    │ 409.0      │ 5.4       │ Manyullyn           │\n",
       "│ 10    │ 3.84    │ 404.0      │ 5.4       │ Manyullyn           │\n",
       "│ 11    │ 3.84    │ 404.0      │ 5.4       │ Manyullyn           │\n",
       "│ 12    │ 3.84    │ 404.0      │ 5.4       │ Manyullyn           │\n",
       "│ 13    │ 3.84    │ 394.0      │ 5.4       │ Manyullyn           │\n",
       "│ 14    │ 3.84    │ 385.0      │ 5.4       │ Manyullyn           │\n",
       "│ 15    │ 3.84    │ 385.0      │ 5.4       │ Manyullyn           │\n",
       "│ 16    │ 3.84    │ 385.0      │ 5.4       │ Manyullyn           │\n",
       "│ 17    │ 3.84    │ 375.0      │ 5.4       │ Manyullyn           │\n",
       "│ 18    │ 3.84    │ 369.0      │ 5.4       │ Manyullyn           │\n",
       "│ 19    │ 3.84    │ 359.0      │ 5.4       │ Manyullyn           │\n",
       "│ 20    │ 3.84    │ 340.0      │ 5.4       │ Manyullyn           │\n",
       "│ 21    │ 3.84    │ 340.0      │ 5.4       │ Manyullyn           │\n",
       "│ 22    │ 3.84    │ 340.0      │ 5.4       │ Manyullyn           │\n",
       "│ 23    │ 3.84    │ 331.0      │ 5.4       │ Manyullyn           │\n",
       "│ 24    │ 3.84    │ 331.0      │ 5.4       │ Manyullyn           │\n",
       "│ 25    │ 3.84    │ 315.0      │ 5.4       │ Manyullyn           │\n",
       "│ 26    │ 3.84    │ 313.0      │ 5.4       │ Manyullyn           │\n",
       "│ 27    │ 3.84    │ 310.0      │ 5.4       │ Manyullyn           │\n",
       "│ 28    │ 3.84    │ 310.0      │ 5.4       │ Manyullyn           │\n",
       "│ 29    │ 3.84    │ 371.0      │ 3.6       │ Manyullyn           │\n",
       "│ 30    │ 3.84    │ 258.0      │ 2.7       │ Manyullyn           │\n",
       "│ 31    │ 3.84    │ 256.0      │ 2.4       │ Manyullyn           │\n",
       "│ 32    │ 3.84    │ 290.0      │ 1.7       │ Manyullyn           │\n",
       "│ 33    │ 3.84    │ 312.0      │ 1.5       │ Manyullyn           │\n",
       "│ 34    │ 3.84    │ 298.0      │ 1.2       │ Manyullyn           │\n",
       "│ 35    │ 3.84    │ 274.0      │ 1.2       │ Manyullyn           │\n",
       "│ 36    │ 3.84    │ 293.0      │ 0.0       │ Manyullyn           │\n",
       "│ 37    │ 3.84    │ 261.0      │ 0.0       │ Manyullyn           │\n",
       "│ 38    │ 3.84    │ 249.0      │ 0.0       │ Manyullyn           │\n",
       "│ 39    │ 3.84    │ 240.0      │ 0.0       │ Manyullyn           │\n",
       "│ 40    │ 3.84    │ 239.0      │ 0.0       │ Manyullyn           │\n",
       "│ 41    │ 3.84    │ 202.0      │ 0.0       │ Manyullyn           │\n",
       "│ 42    │ 3.72    │ 340.0      │ 7.65      │ Magma Slime Crystal │\n",
       "│ 43    │ 3.72    │ 394.0      │ 6.0       │ Magma Slime Crystal │\n",
       "│ 44    │ 3.72    │ 448.0      │ 5.4       │ Magma Slime Crystal │\n",
       "│ 45    │ 3.72    │ 432.0      │ 5.4       │ Magma Slime Crystal │\n",
       "⋮\n",
       "│ 10358 │ 0.08    │ 208.0      │ 3.0       │ Paper               │\n",
       "│ 10359 │ 0.08    │ 200.0      │ 2.25      │ Paper               │\n",
       "│ 10360 │ 0.08    │ 213.0      │ 2.0       │ Paper               │\n",
       "│ 10361 │ 0.08    │ 240.0      │ 1.5       │ Paper               │\n",
       "│ 10362 │ 0.08    │ 219.0      │ 1.5       │ Paper               │\n",
       "│ 10363 │ 0.08    │ 216.0      │ 1.5       │ Paper               │\n",
       "│ 10364 │ 0.08    │ 213.0      │ 1.5       │ Paper               │\n",
       "│ 10365 │ 0.08    │ 201.0      │ 1.5       │ Paper               │\n",
       "│ 10366 │ 0.08    │ 201.0      │ 1.5       │ Paper               │\n",
       "│ 10367 │ 0.08    │ 262.0      │ 1.25      │ Paper               │\n",
       "│ 10368 │ 0.08    │ 241.0      │ 1.25      │ Paper               │\n",
       "│ 10369 │ 0.08    │ 235.0      │ 1.25      │ Paper               │\n",
       "│ 10370 │ 0.08    │ 223.0      │ 1.25      │ Paper               │\n",
       "│ 10371 │ 0.08    │ 223.0      │ 1.25      │ Paper               │\n",
       "│ 10372 │ 0.08    │ 211.0      │ 1.25      │ Paper               │\n",
       "│ 10373 │ 0.08    │ 276.0      │ 1.0       │ Paper               │\n",
       "│ 10374 │ 0.08    │ 266.0      │ 1.0       │ Paper               │\n",
       "│ 10375 │ 0.08    │ 263.0      │ 1.0       │ Paper               │\n",
       "│ 10376 │ 0.08    │ 258.0      │ 1.0       │ Paper               │\n",
       "│ 10377 │ 0.08    │ 258.0      │ 1.0       │ Paper               │\n",
       "│ 10378 │ 0.08    │ 252.0      │ 1.0       │ Paper               │\n",
       "│ 10379 │ 0.08    │ 244.0      │ 1.0       │ Paper               │\n",
       "│ 10380 │ 0.08    │ 241.0      │ 1.0       │ Paper               │\n",
       "│ 10381 │ 0.08    │ 241.0      │ 1.0       │ Paper               │\n",
       "│ 10382 │ 0.08    │ 241.0      │ 1.0       │ Paper               │\n",
       "│ 10383 │ 0.08    │ 236.0      │ 1.0       │ Paper               │\n",
       "│ 10384 │ 0.08    │ 230.0      │ 1.0       │ Paper               │\n",
       "│ 10385 │ 0.08    │ 230.0      │ 1.0       │ Paper               │\n",
       "│ 10386 │ 0.08    │ 230.0      │ 1.0       │ Paper               │\n",
       "│ 10387 │ 0.08    │ 225.0      │ 1.0       │ Paper               │\n",
       "│ 10388 │ 0.08    │ 222.0      │ 1.0       │ Paper               │\n",
       "│ 10389 │ 0.08    │ 220.0      │ 1.0       │ Paper               │\n",
       "│ 10390 │ 0.08    │ 217.0      │ 1.0       │ Paper               │\n",
       "│ 10391 │ 0.08    │ 206.0      │ 1.0       │ Paper               │\n",
       "│ 10392 │ 0.08    │ 206.0      │ 1.0       │ Paper               │\n",
       "│ 10393 │ 0.08    │ 206.0      │ 1.0       │ Paper               │\n",
       "│ 10394 │ 0.08    │ 201.0      │ 1.0       │ Paper               │\n",
       "│ 10395 │ 0.08    │ 201.0      │ 1.0       │ Paper               │\n",
       "│ 10396 │ 0.08    │ 253.0      │ 0.0       │ Paper               │\n",
       "│ 10397 │ 0.08    │ 236.0      │ 0.0       │ Paper               │\n",
       "│ 10398 │ 0.08    │ 230.0      │ 0.0       │ Paper               │\n",
       "│ 10399 │ 0.08    │ 220.0      │ 0.0       │ Paper               │\n",
       "│ 10400 │ 0.08    │ 220.0      │ 0.0       │ Paper               │\n",
       "│ 10401 │ 0.08    │ 214.0      │ 0.0       │ Paper               │\n",
       "│ 10402 │ 0.08    │ 211.0      │ 0.0       │ Paper               │\n",
       "│ 10403 │ 0.08    │ 210.0      │ 0.0       │ Paper               │"
      ]
     },
     "execution_count": 270,
     "metadata": {},
     "output_type": "execute_result"
    }
   ],
   "source": [
    "ENV[\"LINES\"] = 100\n",
    "sort(comb_df[comb_df[:durability] .>= 200, :], [:armor, :toughness, :durability], rev=true)"
   ]
  },
  {
   "cell_type": "code",
   "execution_count": 259,
   "metadata": {},
   "outputs": [
    {
     "name": "stderr",
     "output_type": "stream",
     "text": [
      "┌ Info: Precompiling Plots [91a5bcdd-55d7-5caf-9e0b-520d859cae80]\n",
      "└ @ Base loading.jl:1278\n"
     ]
    }
   ],
   "source": [
    "using Plots\n"
   ]
  },
  {
   "cell_type": "code",
   "execution_count": 261,
   "metadata": {},
   "outputs": [
    {
     "data": {
      "image/svg+xml": [
       "<?xml version=\"1.0\" encoding=\"utf-8\"?>\n",
       "<svg xmlns=\"http://www.w3.org/2000/svg\" xmlns:xlink=\"http://www.w3.org/1999/xlink\" width=\"600\" height=\"400\" viewBox=\"0 0 2400 1600\">\n",
       "<defs>\n",
       "  <clipPath id=\"clip000\">\n",
       "    <rect x=\"0\" y=\"0\" width=\"2400\" height=\"1600\"/>\n",
       "  </clipPath>\n",
       "</defs>\n",
       "<path clip-path=\"url(#clip000)\" d=\"\n",
       "M0 1600 L2400 1600 L2400 0 L0 0  Z\n",
       "  \" fill=\"#ffffff\" fill-rule=\"evenodd\" fill-opacity=\"1\"/>\n",
       "<defs>\n",
       "  <clipPath id=\"clip001\">\n",
       "    <rect x=\"480\" y=\"0\" width=\"1681\" height=\"1600\"/>\n",
       "  </clipPath>\n",
       "</defs>\n",
       "<path clip-path=\"url(#clip000)\" d=\"\n",
       "M189.978 1486.45 L2352.76 1486.45 L2352.76 47.2441 L189.978 47.2441  Z\n",
       "  \" fill=\"#ffffff\" fill-rule=\"evenodd\" fill-opacity=\"1\"/>\n",
       "<defs>\n",
       "  <clipPath id=\"clip002\">\n",
       "    <rect x=\"189\" y=\"47\" width=\"2164\" height=\"1440\"/>\n",
       "  </clipPath>\n",
       "</defs>\n",
       "<polyline clip-path=\"url(#clip002)\" style=\"stroke:#000000; stroke-width:2; stroke-opacity:0.1; fill:none\" points=\"\n",
       "  308.934,1486.45 308.934,47.2441 \n",
       "  \"/>\n",
       "<polyline clip-path=\"url(#clip002)\" style=\"stroke:#000000; stroke-width:2; stroke-opacity:0.1; fill:none\" points=\"\n",
       "  790.151,1486.45 790.151,47.2441 \n",
       "  \"/>\n",
       "<polyline clip-path=\"url(#clip002)\" style=\"stroke:#000000; stroke-width:2; stroke-opacity:0.1; fill:none\" points=\"\n",
       "  1271.37,1486.45 1271.37,47.2441 \n",
       "  \"/>\n",
       "<polyline clip-path=\"url(#clip002)\" style=\"stroke:#000000; stroke-width:2; stroke-opacity:0.1; fill:none\" points=\"\n",
       "  1752.58,1486.45 1752.58,47.2441 \n",
       "  \"/>\n",
       "<polyline clip-path=\"url(#clip002)\" style=\"stroke:#000000; stroke-width:2; stroke-opacity:0.1; fill:none\" points=\"\n",
       "  2233.8,1486.45 2233.8,47.2441 \n",
       "  \"/>\n",
       "<polyline clip-path=\"url(#clip000)\" style=\"stroke:#000000; stroke-width:4; stroke-opacity:1; fill:none\" points=\"\n",
       "  189.978,1486.45 2352.76,1486.45 \n",
       "  \"/>\n",
       "<polyline clip-path=\"url(#clip000)\" style=\"stroke:#000000; stroke-width:4; stroke-opacity:1; fill:none\" points=\"\n",
       "  308.934,1486.45 308.934,1469.18 \n",
       "  \"/>\n",
       "<polyline clip-path=\"url(#clip000)\" style=\"stroke:#000000; stroke-width:4; stroke-opacity:1; fill:none\" points=\"\n",
       "  790.151,1486.45 790.151,1469.18 \n",
       "  \"/>\n",
       "<polyline clip-path=\"url(#clip000)\" style=\"stroke:#000000; stroke-width:4; stroke-opacity:1; fill:none\" points=\"\n",
       "  1271.37,1486.45 1271.37,1469.18 \n",
       "  \"/>\n",
       "<polyline clip-path=\"url(#clip000)\" style=\"stroke:#000000; stroke-width:4; stroke-opacity:1; fill:none\" points=\"\n",
       "  1752.58,1486.45 1752.58,1469.18 \n",
       "  \"/>\n",
       "<polyline clip-path=\"url(#clip000)\" style=\"stroke:#000000; stroke-width:4; stroke-opacity:1; fill:none\" points=\"\n",
       "  2233.8,1486.45 2233.8,1469.18 \n",
       "  \"/>\n",
       "<path clip-path=\"url(#clip000)\" d=\"M 0 0 M308.934 1515.64 Q305.323 1515.64 303.495 1519.2 Q301.689 1522.75 301.689 1529.87 Q301.689 1536.98 303.495 1540.55 Q305.323 1544.09 308.934 1544.09 Q312.569 1544.09 314.374 1540.55 Q316.203 1536.98 316.203 1529.87 Q316.203 1522.75 314.374 1519.2 Q312.569 1515.64 308.934 1515.64 M308.934 1511.93 Q314.744 1511.93 317.8 1516.54 Q320.879 1521.12 320.879 1529.87 Q320.879 1538.6 317.8 1543.21 Q314.744 1547.79 308.934 1547.79 Q303.124 1547.79 300.045 1543.21 Q296.99 1538.6 296.99 1529.87 Q296.99 1521.12 300.045 1516.54 Q303.124 1511.93 308.934 1511.93 Z\" fill=\"#000000\" fill-rule=\"evenodd\" fill-opacity=\"1\" /><path clip-path=\"url(#clip000)\" d=\"M 0 0 M780.533 1543.18 L788.171 1543.18 L788.171 1516.82 L779.861 1518.49 L779.861 1514.23 L788.125 1512.56 L792.801 1512.56 L792.801 1543.18 L800.44 1543.18 L800.44 1547.12 L780.533 1547.12 L780.533 1543.18 Z\" fill=\"#000000\" fill-rule=\"evenodd\" fill-opacity=\"1\" /><path clip-path=\"url(#clip000)\" d=\"M 0 0 M1266.02 1543.18 L1282.34 1543.18 L1282.34 1547.12 L1260.39 1547.12 L1260.39 1543.18 Q1263.06 1540.43 1267.64 1535.8 Q1272.25 1531.15 1273.43 1529.81 Q1275.67 1527.28 1276.55 1525.55 Q1277.45 1523.79 1277.45 1522.1 Q1277.45 1519.34 1275.51 1517.61 Q1273.59 1515.87 1270.49 1515.87 Q1268.29 1515.87 1265.83 1516.63 Q1263.4 1517.4 1260.63 1518.95 L1260.63 1514.23 Q1263.45 1513.09 1265.9 1512.51 Q1268.36 1511.93 1270.39 1511.93 Q1275.76 1511.93 1278.96 1514.62 Q1282.15 1517.31 1282.15 1521.8 Q1282.15 1523.93 1281.34 1525.85 Q1280.56 1527.74 1278.45 1530.34 Q1277.87 1531.01 1274.77 1534.23 Q1271.67 1537.42 1266.02 1543.18 Z\" fill=\"#000000\" fill-rule=\"evenodd\" fill-opacity=\"1\" /><path clip-path=\"url(#clip000)\" d=\"M 0 0 M1756.83 1528.49 Q1760.19 1529.2 1762.06 1531.47 Q1763.96 1533.74 1763.96 1537.07 Q1763.96 1542.19 1760.44 1544.99 Q1756.92 1547.79 1750.44 1547.79 Q1748.27 1547.79 1745.95 1547.35 Q1743.66 1546.93 1741.21 1546.08 L1741.21 1541.56 Q1743.15 1542.7 1745.47 1543.28 Q1747.78 1543.86 1750.3 1543.86 Q1754.7 1543.86 1756.99 1542.12 Q1759.31 1540.38 1759.31 1537.07 Q1759.31 1534.02 1757.15 1532.31 Q1755.03 1530.57 1751.21 1530.57 L1747.18 1530.57 L1747.18 1526.73 L1751.39 1526.73 Q1754.84 1526.73 1756.67 1525.36 Q1758.5 1523.97 1758.5 1521.38 Q1758.5 1518.72 1756.6 1517.31 Q1754.72 1515.87 1751.21 1515.87 Q1749.28 1515.87 1747.09 1516.29 Q1744.89 1516.7 1742.25 1517.58 L1742.25 1513.42 Q1744.91 1512.68 1747.22 1512.31 Q1749.56 1511.93 1751.62 1511.93 Q1756.95 1511.93 1760.05 1514.37 Q1763.15 1516.77 1763.15 1520.89 Q1763.15 1523.76 1761.51 1525.75 Q1759.86 1527.72 1756.83 1528.49 Z\" fill=\"#000000\" fill-rule=\"evenodd\" fill-opacity=\"1\" /><path clip-path=\"url(#clip000)\" d=\"M 0 0 M2236.81 1516.63 L2225 1535.08 L2236.81 1535.08 L2236.81 1516.63 M2235.58 1512.56 L2241.46 1512.56 L2241.46 1535.08 L2246.39 1535.08 L2246.39 1538.97 L2241.46 1538.97 L2241.46 1547.12 L2236.81 1547.12 L2236.81 1538.97 L2221.21 1538.97 L2221.21 1534.46 L2235.58 1512.56 Z\" fill=\"#000000\" fill-rule=\"evenodd\" fill-opacity=\"1\" /><polyline clip-path=\"url(#clip002)\" style=\"stroke:#000000; stroke-width:2; stroke-opacity:0.1; fill:none\" points=\"\n",
       "  189.978,1445.72 2352.76,1445.72 \n",
       "  \"/>\n",
       "<polyline clip-path=\"url(#clip002)\" style=\"stroke:#000000; stroke-width:2; stroke-opacity:0.1; fill:none\" points=\"\n",
       "  189.978,1119.49 2352.76,1119.49 \n",
       "  \"/>\n",
       "<polyline clip-path=\"url(#clip002)\" style=\"stroke:#000000; stroke-width:2; stroke-opacity:0.1; fill:none\" points=\"\n",
       "  189.978,793.27 2352.76,793.27 \n",
       "  \"/>\n",
       "<polyline clip-path=\"url(#clip002)\" style=\"stroke:#000000; stroke-width:2; stroke-opacity:0.1; fill:none\" points=\"\n",
       "  189.978,467.047 2352.76,467.047 \n",
       "  \"/>\n",
       "<polyline clip-path=\"url(#clip002)\" style=\"stroke:#000000; stroke-width:2; stroke-opacity:0.1; fill:none\" points=\"\n",
       "  189.978,140.824 2352.76,140.824 \n",
       "  \"/>\n",
       "<polyline clip-path=\"url(#clip000)\" style=\"stroke:#000000; stroke-width:4; stroke-opacity:1; fill:none\" points=\"\n",
       "  189.978,1486.45 189.978,47.2441 \n",
       "  \"/>\n",
       "<polyline clip-path=\"url(#clip000)\" style=\"stroke:#000000; stroke-width:4; stroke-opacity:1; fill:none\" points=\"\n",
       "  189.978,1445.72 215.931,1445.72 \n",
       "  \"/>\n",
       "<polyline clip-path=\"url(#clip000)\" style=\"stroke:#000000; stroke-width:4; stroke-opacity:1; fill:none\" points=\"\n",
       "  189.978,1119.49 215.931,1119.49 \n",
       "  \"/>\n",
       "<polyline clip-path=\"url(#clip000)\" style=\"stroke:#000000; stroke-width:4; stroke-opacity:1; fill:none\" points=\"\n",
       "  189.978,793.27 215.931,793.27 \n",
       "  \"/>\n",
       "<polyline clip-path=\"url(#clip000)\" style=\"stroke:#000000; stroke-width:4; stroke-opacity:1; fill:none\" points=\"\n",
       "  189.978,467.047 215.931,467.047 \n",
       "  \"/>\n",
       "<polyline clip-path=\"url(#clip000)\" style=\"stroke:#000000; stroke-width:4; stroke-opacity:1; fill:none\" points=\"\n",
       "  189.978,140.824 215.931,140.824 \n",
       "  \"/>\n",
       "<path clip-path=\"url(#clip000)\" d=\"M 0 0 M142.033 1431.51 Q138.422 1431.51 136.594 1435.08 Q134.788 1438.62 134.788 1445.75 Q134.788 1452.86 136.594 1456.42 Q138.422 1459.96 142.033 1459.96 Q145.668 1459.96 147.473 1456.42 Q149.302 1452.86 149.302 1445.75 Q149.302 1438.62 147.473 1435.08 Q145.668 1431.51 142.033 1431.51 M142.033 1427.81 Q147.843 1427.81 150.899 1432.42 Q153.978 1437 153.978 1445.75 Q153.978 1454.48 150.899 1459.08 Q147.843 1463.67 142.033 1463.67 Q136.223 1463.67 133.144 1459.08 Q130.089 1454.48 130.089 1445.75 Q130.089 1437 133.144 1432.42 Q136.223 1427.81 142.033 1427.81 Z\" fill=\"#000000\" fill-rule=\"evenodd\" fill-opacity=\"1\" /><path clip-path=\"url(#clip000)\" d=\"M 0 0 M79.0475 1102.21 L97.4039 1102.21 L97.4039 1106.15 L83.3299 1106.15 L83.3299 1114.62 Q84.3484 1114.27 85.3669 1114.11 Q86.3855 1113.93 87.404 1113.93 Q93.191 1113.93 96.5706 1117.1 Q99.9502 1120.27 99.9502 1125.68 Q99.9502 1131.26 96.478 1134.37 Q93.0058 1137.44 86.6864 1137.44 Q84.5105 1137.44 82.242 1137.07 Q79.9966 1136.7 77.5892 1135.96 L77.5892 1131.26 Q79.6725 1132.4 81.8947 1132.95 Q84.1169 1133.51 86.5938 1133.51 Q90.5984 1133.51 92.9363 1131.4 Q95.2743 1129.3 95.2743 1125.68 Q95.2743 1122.07 92.9363 1119.97 Q90.5984 1117.86 86.5938 1117.86 Q84.7188 1117.86 82.8438 1118.28 Q80.992 1118.69 79.0475 1119.57 L79.0475 1102.21 Z\" fill=\"#000000\" fill-rule=\"evenodd\" fill-opacity=\"1\" /><path clip-path=\"url(#clip000)\" d=\"M 0 0 M115.02 1105.29 Q111.408 1105.29 109.58 1108.86 Q107.774 1112.4 107.774 1119.53 Q107.774 1126.63 109.58 1130.2 Q111.408 1133.74 115.02 1133.74 Q118.654 1133.74 120.459 1130.2 Q122.288 1126.63 122.288 1119.53 Q122.288 1112.4 120.459 1108.86 Q118.654 1105.29 115.02 1105.29 M115.02 1101.59 Q120.83 1101.59 123.885 1106.19 Q126.964 1110.78 126.964 1119.53 Q126.964 1128.25 123.885 1132.86 Q120.83 1137.44 115.02 1137.44 Q109.209 1137.44 106.131 1132.86 Q103.075 1128.25 103.075 1119.53 Q103.075 1110.78 106.131 1106.19 Q109.209 1101.59 115.02 1101.59 Z\" fill=\"#000000\" fill-rule=\"evenodd\" fill-opacity=\"1\" /><path clip-path=\"url(#clip000)\" d=\"M 0 0 M142.033 1105.29 Q138.422 1105.29 136.594 1108.86 Q134.788 1112.4 134.788 1119.53 Q134.788 1126.63 136.594 1130.2 Q138.422 1133.74 142.033 1133.74 Q145.668 1133.74 147.473 1130.2 Q149.302 1126.63 149.302 1119.53 Q149.302 1112.4 147.473 1108.86 Q145.668 1105.29 142.033 1105.29 M142.033 1101.59 Q147.843 1101.59 150.899 1106.19 Q153.978 1110.78 153.978 1119.53 Q153.978 1128.25 150.899 1132.86 Q147.843 1137.44 142.033 1137.44 Q136.223 1137.44 133.144 1132.86 Q130.089 1128.25 130.089 1119.53 Q130.089 1110.78 133.144 1106.19 Q136.223 1101.59 142.033 1101.59 Z\" fill=\"#000000\" fill-rule=\"evenodd\" fill-opacity=\"1\" /><path clip-path=\"url(#clip000)\" d=\"M 0 0 M53.0292 806.615 L60.668 806.615 L60.668 780.249 L52.3579 781.916 L52.3579 777.657 L60.6217 775.99 L65.2976 775.99 L65.2976 806.615 L72.9365 806.615 L72.9365 810.55 L53.0292 810.55 L53.0292 806.615 Z\" fill=\"#000000\" fill-rule=\"evenodd\" fill-opacity=\"1\" /><path clip-path=\"url(#clip000)\" d=\"M 0 0 M88.0058 779.069 Q84.3947 779.069 82.566 782.634 Q80.7605 786.175 80.7605 793.305 Q80.7605 800.411 82.566 803.976 Q84.3947 807.518 88.0058 807.518 Q91.6401 807.518 93.4456 803.976 Q95.2743 800.411 95.2743 793.305 Q95.2743 786.175 93.4456 782.634 Q91.6401 779.069 88.0058 779.069 M88.0058 775.365 Q93.816 775.365 96.8715 779.971 Q99.9502 784.555 99.9502 793.305 Q99.9502 802.032 96.8715 806.638 Q93.816 811.221 88.0058 811.221 Q82.1957 811.221 79.117 806.638 Q76.0614 802.032 76.0614 793.305 Q76.0614 784.555 79.117 779.971 Q82.1957 775.365 88.0058 775.365 Z\" fill=\"#000000\" fill-rule=\"evenodd\" fill-opacity=\"1\" /><path clip-path=\"url(#clip000)\" d=\"M 0 0 M115.02 779.069 Q111.408 779.069 109.58 782.634 Q107.774 786.175 107.774 793.305 Q107.774 800.411 109.58 803.976 Q111.408 807.518 115.02 807.518 Q118.654 807.518 120.459 803.976 Q122.288 800.411 122.288 793.305 Q122.288 786.175 120.459 782.634 Q118.654 779.069 115.02 779.069 M115.02 775.365 Q120.83 775.365 123.885 779.971 Q126.964 784.555 126.964 793.305 Q126.964 802.032 123.885 806.638 Q120.83 811.221 115.02 811.221 Q109.209 811.221 106.131 806.638 Q103.075 802.032 103.075 793.305 Q103.075 784.555 106.131 779.971 Q109.209 775.365 115.02 775.365 Z\" fill=\"#000000\" fill-rule=\"evenodd\" fill-opacity=\"1\" /><path clip-path=\"url(#clip000)\" d=\"M 0 0 M142.033 779.069 Q138.422 779.069 136.594 782.634 Q134.788 786.175 134.788 793.305 Q134.788 800.411 136.594 803.976 Q138.422 807.518 142.033 807.518 Q145.668 807.518 147.473 803.976 Q149.302 800.411 149.302 793.305 Q149.302 786.175 147.473 782.634 Q145.668 779.069 142.033 779.069 M142.033 775.365 Q147.843 775.365 150.899 779.971 Q153.978 784.555 153.978 793.305 Q153.978 802.032 150.899 806.638 Q147.843 811.221 142.033 811.221 Q136.223 811.221 133.144 806.638 Q130.089 802.032 130.089 793.305 Q130.089 784.555 133.144 779.971 Q136.223 775.365 142.033 775.365 Z\" fill=\"#000000\" fill-rule=\"evenodd\" fill-opacity=\"1\" /><path clip-path=\"url(#clip000)\" d=\"M 0 0 M54.0245 480.392 L61.6634 480.392 L61.6634 454.026 L53.3532 455.693 L53.3532 451.434 L61.6171 449.767 L66.293 449.767 L66.293 480.392 L73.9318 480.392 L73.9318 484.327 L54.0245 484.327 L54.0245 480.392 Z\" fill=\"#000000\" fill-rule=\"evenodd\" fill-opacity=\"1\" /><path clip-path=\"url(#clip000)\" d=\"M 0 0 M79.0475 449.767 L97.4039 449.767 L97.4039 453.702 L83.3299 453.702 L83.3299 462.175 Q84.3484 461.827 85.3669 461.665 Q86.3855 461.48 87.404 461.48 Q93.191 461.48 96.5706 464.651 Q99.9502 467.823 99.9502 473.239 Q99.9502 478.818 96.478 481.92 Q93.0058 484.998 86.6864 484.998 Q84.5105 484.998 82.242 484.628 Q79.9966 484.258 77.5892 483.517 L77.5892 478.818 Q79.6725 479.952 81.8947 480.508 Q84.1169 481.063 86.5938 481.063 Q90.5984 481.063 92.9363 478.957 Q95.2743 476.85 95.2743 473.239 Q95.2743 469.628 92.9363 467.522 Q90.5984 465.415 86.5938 465.415 Q84.7188 465.415 82.8438 465.832 Q80.992 466.249 79.0475 467.128 L79.0475 449.767 Z\" fill=\"#000000\" fill-rule=\"evenodd\" fill-opacity=\"1\" /><path clip-path=\"url(#clip000)\" d=\"M 0 0 M115.02 452.846 Q111.408 452.846 109.58 456.411 Q107.774 459.952 107.774 467.082 Q107.774 474.188 109.58 477.753 Q111.408 481.295 115.02 481.295 Q118.654 481.295 120.459 477.753 Q122.288 474.188 122.288 467.082 Q122.288 459.952 120.459 456.411 Q118.654 452.846 115.02 452.846 M115.02 449.142 Q120.83 449.142 123.885 453.749 Q126.964 458.332 126.964 467.082 Q126.964 475.809 123.885 480.415 Q120.83 484.998 115.02 484.998 Q109.209 484.998 106.131 480.415 Q103.075 475.809 103.075 467.082 Q103.075 458.332 106.131 453.749 Q109.209 449.142 115.02 449.142 Z\" fill=\"#000000\" fill-rule=\"evenodd\" fill-opacity=\"1\" /><path clip-path=\"url(#clip000)\" d=\"M 0 0 M142.033 452.846 Q138.422 452.846 136.594 456.411 Q134.788 459.952 134.788 467.082 Q134.788 474.188 136.594 477.753 Q138.422 481.295 142.033 481.295 Q145.668 481.295 147.473 477.753 Q149.302 474.188 149.302 467.082 Q149.302 459.952 147.473 456.411 Q145.668 452.846 142.033 452.846 M142.033 449.142 Q147.843 449.142 150.899 453.749 Q153.978 458.332 153.978 467.082 Q153.978 475.809 150.899 480.415 Q147.843 484.998 142.033 484.998 Q136.223 484.998 133.144 480.415 Q130.089 475.809 130.089 467.082 Q130.089 458.332 133.144 453.749 Q136.223 449.142 142.033 449.142 Z\" fill=\"#000000\" fill-rule=\"evenodd\" fill-opacity=\"1\" /><path clip-path=\"url(#clip000)\" d=\"M 0 0 M56.6171 154.169 L72.9365 154.169 L72.9365 158.104 L50.9921 158.104 L50.9921 154.169 Q53.6541 151.415 58.2375 146.785 Q62.8439 142.132 64.0245 140.79 Q66.2698 138.267 67.1494 136.53 Q68.0522 134.771 68.0522 133.081 Q68.0522 130.327 66.1078 128.591 Q64.1865 126.855 61.0847 126.855 Q58.8856 126.855 56.4319 127.618 Q54.0014 128.382 51.2236 129.933 L51.2236 125.211 Q54.0477 124.077 56.5014 123.498 Q58.955 122.919 60.9921 122.919 Q66.3624 122.919 69.5568 125.605 Q72.7513 128.29 72.7513 132.78 Q72.7513 134.91 71.9411 136.831 Q71.1541 138.729 69.0476 141.322 Q68.4689 141.993 65.367 145.211 Q62.2652 148.405 56.6171 154.169 Z\" fill=\"#000000\" fill-rule=\"evenodd\" fill-opacity=\"1\" /><path clip-path=\"url(#clip000)\" d=\"M 0 0 M88.0058 126.623 Q84.3947 126.623 82.566 130.188 Q80.7605 133.73 80.7605 140.859 Q80.7605 147.966 82.566 151.53 Q84.3947 155.072 88.0058 155.072 Q91.6401 155.072 93.4456 151.53 Q95.2743 147.966 95.2743 140.859 Q95.2743 133.73 93.4456 130.188 Q91.6401 126.623 88.0058 126.623 M88.0058 122.919 Q93.816 122.919 96.8715 127.526 Q99.9502 132.109 99.9502 140.859 Q99.9502 149.586 96.8715 154.192 Q93.816 158.776 88.0058 158.776 Q82.1957 158.776 79.117 154.192 Q76.0614 149.586 76.0614 140.859 Q76.0614 132.109 79.117 127.526 Q82.1957 122.919 88.0058 122.919 Z\" fill=\"#000000\" fill-rule=\"evenodd\" fill-opacity=\"1\" /><path clip-path=\"url(#clip000)\" d=\"M 0 0 M115.02 126.623 Q111.408 126.623 109.58 130.188 Q107.774 133.73 107.774 140.859 Q107.774 147.966 109.58 151.53 Q111.408 155.072 115.02 155.072 Q118.654 155.072 120.459 151.53 Q122.288 147.966 122.288 140.859 Q122.288 133.73 120.459 130.188 Q118.654 126.623 115.02 126.623 M115.02 122.919 Q120.83 122.919 123.885 127.526 Q126.964 132.109 126.964 140.859 Q126.964 149.586 123.885 154.192 Q120.83 158.776 115.02 158.776 Q109.209 158.776 106.131 154.192 Q103.075 149.586 103.075 140.859 Q103.075 132.109 106.131 127.526 Q109.209 122.919 115.02 122.919 Z\" fill=\"#000000\" fill-rule=\"evenodd\" fill-opacity=\"1\" /><path clip-path=\"url(#clip000)\" d=\"M 0 0 M142.033 126.623 Q138.422 126.623 136.594 130.188 Q134.788 133.73 134.788 140.859 Q134.788 147.966 136.594 151.53 Q138.422 155.072 142.033 155.072 Q145.668 155.072 147.473 151.53 Q149.302 147.966 149.302 140.859 Q149.302 133.73 147.473 130.188 Q145.668 126.623 142.033 126.623 M142.033 122.919 Q147.843 122.919 150.899 127.526 Q153.978 132.109 153.978 140.859 Q153.978 149.586 150.899 154.192 Q147.843 158.776 142.033 158.776 Q136.223 158.776 133.144 154.192 Q130.089 149.586 130.089 140.859 Q130.089 132.109 133.144 127.526 Q136.223 122.919 142.033 122.919 Z\" fill=\"#000000\" fill-rule=\"evenodd\" fill-opacity=\"1\" /><path clip-path=\"url(#clip002)\" d=\"\n",
       "M308.934 494.45 L308.934 1445.72 L405.178 1445.72 L405.178 494.45 L308.934 494.45 L308.934 494.45  Z\n",
       "  \" fill=\"#009af9\" fill-rule=\"evenodd\" fill-opacity=\"1\"/>\n",
       "<polyline clip-path=\"url(#clip002)\" style=\"stroke:#000000; stroke-width:4; stroke-opacity:1; fill:none\" points=\"\n",
       "  308.934,494.45 308.934,1445.72 405.178,1445.72 405.178,494.45 308.934,494.45 \n",
       "  \"/>\n",
       "<path clip-path=\"url(#clip002)\" d=\"\n",
       "M405.178 494.45 L405.178 1445.72 L501.421 1445.72 L501.421 494.45 L405.178 494.45 L405.178 494.45  Z\n",
       "  \" fill=\"#009af9\" fill-rule=\"evenodd\" fill-opacity=\"1\"/>\n",
       "<polyline clip-path=\"url(#clip002)\" style=\"stroke:#000000; stroke-width:4; stroke-opacity:1; fill:none\" points=\"\n",
       "  405.178,494.45 405.178,1445.72 501.421,1445.72 501.421,494.45 405.178,494.45 \n",
       "  \"/>\n",
       "<path clip-path=\"url(#clip002)\" d=\"\n",
       "M501.421 970.083 L501.421 1445.72 L597.664 1445.72 L597.664 970.083 L501.421 970.083 L501.421 970.083  Z\n",
       "  \" fill=\"#009af9\" fill-rule=\"evenodd\" fill-opacity=\"1\"/>\n",
       "<polyline clip-path=\"url(#clip002)\" style=\"stroke:#000000; stroke-width:4; stroke-opacity:1; fill:none\" points=\"\n",
       "  501.421,970.083 501.421,1445.72 597.664,1445.72 597.664,970.083 501.421,970.083 \n",
       "  \"/>\n",
       "<path clip-path=\"url(#clip002)\" d=\"\n",
       "M597.664 529.03 L597.664 1445.72 L693.907 1445.72 L693.907 529.03 L597.664 529.03 L597.664 529.03  Z\n",
       "  \" fill=\"#009af9\" fill-rule=\"evenodd\" fill-opacity=\"1\"/>\n",
       "<polyline clip-path=\"url(#clip002)\" style=\"stroke:#000000; stroke-width:4; stroke-opacity:1; fill:none\" points=\"\n",
       "  597.664,529.03 597.664,1445.72 693.907,1445.72 693.907,529.03 597.664,529.03 \n",
       "  \"/>\n",
       "<path clip-path=\"url(#clip002)\" d=\"\n",
       "M693.907 494.45 L693.907 1445.72 L790.151 1445.72 L790.151 494.45 L693.907 494.45 L693.907 494.45  Z\n",
       "  \" fill=\"#009af9\" fill-rule=\"evenodd\" fill-opacity=\"1\"/>\n",
       "<polyline clip-path=\"url(#clip002)\" style=\"stroke:#000000; stroke-width:4; stroke-opacity:1; fill:none\" points=\"\n",
       "  693.907,494.45 693.907,1445.72 790.151,1445.72 790.151,494.45 693.907,494.45 \n",
       "  \"/>\n",
       "<path clip-path=\"url(#clip002)\" d=\"\n",
       "M790.151 1411.14 L790.151 1445.72 L886.394 1445.72 L886.394 1411.14 L790.151 1411.14 L790.151 1411.14  Z\n",
       "  \" fill=\"#009af9\" fill-rule=\"evenodd\" fill-opacity=\"1\"/>\n",
       "<polyline clip-path=\"url(#clip002)\" style=\"stroke:#000000; stroke-width:4; stroke-opacity:1; fill:none\" points=\"\n",
       "  790.151,1411.14 790.151,1445.72 886.394,1445.72 886.394,1411.14 790.151,1411.14 \n",
       "  \"/>\n",
       "<path clip-path=\"url(#clip002)\" d=\"\n",
       "M886.394 563.609 L886.394 1445.72 L982.637 1445.72 L982.637 563.609 L886.394 563.609 L886.394 563.609  Z\n",
       "  \" fill=\"#009af9\" fill-rule=\"evenodd\" fill-opacity=\"1\"/>\n",
       "<polyline clip-path=\"url(#clip002)\" style=\"stroke:#000000; stroke-width:4; stroke-opacity:1; fill:none\" points=\"\n",
       "  886.394,563.609 886.394,1445.72 982.637,1445.72 982.637,563.609 886.394,563.609 \n",
       "  \"/>\n",
       "<path clip-path=\"url(#clip002)\" d=\"\n",
       "M982.637 935.503 L982.637 1445.72 L1078.88 1445.72 L1078.88 935.503 L982.637 935.503 L982.637 935.503  Z\n",
       "  \" fill=\"#009af9\" fill-rule=\"evenodd\" fill-opacity=\"1\"/>\n",
       "<polyline clip-path=\"url(#clip002)\" style=\"stroke:#000000; stroke-width:4; stroke-opacity:1; fill:none\" points=\"\n",
       "  982.637,935.503 982.637,1445.72 1078.88,1445.72 1078.88,935.503 982.637,935.503 \n",
       "  \"/>\n",
       "<path clip-path=\"url(#clip002)\" d=\"\n",
       "M1078.88 529.03 L1078.88 1445.72 L1175.12 1445.72 L1175.12 529.03 L1078.88 529.03 L1078.88 529.03  Z\n",
       "  \" fill=\"#009af9\" fill-rule=\"evenodd\" fill-opacity=\"1\"/>\n",
       "<polyline clip-path=\"url(#clip002)\" style=\"stroke:#000000; stroke-width:4; stroke-opacity:1; fill:none\" points=\"\n",
       "  1078.88,529.03 1078.88,1445.72 1175.12,1445.72 1175.12,529.03 1078.88,529.03 \n",
       "  \"/>\n",
       "<path clip-path=\"url(#clip002)\" d=\"\n",
       "M1175.12 970.083 L1175.12 1445.72 L1271.37 1445.72 L1271.37 970.083 L1175.12 970.083 L1175.12 970.083  Z\n",
       "  \" fill=\"#009af9\" fill-rule=\"evenodd\" fill-opacity=\"1\"/>\n",
       "<polyline clip-path=\"url(#clip002)\" style=\"stroke:#000000; stroke-width:4; stroke-opacity:1; fill:none\" points=\"\n",
       "  1175.12,970.083 1175.12,1445.72 1271.37,1445.72 1271.37,970.083 1175.12,970.083 \n",
       "  \"/>\n",
       "<path clip-path=\"url(#clip002)\" d=\"\n",
       "M1271.37 970.083 L1271.37 1445.72 L1367.61 1445.72 L1367.61 970.083 L1271.37 970.083 L1271.37 970.083  Z\n",
       "  \" fill=\"#009af9\" fill-rule=\"evenodd\" fill-opacity=\"1\"/>\n",
       "<polyline clip-path=\"url(#clip002)\" style=\"stroke:#000000; stroke-width:4; stroke-opacity:1; fill:none\" points=\"\n",
       "  1271.37,970.083 1271.37,1445.72 1367.61,1445.72 1367.61,970.083 1271.37,970.083 \n",
       "  \"/>\n",
       "<path clip-path=\"url(#clip002)\" d=\"\n",
       "M1367.61 1411.14 L1367.61 1445.72 L1463.85 1445.72 L1463.85 1411.14 L1367.61 1411.14 L1367.61 1411.14  Z\n",
       "  \" fill=\"#009af9\" fill-rule=\"evenodd\" fill-opacity=\"1\"/>\n",
       "<polyline clip-path=\"url(#clip002)\" style=\"stroke:#000000; stroke-width:4; stroke-opacity:1; fill:none\" points=\"\n",
       "  1367.61,1411.14 1367.61,1445.72 1463.85,1445.72 1463.85,1411.14 1367.61,1411.14 \n",
       "  \"/>\n",
       "<path clip-path=\"url(#clip002)\" d=\"\n",
       "M1463.85 87.9763 L1463.85 1445.72 L1560.1 1445.72 L1560.1 87.9763 L1463.85 87.9763 L1463.85 87.9763  Z\n",
       "  \" fill=\"#009af9\" fill-rule=\"evenodd\" fill-opacity=\"1\"/>\n",
       "<polyline clip-path=\"url(#clip002)\" style=\"stroke:#000000; stroke-width:4; stroke-opacity:1; fill:none\" points=\"\n",
       "  1463.85,87.9763 1463.85,1445.72 1560.1,1445.72 1560.1,87.9763 1463.85,87.9763 \n",
       "  \"/>\n",
       "<path clip-path=\"url(#clip002)\" d=\"\n",
       "M1560.1 122.556 L1560.1 1445.72 L1656.34 1445.72 L1656.34 122.556 L1560.1 122.556 L1560.1 122.556  Z\n",
       "  \" fill=\"#009af9\" fill-rule=\"evenodd\" fill-opacity=\"1\"/>\n",
       "<polyline clip-path=\"url(#clip002)\" style=\"stroke:#000000; stroke-width:4; stroke-opacity:1; fill:none\" points=\"\n",
       "  1560.1,122.556 1560.1,1445.72 1656.34,1445.72 1656.34,122.556 1560.1,122.556 \n",
       "  \"/>\n",
       "<path clip-path=\"url(#clip002)\" d=\"\n",
       "M1656.34 529.03 L1656.34 1445.72 L1752.58 1445.72 L1752.58 529.03 L1656.34 529.03 L1656.34 529.03  Z\n",
       "  \" fill=\"#009af9\" fill-rule=\"evenodd\" fill-opacity=\"1\"/>\n",
       "<polyline clip-path=\"url(#clip002)\" style=\"stroke:#000000; stroke-width:4; stroke-opacity:1; fill:none\" points=\"\n",
       "  1656.34,529.03 1656.34,1445.72 1752.58,1445.72 1752.58,529.03 1656.34,529.03 \n",
       "  \"/>\n",
       "<path clip-path=\"url(#clip002)\" d=\"\n",
       "M1752.58 494.45 L1752.58 1445.72 L1848.83 1445.72 L1848.83 494.45 L1752.58 494.45 L1752.58 494.45  Z\n",
       "  \" fill=\"#009af9\" fill-rule=\"evenodd\" fill-opacity=\"1\"/>\n",
       "<polyline clip-path=\"url(#clip002)\" style=\"stroke:#000000; stroke-width:4; stroke-opacity:1; fill:none\" points=\"\n",
       "  1752.58,494.45 1752.58,1445.72 1848.83,1445.72 1848.83,494.45 1752.58,494.45 \n",
       "  \"/>\n",
       "<path clip-path=\"url(#clip002)\" d=\"\n",
       "M1848.83 866.344 L1848.83 1445.72 L1945.07 1445.72 L1945.07 866.344 L1848.83 866.344 L1848.83 866.344  Z\n",
       "  \" fill=\"#009af9\" fill-rule=\"evenodd\" fill-opacity=\"1\"/>\n",
       "<polyline clip-path=\"url(#clip002)\" style=\"stroke:#000000; stroke-width:4; stroke-opacity:1; fill:none\" points=\"\n",
       "  1848.83,866.344 1848.83,1445.72 1945.07,1445.72 1945.07,866.344 1848.83,866.344 \n",
       "  \"/>\n",
       "<path clip-path=\"url(#clip002)\" d=\"\n",
       "M1945.07 1411.14 L1945.07 1445.72 L2041.31 1445.72 L2041.31 1411.14 L1945.07 1411.14 L1945.07 1411.14  Z\n",
       "  \" fill=\"#009af9\" fill-rule=\"evenodd\" fill-opacity=\"1\"/>\n",
       "<polyline clip-path=\"url(#clip002)\" style=\"stroke:#000000; stroke-width:4; stroke-opacity:1; fill:none\" points=\"\n",
       "  1945.07,1411.14 1945.07,1445.72 2041.31,1445.72 2041.31,1411.14 1945.07,1411.14 \n",
       "  \"/>\n",
       "<path clip-path=\"url(#clip002)\" d=\"\n",
       "M2041.31 1376.56 L2041.31 1445.72 L2137.56 1445.72 L2137.56 1376.56 L2041.31 1376.56 L2041.31 1376.56  Z\n",
       "  \" fill=\"#009af9\" fill-rule=\"evenodd\" fill-opacity=\"1\"/>\n",
       "<polyline clip-path=\"url(#clip002)\" style=\"stroke:#000000; stroke-width:4; stroke-opacity:1; fill:none\" points=\"\n",
       "  2041.31,1376.56 2041.31,1445.72 2137.56,1445.72 2137.56,1376.56 2041.31,1376.56 \n",
       "  \"/>\n",
       "<path clip-path=\"url(#clip002)\" d=\"\n",
       "M2137.56 1411.14 L2137.56 1445.72 L2233.8 1445.72 L2233.8 1411.14 L2137.56 1411.14 L2137.56 1411.14  Z\n",
       "  \" fill=\"#009af9\" fill-rule=\"evenodd\" fill-opacity=\"1\"/>\n",
       "<polyline clip-path=\"url(#clip002)\" style=\"stroke:#000000; stroke-width:4; stroke-opacity:1; fill:none\" points=\"\n",
       "  2137.56,1411.14 2137.56,1445.72 2233.8,1445.72 2233.8,1411.14 2137.56,1411.14 \n",
       "  \"/>\n",
       "<path clip-path=\"url(#clip000)\" d=\"\n",
       "M1989.34 216.178 L2280.66 216.178 L2280.66 95.2176 L1989.34 95.2176  Z\n",
       "  \" fill=\"#ffffff\" fill-rule=\"evenodd\" fill-opacity=\"1\"/>\n",
       "<polyline clip-path=\"url(#clip000)\" style=\"stroke:#000000; stroke-width:4; stroke-opacity:1; fill:none\" points=\"\n",
       "  1989.34,216.178 2280.66,216.178 2280.66,95.2176 1989.34,95.2176 1989.34,216.178 \n",
       "  \"/>\n",
       "<path clip-path=\"url(#clip000)\" d=\"\n",
       "M2013.37 179.89 L2157.55 179.89 L2157.55 131.506 L2013.37 131.506 L2013.37 179.89  Z\n",
       "  \" fill=\"#009af9\" fill-rule=\"evenodd\" fill-opacity=\"1\"/>\n",
       "<polyline clip-path=\"url(#clip000)\" style=\"stroke:#000000; stroke-width:4; stroke-opacity:1; fill:none\" points=\"\n",
       "  2013.37,179.89 2157.55,179.89 2157.55,131.506 2013.37,131.506 2013.37,179.89 \n",
       "  \"/>\n",
       "<path clip-path=\"url(#clip000)\" d=\"M 0 0 M2195.43 175.385 Q2193.62 180.015 2191.91 181.427 Q2190.19 182.839 2187.32 182.839 L2183.92 182.839 L2183.92 179.274 L2186.42 179.274 Q2188.18 179.274 2189.15 178.44 Q2190.12 177.607 2191.31 174.505 L2192.07 172.561 L2181.58 147.052 L2186.1 147.052 L2194.2 167.329 L2202.3 147.052 L2206.81 147.052 L2195.43 175.385 Z\" fill=\"#000000\" fill-rule=\"evenodd\" fill-opacity=\"1\" /><path clip-path=\"url(#clip000)\" d=\"M 0 0 M2212.69 169.042 L2220.33 169.042 L2220.33 142.677 L2212.02 144.343 L2212.02 140.084 L2220.29 138.418 L2224.96 138.418 L2224.96 169.042 L2232.6 169.042 L2232.6 172.978 L2212.69 172.978 L2212.69 169.042 Z\" fill=\"#000000\" fill-rule=\"evenodd\" fill-opacity=\"1\" /></svg>\n"
      ]
     },
     "execution_count": 261,
     "metadata": {},
     "output_type": "execute_result"
    }
   ],
   "source": [
    "histogram(comb_df[:armor])"
   ]
  },
  {
   "cell_type": "code",
   "execution_count": 262,
   "metadata": {},
   "outputs": [
    {
     "data": {
      "image/svg+xml": [
       "<?xml version=\"1.0\" encoding=\"utf-8\"?>\n",
       "<svg xmlns=\"http://www.w3.org/2000/svg\" xmlns:xlink=\"http://www.w3.org/1999/xlink\" width=\"600\" height=\"400\" viewBox=\"0 0 2400 1600\">\n",
       "<defs>\n",
       "  <clipPath id=\"clip040\">\n",
       "    <rect x=\"0\" y=\"0\" width=\"2400\" height=\"1600\"/>\n",
       "  </clipPath>\n",
       "</defs>\n",
       "<path clip-path=\"url(#clip040)\" d=\"\n",
       "M0 1600 L2400 1600 L2400 0 L0 0  Z\n",
       "  \" fill=\"#ffffff\" fill-rule=\"evenodd\" fill-opacity=\"1\"/>\n",
       "<defs>\n",
       "  <clipPath id=\"clip041\">\n",
       "    <rect x=\"480\" y=\"0\" width=\"1681\" height=\"1600\"/>\n",
       "  </clipPath>\n",
       "</defs>\n",
       "<path clip-path=\"url(#clip040)\" d=\"\n",
       "M193.218 1486.45 L2352.76 1486.45 L2352.76 47.2441 L193.218 47.2441  Z\n",
       "  \" fill=\"#ffffff\" fill-rule=\"evenodd\" fill-opacity=\"1\"/>\n",
       "<defs>\n",
       "  <clipPath id=\"clip042\">\n",
       "    <rect x=\"193\" y=\"47\" width=\"2161\" height=\"1440\"/>\n",
       "  </clipPath>\n",
       "</defs>\n",
       "<polyline clip-path=\"url(#clip042)\" style=\"stroke:#000000; stroke-width:2; stroke-opacity:0.1; fill:none\" points=\"\n",
       "  311.997,1486.45 311.997,47.2441 \n",
       "  \"/>\n",
       "<polyline clip-path=\"url(#clip042)\" style=\"stroke:#000000; stroke-width:2; stroke-opacity:0.1; fill:none\" points=\"\n",
       "  804.812,1486.45 804.812,47.2441 \n",
       "  \"/>\n",
       "<polyline clip-path=\"url(#clip042)\" style=\"stroke:#000000; stroke-width:2; stroke-opacity:0.1; fill:none\" points=\"\n",
       "  1297.63,1486.45 1297.63,47.2441 \n",
       "  \"/>\n",
       "<polyline clip-path=\"url(#clip042)\" style=\"stroke:#000000; stroke-width:2; stroke-opacity:0.1; fill:none\" points=\"\n",
       "  1790.44,1486.45 1790.44,47.2441 \n",
       "  \"/>\n",
       "<polyline clip-path=\"url(#clip042)\" style=\"stroke:#000000; stroke-width:2; stroke-opacity:0.1; fill:none\" points=\"\n",
       "  2283.26,1486.45 2283.26,47.2441 \n",
       "  \"/>\n",
       "<polyline clip-path=\"url(#clip040)\" style=\"stroke:#000000; stroke-width:4; stroke-opacity:1; fill:none\" points=\"\n",
       "  193.218,1486.45 2352.76,1486.45 \n",
       "  \"/>\n",
       "<polyline clip-path=\"url(#clip040)\" style=\"stroke:#000000; stroke-width:4; stroke-opacity:1; fill:none\" points=\"\n",
       "  311.997,1486.45 311.997,1469.18 \n",
       "  \"/>\n",
       "<polyline clip-path=\"url(#clip040)\" style=\"stroke:#000000; stroke-width:4; stroke-opacity:1; fill:none\" points=\"\n",
       "  804.812,1486.45 804.812,1469.18 \n",
       "  \"/>\n",
       "<polyline clip-path=\"url(#clip040)\" style=\"stroke:#000000; stroke-width:4; stroke-opacity:1; fill:none\" points=\"\n",
       "  1297.63,1486.45 1297.63,1469.18 \n",
       "  \"/>\n",
       "<polyline clip-path=\"url(#clip040)\" style=\"stroke:#000000; stroke-width:4; stroke-opacity:1; fill:none\" points=\"\n",
       "  1790.44,1486.45 1790.44,1469.18 \n",
       "  \"/>\n",
       "<polyline clip-path=\"url(#clip040)\" style=\"stroke:#000000; stroke-width:4; stroke-opacity:1; fill:none\" points=\"\n",
       "  2283.26,1486.45 2283.26,1469.18 \n",
       "  \"/>\n",
       "<path clip-path=\"url(#clip040)\" d=\"M 0 0 M311.997 1515.64 Q308.386 1515.64 306.557 1519.2 Q304.751 1522.75 304.751 1529.87 Q304.751 1536.98 306.557 1540.55 Q308.386 1544.09 311.997 1544.09 Q315.631 1544.09 317.437 1540.55 Q319.265 1536.98 319.265 1529.87 Q319.265 1522.75 317.437 1519.2 Q315.631 1515.64 311.997 1515.64 M311.997 1511.93 Q317.807 1511.93 320.863 1516.54 Q323.941 1521.12 323.941 1529.87 Q323.941 1538.6 320.863 1543.21 Q317.807 1547.79 311.997 1547.79 Q306.187 1547.79 303.108 1543.21 Q300.052 1538.6 300.052 1529.87 Q300.052 1521.12 303.108 1516.54 Q306.187 1511.93 311.997 1511.93 Z\" fill=\"#000000\" fill-rule=\"evenodd\" fill-opacity=\"1\" /><path clip-path=\"url(#clip040)\" d=\"M 0 0 M799.465 1543.18 L815.785 1543.18 L815.785 1547.12 L793.84 1547.12 L793.84 1543.18 Q796.502 1540.43 801.086 1535.8 Q805.692 1531.15 806.873 1529.81 Q809.118 1527.28 809.998 1525.55 Q810.9 1523.79 810.9 1522.1 Q810.9 1519.34 808.956 1517.61 Q807.035 1515.87 803.933 1515.87 Q801.734 1515.87 799.28 1516.63 Q796.849 1517.4 794.072 1518.95 L794.072 1514.23 Q796.896 1513.09 799.349 1512.51 Q801.803 1511.93 803.84 1511.93 Q809.21 1511.93 812.405 1514.62 Q815.599 1517.31 815.599 1521.8 Q815.599 1523.93 814.789 1525.85 Q814.002 1527.74 811.896 1530.34 Q811.317 1531.01 808.215 1534.23 Q805.113 1537.42 799.465 1543.18 Z\" fill=\"#000000\" fill-rule=\"evenodd\" fill-opacity=\"1\" /><path clip-path=\"url(#clip040)\" d=\"M 0 0 M1300.64 1516.63 L1288.83 1535.08 L1300.64 1535.08 L1300.64 1516.63 M1299.41 1512.56 L1305.29 1512.56 L1305.29 1535.08 L1310.22 1535.08 L1310.22 1538.97 L1305.29 1538.97 L1305.29 1547.12 L1300.64 1547.12 L1300.64 1538.97 L1285.04 1538.97 L1285.04 1534.46 L1299.41 1512.56 Z\" fill=\"#000000\" fill-rule=\"evenodd\" fill-opacity=\"1\" /><path clip-path=\"url(#clip040)\" d=\"M 0 0 M1790.85 1527.98 Q1787.7 1527.98 1785.85 1530.13 Q1784.02 1532.28 1784.02 1536.03 Q1784.02 1539.76 1785.85 1541.93 Q1787.7 1544.09 1790.85 1544.09 Q1794 1544.09 1795.83 1541.93 Q1797.68 1539.76 1797.68 1536.03 Q1797.68 1532.28 1795.83 1530.13 Q1794 1527.98 1790.85 1527.98 M1800.13 1513.32 L1800.13 1517.58 Q1798.37 1516.75 1796.57 1516.31 Q1794.78 1515.87 1793.02 1515.87 Q1788.39 1515.87 1785.94 1519 Q1783.51 1522.12 1783.16 1528.44 Q1784.53 1526.43 1786.59 1525.36 Q1788.65 1524.27 1791.13 1524.27 Q1796.33 1524.27 1799.34 1527.44 Q1802.38 1530.59 1802.38 1536.03 Q1802.38 1541.36 1799.23 1544.57 Q1796.08 1547.79 1790.85 1547.79 Q1784.85 1547.79 1781.68 1543.21 Q1778.51 1538.6 1778.51 1529.87 Q1778.51 1521.68 1782.4 1516.82 Q1786.29 1511.93 1792.84 1511.93 Q1794.6 1511.93 1796.38 1512.28 Q1798.19 1512.63 1800.13 1513.32 Z\" fill=\"#000000\" fill-rule=\"evenodd\" fill-opacity=\"1\" /><path clip-path=\"url(#clip040)\" d=\"M 0 0 M2283.26 1530.71 Q2279.93 1530.71 2278 1532.49 Q2276.11 1534.27 2276.11 1537.4 Q2276.11 1540.52 2278 1542.31 Q2279.93 1544.09 2283.26 1544.09 Q2286.59 1544.09 2288.51 1542.31 Q2290.43 1540.5 2290.43 1537.4 Q2290.43 1534.27 2288.51 1532.49 Q2286.62 1530.71 2283.26 1530.71 M2278.58 1528.72 Q2275.57 1527.98 2273.88 1525.92 Q2272.22 1523.86 2272.22 1520.89 Q2272.22 1516.75 2275.16 1514.34 Q2278.12 1511.93 2283.26 1511.93 Q2288.42 1511.93 2291.36 1514.34 Q2294.3 1516.75 2294.3 1520.89 Q2294.3 1523.86 2292.61 1525.92 Q2290.94 1527.98 2287.96 1528.72 Q2291.34 1529.5 2293.21 1531.8 Q2295.11 1534.09 2295.11 1537.4 Q2295.11 1542.42 2292.03 1545.11 Q2288.98 1547.79 2283.26 1547.79 Q2277.54 1547.79 2274.46 1545.11 Q2271.41 1542.42 2271.41 1537.4 Q2271.41 1534.09 2273.31 1531.8 Q2275.2 1529.5 2278.58 1528.72 M2276.87 1521.33 Q2276.87 1524.02 2278.54 1525.52 Q2280.23 1527.03 2283.26 1527.03 Q2286.27 1527.03 2287.96 1525.52 Q2289.67 1524.02 2289.67 1521.33 Q2289.67 1518.65 2287.96 1517.14 Q2286.27 1515.64 2283.26 1515.64 Q2280.23 1515.64 2278.54 1517.14 Q2276.87 1518.65 2276.87 1521.33 Z\" fill=\"#000000\" fill-rule=\"evenodd\" fill-opacity=\"1\" /><polyline clip-path=\"url(#clip042)\" style=\"stroke:#000000; stroke-width:2; stroke-opacity:0.1; fill:none\" points=\"\n",
       "  193.218,1445.72 2352.76,1445.72 \n",
       "  \"/>\n",
       "<polyline clip-path=\"url(#clip042)\" style=\"stroke:#000000; stroke-width:2; stroke-opacity:0.1; fill:none\" points=\"\n",
       "  193.218,1238.77 2352.76,1238.77 \n",
       "  \"/>\n",
       "<polyline clip-path=\"url(#clip042)\" style=\"stroke:#000000; stroke-width:2; stroke-opacity:0.1; fill:none\" points=\"\n",
       "  193.218,1031.83 2352.76,1031.83 \n",
       "  \"/>\n",
       "<polyline clip-path=\"url(#clip042)\" style=\"stroke:#000000; stroke-width:2; stroke-opacity:0.1; fill:none\" points=\"\n",
       "  193.218,824.893 2352.76,824.893 \n",
       "  \"/>\n",
       "<polyline clip-path=\"url(#clip042)\" style=\"stroke:#000000; stroke-width:2; stroke-opacity:0.1; fill:none\" points=\"\n",
       "  193.218,617.952 2352.76,617.952 \n",
       "  \"/>\n",
       "<polyline clip-path=\"url(#clip042)\" style=\"stroke:#000000; stroke-width:2; stroke-opacity:0.1; fill:none\" points=\"\n",
       "  193.218,411.011 2352.76,411.011 \n",
       "  \"/>\n",
       "<polyline clip-path=\"url(#clip042)\" style=\"stroke:#000000; stroke-width:2; stroke-opacity:0.1; fill:none\" points=\"\n",
       "  193.218,204.07 2352.76,204.07 \n",
       "  \"/>\n",
       "<polyline clip-path=\"url(#clip040)\" style=\"stroke:#000000; stroke-width:4; stroke-opacity:1; fill:none\" points=\"\n",
       "  193.218,1486.45 193.218,47.2441 \n",
       "  \"/>\n",
       "<polyline clip-path=\"url(#clip040)\" style=\"stroke:#000000; stroke-width:4; stroke-opacity:1; fill:none\" points=\"\n",
       "  193.218,1445.72 219.133,1445.72 \n",
       "  \"/>\n",
       "<polyline clip-path=\"url(#clip040)\" style=\"stroke:#000000; stroke-width:4; stroke-opacity:1; fill:none\" points=\"\n",
       "  193.218,1238.77 219.133,1238.77 \n",
       "  \"/>\n",
       "<polyline clip-path=\"url(#clip040)\" style=\"stroke:#000000; stroke-width:4; stroke-opacity:1; fill:none\" points=\"\n",
       "  193.218,1031.83 219.133,1031.83 \n",
       "  \"/>\n",
       "<polyline clip-path=\"url(#clip040)\" style=\"stroke:#000000; stroke-width:4; stroke-opacity:1; fill:none\" points=\"\n",
       "  193.218,824.893 219.133,824.893 \n",
       "  \"/>\n",
       "<polyline clip-path=\"url(#clip040)\" style=\"stroke:#000000; stroke-width:4; stroke-opacity:1; fill:none\" points=\"\n",
       "  193.218,617.952 219.133,617.952 \n",
       "  \"/>\n",
       "<polyline clip-path=\"url(#clip040)\" style=\"stroke:#000000; stroke-width:4; stroke-opacity:1; fill:none\" points=\"\n",
       "  193.218,411.011 219.133,411.011 \n",
       "  \"/>\n",
       "<polyline clip-path=\"url(#clip040)\" style=\"stroke:#000000; stroke-width:4; stroke-opacity:1; fill:none\" points=\"\n",
       "  193.218,204.07 219.133,204.07 \n",
       "  \"/>\n",
       "<path clip-path=\"url(#clip040)\" d=\"M 0 0 M145.274 1431.51 Q141.663 1431.51 139.834 1435.08 Q138.029 1438.62 138.029 1445.75 Q138.029 1452.86 139.834 1456.42 Q141.663 1459.96 145.274 1459.96 Q148.908 1459.96 150.714 1456.42 Q152.543 1452.86 152.543 1445.75 Q152.543 1438.62 150.714 1435.08 Q148.908 1431.51 145.274 1431.51 M145.274 1427.81 Q151.084 1427.81 154.14 1432.42 Q157.218 1437 157.218 1445.75 Q157.218 1454.48 154.14 1459.08 Q151.084 1463.67 145.274 1463.67 Q139.464 1463.67 136.385 1459.08 Q133.33 1454.48 133.33 1445.75 Q133.33 1437 136.385 1432.42 Q139.464 1427.81 145.274 1427.81 Z\" fill=\"#000000\" fill-rule=\"evenodd\" fill-opacity=\"1\" /><path clip-path=\"url(#clip040)\" d=\"M 0 0 M56.2699 1252.12 L63.9087 1252.12 L63.9087 1225.75 L55.5986 1227.42 L55.5986 1223.16 L63.8624 1221.49 L68.5383 1221.49 L68.5383 1252.12 L76.1772 1252.12 L76.1772 1256.05 L56.2699 1256.05 L56.2699 1252.12 Z\" fill=\"#000000\" fill-rule=\"evenodd\" fill-opacity=\"1\" /><path clip-path=\"url(#clip040)\" d=\"M 0 0 M91.2465 1224.57 Q87.6354 1224.57 85.8068 1228.14 Q84.0012 1231.68 84.0012 1238.81 Q84.0012 1245.92 85.8068 1249.48 Q87.6354 1253.02 91.2465 1253.02 Q94.8808 1253.02 96.6863 1249.48 Q98.515 1245.92 98.515 1238.81 Q98.515 1231.68 96.6863 1228.14 Q94.8808 1224.57 91.2465 1224.57 M91.2465 1220.87 Q97.0567 1220.87 100.112 1225.48 Q103.191 1230.06 103.191 1238.81 Q103.191 1247.54 100.112 1252.14 Q97.0567 1256.73 91.2465 1256.73 Q85.4364 1256.73 82.3577 1252.14 Q79.3022 1247.54 79.3022 1238.81 Q79.3022 1230.06 82.3577 1225.48 Q85.4364 1220.87 91.2465 1220.87 Z\" fill=\"#000000\" fill-rule=\"evenodd\" fill-opacity=\"1\" /><path clip-path=\"url(#clip040)\" d=\"M 0 0 M118.26 1224.57 Q114.649 1224.57 112.82 1228.14 Q111.015 1231.68 111.015 1238.81 Q111.015 1245.92 112.82 1249.48 Q114.649 1253.02 118.26 1253.02 Q121.895 1253.02 123.7 1249.48 Q125.529 1245.92 125.529 1238.81 Q125.529 1231.68 123.7 1228.14 Q121.895 1224.57 118.26 1224.57 M118.26 1220.87 Q124.07 1220.87 127.126 1225.48 Q130.205 1230.06 130.205 1238.81 Q130.205 1247.54 127.126 1252.14 Q124.07 1256.73 118.26 1256.73 Q112.45 1256.73 109.371 1252.14 Q106.316 1247.54 106.316 1238.81 Q106.316 1230.06 109.371 1225.48 Q112.45 1220.87 118.26 1220.87 Z\" fill=\"#000000\" fill-rule=\"evenodd\" fill-opacity=\"1\" /><path clip-path=\"url(#clip040)\" d=\"M 0 0 M145.274 1224.57 Q141.663 1224.57 139.834 1228.14 Q138.029 1231.68 138.029 1238.81 Q138.029 1245.92 139.834 1249.48 Q141.663 1253.02 145.274 1253.02 Q148.908 1253.02 150.714 1249.48 Q152.543 1245.92 152.543 1238.81 Q152.543 1231.68 150.714 1228.14 Q148.908 1224.57 145.274 1224.57 M145.274 1220.87 Q151.084 1220.87 154.14 1225.48 Q157.218 1230.06 157.218 1238.81 Q157.218 1247.54 154.14 1252.14 Q151.084 1256.73 145.274 1256.73 Q139.464 1256.73 136.385 1252.14 Q133.33 1247.54 133.33 1238.81 Q133.33 1230.06 136.385 1225.48 Q139.464 1220.87 145.274 1220.87 Z\" fill=\"#000000\" fill-rule=\"evenodd\" fill-opacity=\"1\" /><path clip-path=\"url(#clip040)\" d=\"M 0 0 M59.8578 1045.18 L76.1772 1045.18 L76.1772 1049.11 L54.2328 1049.11 L54.2328 1045.18 Q56.8949 1042.42 61.4782 1037.79 Q66.0846 1033.14 67.2652 1031.8 Q69.5105 1029.28 70.3902 1027.54 Q71.2929 1025.78 71.2929 1024.09 Q71.2929 1021.34 69.3485 1019.6 Q67.4272 1017.86 64.3254 1017.86 Q62.1263 1017.86 59.6726 1018.63 Q57.2421 1019.39 54.4643 1020.94 L54.4643 1016.22 Q57.2884 1015.09 59.7421 1014.51 Q62.1958 1013.93 64.2328 1013.93 Q69.6031 1013.93 72.7976 1016.61 Q75.992 1019.3 75.992 1023.79 Q75.992 1025.92 75.1818 1027.84 Q74.3948 1029.74 72.2883 1032.33 Q71.7096 1033 68.6078 1036.22 Q65.5059 1039.41 59.8578 1045.18 Z\" fill=\"#000000\" fill-rule=\"evenodd\" fill-opacity=\"1\" /><path clip-path=\"url(#clip040)\" d=\"M 0 0 M91.2465 1017.63 Q87.6354 1017.63 85.8068 1021.2 Q84.0012 1024.74 84.0012 1031.87 Q84.0012 1038.98 85.8068 1042.54 Q87.6354 1046.08 91.2465 1046.08 Q94.8808 1046.08 96.6863 1042.54 Q98.515 1038.98 98.515 1031.87 Q98.515 1024.74 96.6863 1021.2 Q94.8808 1017.63 91.2465 1017.63 M91.2465 1013.93 Q97.0567 1013.93 100.112 1018.54 Q103.191 1023.12 103.191 1031.87 Q103.191 1040.6 100.112 1045.2 Q97.0567 1049.79 91.2465 1049.79 Q85.4364 1049.79 82.3577 1045.2 Q79.3022 1040.6 79.3022 1031.87 Q79.3022 1023.12 82.3577 1018.54 Q85.4364 1013.93 91.2465 1013.93 Z\" fill=\"#000000\" fill-rule=\"evenodd\" fill-opacity=\"1\" /><path clip-path=\"url(#clip040)\" d=\"M 0 0 M118.26 1017.63 Q114.649 1017.63 112.82 1021.2 Q111.015 1024.74 111.015 1031.87 Q111.015 1038.98 112.82 1042.54 Q114.649 1046.08 118.26 1046.08 Q121.895 1046.08 123.7 1042.54 Q125.529 1038.98 125.529 1031.87 Q125.529 1024.74 123.7 1021.2 Q121.895 1017.63 118.26 1017.63 M118.26 1013.93 Q124.07 1013.93 127.126 1018.54 Q130.205 1023.12 130.205 1031.87 Q130.205 1040.6 127.126 1045.2 Q124.07 1049.79 118.26 1049.79 Q112.45 1049.79 109.371 1045.2 Q106.316 1040.6 106.316 1031.87 Q106.316 1023.12 109.371 1018.54 Q112.45 1013.93 118.26 1013.93 Z\" fill=\"#000000\" fill-rule=\"evenodd\" fill-opacity=\"1\" /><path clip-path=\"url(#clip040)\" d=\"M 0 0 M145.274 1017.63 Q141.663 1017.63 139.834 1021.2 Q138.029 1024.74 138.029 1031.87 Q138.029 1038.98 139.834 1042.54 Q141.663 1046.08 145.274 1046.08 Q148.908 1046.08 150.714 1042.54 Q152.543 1038.98 152.543 1031.87 Q152.543 1024.74 150.714 1021.2 Q148.908 1017.63 145.274 1017.63 M145.274 1013.93 Q151.084 1013.93 154.14 1018.54 Q157.218 1023.12 157.218 1031.87 Q157.218 1040.6 154.14 1045.2 Q151.084 1049.79 145.274 1049.79 Q139.464 1049.79 136.385 1045.2 Q133.33 1040.6 133.33 1031.87 Q133.33 1023.12 136.385 1018.54 Q139.464 1013.93 145.274 1013.93 Z\" fill=\"#000000\" fill-rule=\"evenodd\" fill-opacity=\"1\" /><path clip-path=\"url(#clip040)\" d=\"M 0 0 M69.0476 823.539 Q72.404 824.256 74.279 826.525 Q76.1772 828.793 76.1772 832.127 Q76.1772 837.242 72.6587 840.043 Q69.1402 842.844 62.6587 842.844 Q60.4828 842.844 58.168 842.404 Q55.8764 841.988 53.4227 841.131 L53.4227 836.617 Q55.3671 837.752 57.6819 838.33 Q59.9967 838.909 62.5198 838.909 Q66.918 838.909 69.2096 837.173 Q71.5244 835.437 71.5244 832.127 Q71.5244 829.071 69.3717 827.358 Q67.242 825.622 63.4226 825.622 L59.3949 825.622 L59.3949 821.78 L63.6078 821.78 Q67.0569 821.78 68.8855 820.414 Q70.7142 819.025 70.7142 816.432 Q70.7142 813.77 68.8161 812.358 Q66.9411 810.923 63.4226 810.923 Q61.5013 810.923 59.3023 811.34 Q57.1032 811.756 54.4643 812.636 L54.4643 808.469 Q57.1264 807.729 59.4412 807.358 Q61.7791 806.988 63.8393 806.988 Q69.1633 806.988 72.2652 809.418 Q75.367 811.826 75.367 815.946 Q75.367 818.817 73.7235 820.807 Q72.08 822.775 69.0476 823.539 Z\" fill=\"#000000\" fill-rule=\"evenodd\" fill-opacity=\"1\" /><path clip-path=\"url(#clip040)\" d=\"M 0 0 M91.2465 810.692 Q87.6354 810.692 85.8068 814.256 Q84.0012 817.798 84.0012 824.928 Q84.0012 832.034 85.8068 835.599 Q87.6354 839.141 91.2465 839.141 Q94.8808 839.141 96.6863 835.599 Q98.515 832.034 98.515 824.928 Q98.515 817.798 96.6863 814.256 Q94.8808 810.692 91.2465 810.692 M91.2465 806.988 Q97.0567 806.988 100.112 811.594 Q103.191 816.178 103.191 824.928 Q103.191 833.654 100.112 838.261 Q97.0567 842.844 91.2465 842.844 Q85.4364 842.844 82.3577 838.261 Q79.3022 833.654 79.3022 824.928 Q79.3022 816.178 82.3577 811.594 Q85.4364 806.988 91.2465 806.988 Z\" fill=\"#000000\" fill-rule=\"evenodd\" fill-opacity=\"1\" /><path clip-path=\"url(#clip040)\" d=\"M 0 0 M118.26 810.692 Q114.649 810.692 112.82 814.256 Q111.015 817.798 111.015 824.928 Q111.015 832.034 112.82 835.599 Q114.649 839.141 118.26 839.141 Q121.895 839.141 123.7 835.599 Q125.529 832.034 125.529 824.928 Q125.529 817.798 123.7 814.256 Q121.895 810.692 118.26 810.692 M118.26 806.988 Q124.07 806.988 127.126 811.594 Q130.205 816.178 130.205 824.928 Q130.205 833.654 127.126 838.261 Q124.07 842.844 118.26 842.844 Q112.45 842.844 109.371 838.261 Q106.316 833.654 106.316 824.928 Q106.316 816.178 109.371 811.594 Q112.45 806.988 118.26 806.988 Z\" fill=\"#000000\" fill-rule=\"evenodd\" fill-opacity=\"1\" /><path clip-path=\"url(#clip040)\" d=\"M 0 0 M145.274 810.692 Q141.663 810.692 139.834 814.256 Q138.029 817.798 138.029 824.928 Q138.029 832.034 139.834 835.599 Q141.663 839.141 145.274 839.141 Q148.908 839.141 150.714 835.599 Q152.543 832.034 152.543 824.928 Q152.543 817.798 150.714 814.256 Q148.908 810.692 145.274 810.692 M145.274 806.988 Q151.084 806.988 154.14 811.594 Q157.218 816.178 157.218 824.928 Q157.218 833.654 154.14 838.261 Q151.084 842.844 145.274 842.844 Q139.464 842.844 136.385 838.261 Q133.33 833.654 133.33 824.928 Q133.33 816.178 136.385 811.594 Q139.464 806.988 145.274 806.988 Z\" fill=\"#000000\" fill-rule=\"evenodd\" fill-opacity=\"1\" /><path clip-path=\"url(#clip040)\" d=\"M 0 0 M66.5939 604.746 L54.7884 623.195 L66.5939 623.195 L66.5939 604.746 M65.367 600.672 L71.2466 600.672 L71.2466 623.195 L76.1772 623.195 L76.1772 627.084 L71.2466 627.084 L71.2466 635.232 L66.5939 635.232 L66.5939 627.084 L50.9921 627.084 L50.9921 622.57 L65.367 600.672 Z\" fill=\"#000000\" fill-rule=\"evenodd\" fill-opacity=\"1\" /><path clip-path=\"url(#clip040)\" d=\"M 0 0 M91.2465 603.751 Q87.6354 603.751 85.8068 607.315 Q84.0012 610.857 84.0012 617.987 Q84.0012 625.093 85.8068 628.658 Q87.6354 632.2 91.2465 632.2 Q94.8808 632.2 96.6863 628.658 Q98.515 625.093 98.515 617.987 Q98.515 610.857 96.6863 607.315 Q94.8808 603.751 91.2465 603.751 M91.2465 600.047 Q97.0567 600.047 100.112 604.653 Q103.191 609.237 103.191 617.987 Q103.191 626.714 100.112 631.32 Q97.0567 635.903 91.2465 635.903 Q85.4364 635.903 82.3577 631.32 Q79.3022 626.714 79.3022 617.987 Q79.3022 609.237 82.3577 604.653 Q85.4364 600.047 91.2465 600.047 Z\" fill=\"#000000\" fill-rule=\"evenodd\" fill-opacity=\"1\" /><path clip-path=\"url(#clip040)\" d=\"M 0 0 M118.26 603.751 Q114.649 603.751 112.82 607.315 Q111.015 610.857 111.015 617.987 Q111.015 625.093 112.82 628.658 Q114.649 632.2 118.26 632.2 Q121.895 632.2 123.7 628.658 Q125.529 625.093 125.529 617.987 Q125.529 610.857 123.7 607.315 Q121.895 603.751 118.26 603.751 M118.26 600.047 Q124.07 600.047 127.126 604.653 Q130.205 609.237 130.205 617.987 Q130.205 626.714 127.126 631.32 Q124.07 635.903 118.26 635.903 Q112.45 635.903 109.371 631.32 Q106.316 626.714 106.316 617.987 Q106.316 609.237 109.371 604.653 Q112.45 600.047 118.26 600.047 Z\" fill=\"#000000\" fill-rule=\"evenodd\" fill-opacity=\"1\" /><path clip-path=\"url(#clip040)\" d=\"M 0 0 M145.274 603.751 Q141.663 603.751 139.834 607.315 Q138.029 610.857 138.029 617.987 Q138.029 625.093 139.834 628.658 Q141.663 632.2 145.274 632.2 Q148.908 632.2 150.714 628.658 Q152.543 625.093 152.543 617.987 Q152.543 610.857 150.714 607.315 Q148.908 603.751 145.274 603.751 M145.274 600.047 Q151.084 600.047 154.14 604.653 Q157.218 609.237 157.218 617.987 Q157.218 626.714 154.14 631.32 Q151.084 635.903 145.274 635.903 Q139.464 635.903 136.385 631.32 Q133.33 626.714 133.33 617.987 Q133.33 609.237 136.385 604.653 Q139.464 600.047 145.274 600.047 Z\" fill=\"#000000\" fill-rule=\"evenodd\" fill-opacity=\"1\" /><path clip-path=\"url(#clip040)\" d=\"M 0 0 M55.2745 393.731 L73.6309 393.731 L73.6309 397.666 L59.5569 397.666 L59.5569 406.138 Q60.5754 405.791 61.5939 405.629 Q62.6124 405.444 63.6309 405.444 Q69.418 405.444 72.7976 408.615 Q76.1772 411.787 76.1772 417.203 Q76.1772 422.782 72.705 425.884 Q69.2328 428.962 62.9134 428.962 Q60.7374 428.962 58.4689 428.592 Q56.2236 428.222 53.8162 427.481 L53.8162 422.782 Q55.8995 423.916 58.1217 424.472 Q60.3439 425.027 62.8208 425.027 Q66.8254 425.027 69.1633 422.921 Q71.5013 420.814 71.5013 417.203 Q71.5013 413.592 69.1633 411.486 Q66.8254 409.379 62.8208 409.379 Q60.9458 409.379 59.0708 409.796 Q57.2189 410.212 55.2745 411.092 L55.2745 393.731 Z\" fill=\"#000000\" fill-rule=\"evenodd\" fill-opacity=\"1\" /><path clip-path=\"url(#clip040)\" d=\"M 0 0 M91.2465 396.81 Q87.6354 396.81 85.8068 400.375 Q84.0012 403.916 84.0012 411.046 Q84.0012 418.152 85.8068 421.717 Q87.6354 425.259 91.2465 425.259 Q94.8808 425.259 96.6863 421.717 Q98.515 418.152 98.515 411.046 Q98.515 403.916 96.6863 400.375 Q94.8808 396.81 91.2465 396.81 M91.2465 393.106 Q97.0567 393.106 100.112 397.713 Q103.191 402.296 103.191 411.046 Q103.191 419.773 100.112 424.379 Q97.0567 428.962 91.2465 428.962 Q85.4364 428.962 82.3577 424.379 Q79.3022 419.773 79.3022 411.046 Q79.3022 402.296 82.3577 397.713 Q85.4364 393.106 91.2465 393.106 Z\" fill=\"#000000\" fill-rule=\"evenodd\" fill-opacity=\"1\" /><path clip-path=\"url(#clip040)\" d=\"M 0 0 M118.26 396.81 Q114.649 396.81 112.82 400.375 Q111.015 403.916 111.015 411.046 Q111.015 418.152 112.82 421.717 Q114.649 425.259 118.26 425.259 Q121.895 425.259 123.7 421.717 Q125.529 418.152 125.529 411.046 Q125.529 403.916 123.7 400.375 Q121.895 396.81 118.26 396.81 M118.26 393.106 Q124.07 393.106 127.126 397.713 Q130.205 402.296 130.205 411.046 Q130.205 419.773 127.126 424.379 Q124.07 428.962 118.26 428.962 Q112.45 428.962 109.371 424.379 Q106.316 419.773 106.316 411.046 Q106.316 402.296 109.371 397.713 Q112.45 393.106 118.26 393.106 Z\" fill=\"#000000\" fill-rule=\"evenodd\" fill-opacity=\"1\" /><path clip-path=\"url(#clip040)\" d=\"M 0 0 M145.274 396.81 Q141.663 396.81 139.834 400.375 Q138.029 403.916 138.029 411.046 Q138.029 418.152 139.834 421.717 Q141.663 425.259 145.274 425.259 Q148.908 425.259 150.714 421.717 Q152.543 418.152 152.543 411.046 Q152.543 403.916 150.714 400.375 Q148.908 396.81 145.274 396.81 M145.274 393.106 Q151.084 393.106 154.14 397.713 Q157.218 402.296 157.218 411.046 Q157.218 419.773 154.14 424.379 Q151.084 428.962 145.274 428.962 Q139.464 428.962 136.385 424.379 Q133.33 419.773 133.33 411.046 Q133.33 402.296 136.385 397.713 Q139.464 393.106 145.274 393.106 Z\" fill=\"#000000\" fill-rule=\"evenodd\" fill-opacity=\"1\" /><path clip-path=\"url(#clip040)\" d=\"M 0 0 M64.6495 202.207 Q61.5013 202.207 59.6495 204.359 Q57.8208 206.512 57.8208 210.262 Q57.8208 213.989 59.6495 216.165 Q61.5013 218.318 64.6495 218.318 Q67.7976 218.318 69.6263 216.165 Q71.4781 213.989 71.4781 210.262 Q71.4781 206.512 69.6263 204.359 Q67.7976 202.207 64.6495 202.207 M73.9318 187.554 L73.9318 191.813 Q72.1726 190.98 70.367 190.54 Q68.5846 190.1 66.8254 190.1 Q62.1958 190.1 59.7421 193.225 Q57.3115 196.35 56.9643 202.67 Q58.33 200.656 60.3902 199.591 Q62.4504 198.503 64.9272 198.503 Q70.1355 198.503 73.1448 201.674 Q76.1772 204.822 76.1772 210.262 Q76.1772 215.586 73.029 218.804 Q69.8809 222.021 64.6495 222.021 Q58.6541 222.021 55.4828 217.438 Q52.3116 212.832 52.3116 204.105 Q52.3116 195.91 56.2004 191.049 Q60.0893 186.165 66.6402 186.165 Q68.3994 186.165 70.1818 186.512 Q71.9874 186.86 73.9318 187.554 Z\" fill=\"#000000\" fill-rule=\"evenodd\" fill-opacity=\"1\" /><path clip-path=\"url(#clip040)\" d=\"M 0 0 M91.2465 189.869 Q87.6354 189.869 85.8068 193.434 Q84.0012 196.975 84.0012 204.105 Q84.0012 211.211 85.8068 214.776 Q87.6354 218.318 91.2465 218.318 Q94.8808 218.318 96.6863 214.776 Q98.515 211.211 98.515 204.105 Q98.515 196.975 96.6863 193.434 Q94.8808 189.869 91.2465 189.869 M91.2465 186.165 Q97.0567 186.165 100.112 190.772 Q103.191 195.355 103.191 204.105 Q103.191 212.832 100.112 217.438 Q97.0567 222.021 91.2465 222.021 Q85.4364 222.021 82.3577 217.438 Q79.3022 212.832 79.3022 204.105 Q79.3022 195.355 82.3577 190.772 Q85.4364 186.165 91.2465 186.165 Z\" fill=\"#000000\" fill-rule=\"evenodd\" fill-opacity=\"1\" /><path clip-path=\"url(#clip040)\" d=\"M 0 0 M118.26 189.869 Q114.649 189.869 112.82 193.434 Q111.015 196.975 111.015 204.105 Q111.015 211.211 112.82 214.776 Q114.649 218.318 118.26 218.318 Q121.895 218.318 123.7 214.776 Q125.529 211.211 125.529 204.105 Q125.529 196.975 123.7 193.434 Q121.895 189.869 118.26 189.869 M118.26 186.165 Q124.07 186.165 127.126 190.772 Q130.205 195.355 130.205 204.105 Q130.205 212.832 127.126 217.438 Q124.07 222.021 118.26 222.021 Q112.45 222.021 109.371 217.438 Q106.316 212.832 106.316 204.105 Q106.316 195.355 109.371 190.772 Q112.45 186.165 118.26 186.165 Z\" fill=\"#000000\" fill-rule=\"evenodd\" fill-opacity=\"1\" /><path clip-path=\"url(#clip040)\" d=\"M 0 0 M145.274 189.869 Q141.663 189.869 139.834 193.434 Q138.029 196.975 138.029 204.105 Q138.029 211.211 139.834 214.776 Q141.663 218.318 145.274 218.318 Q148.908 218.318 150.714 214.776 Q152.543 211.211 152.543 204.105 Q152.543 196.975 150.714 193.434 Q148.908 189.869 145.274 189.869 M145.274 186.165 Q151.084 186.165 154.14 190.772 Q157.218 195.355 157.218 204.105 Q157.218 212.832 154.14 217.438 Q151.084 222.021 145.274 222.021 Q139.464 222.021 136.385 217.438 Q133.33 212.832 133.33 204.105 Q133.33 195.355 136.385 190.772 Q139.464 186.165 145.274 186.165 Z\" fill=\"#000000\" fill-rule=\"evenodd\" fill-opacity=\"1\" /><path clip-path=\"url(#clip042)\" d=\"\n",
       "M311.997 87.9763 L311.997 1445.72 L361.278 1445.72 L361.278 87.9763 L311.997 87.9763 L311.997 87.9763  Z\n",
       "  \" fill=\"#009af9\" fill-rule=\"evenodd\" fill-opacity=\"1\"/>\n",
       "<polyline clip-path=\"url(#clip042)\" style=\"stroke:#000000; stroke-width:4; stroke-opacity:1; fill:none\" points=\"\n",
       "  311.997,87.9763 311.997,1445.72 361.278,1445.72 361.278,87.9763 311.997,87.9763 \n",
       "  \"/>\n",
       "<path clip-path=\"url(#clip042)\" d=\"\n",
       "M361.278 1445.72 L361.278 1445.72 L410.56 1445.72 L410.56 1445.72 L361.278 1445.72 L361.278 1445.72  Z\n",
       "  \" fill=\"#009af9\" fill-rule=\"evenodd\" fill-opacity=\"1\"/>\n",
       "<polyline clip-path=\"url(#clip042)\" style=\"stroke:#000000; stroke-width:4; stroke-opacity:1; fill:none\" points=\"\n",
       "  361.278,1445.72 361.278,1445.72 410.56,1445.72 361.278,1445.72 \n",
       "  \"/>\n",
       "<path clip-path=\"url(#clip042)\" d=\"\n",
       "M410.56 1306.03 L410.56 1445.72 L459.841 1445.72 L459.841 1306.03 L410.56 1306.03 L410.56 1306.03  Z\n",
       "  \" fill=\"#009af9\" fill-rule=\"evenodd\" fill-opacity=\"1\"/>\n",
       "<polyline clip-path=\"url(#clip042)\" style=\"stroke:#000000; stroke-width:4; stroke-opacity:1; fill:none\" points=\"\n",
       "  410.56,1306.03 410.56,1445.72 459.841,1445.72 459.841,1306.03 410.56,1306.03 \n",
       "  \"/>\n",
       "<path clip-path=\"url(#clip042)\" d=\"\n",
       "M459.841 1434.54 L459.841 1445.72 L509.123 1445.72 L509.123 1434.54 L459.841 1434.54 L459.841 1434.54  Z\n",
       "  \" fill=\"#009af9\" fill-rule=\"evenodd\" fill-opacity=\"1\"/>\n",
       "<polyline clip-path=\"url(#clip042)\" style=\"stroke:#000000; stroke-width:4; stroke-opacity:1; fill:none\" points=\"\n",
       "  459.841,1434.54 459.841,1445.72 509.123,1445.72 509.123,1434.54 459.841,1434.54 \n",
       "  \"/>\n",
       "<path clip-path=\"url(#clip042)\" d=\"\n",
       "M509.123 1445.72 L509.123 1445.72 L558.405 1445.72 L558.405 1445.72 L509.123 1445.72 L509.123 1445.72  Z\n",
       "  \" fill=\"#009af9\" fill-rule=\"evenodd\" fill-opacity=\"1\"/>\n",
       "<polyline clip-path=\"url(#clip042)\" style=\"stroke:#000000; stroke-width:4; stroke-opacity:1; fill:none\" points=\"\n",
       "  509.123,1445.72 509.123,1445.72 558.405,1445.72 509.123,1445.72 \n",
       "  \"/>\n",
       "<path clip-path=\"url(#clip042)\" d=\"\n",
       "M558.405 886.975 L558.405 1445.72 L607.686 1445.72 L607.686 886.975 L558.405 886.975 L558.405 886.975  Z\n",
       "  \" fill=\"#009af9\" fill-rule=\"evenodd\" fill-opacity=\"1\"/>\n",
       "<polyline clip-path=\"url(#clip042)\" style=\"stroke:#000000; stroke-width:4; stroke-opacity:1; fill:none\" points=\"\n",
       "  558.405,886.975 558.405,1445.72 607.686,1445.72 607.686,886.975 558.405,886.975 \n",
       "  \"/>\n",
       "<path clip-path=\"url(#clip042)\" d=\"\n",
       "M607.686 1283.68 L607.686 1445.72 L656.968 1445.72 L656.968 1283.68 L607.686 1283.68 L607.686 1283.68  Z\n",
       "  \" fill=\"#009af9\" fill-rule=\"evenodd\" fill-opacity=\"1\"/>\n",
       "<polyline clip-path=\"url(#clip042)\" style=\"stroke:#000000; stroke-width:4; stroke-opacity:1; fill:none\" points=\"\n",
       "  607.686,1283.68 607.686,1445.72 656.968,1445.72 656.968,1283.68 607.686,1283.68 \n",
       "  \"/>\n",
       "<path clip-path=\"url(#clip042)\" d=\"\n",
       "M656.968 1278.09 L656.968 1445.72 L706.249 1445.72 L706.249 1278.09 L656.968 1278.09 L656.968 1278.09  Z\n",
       "  \" fill=\"#009af9\" fill-rule=\"evenodd\" fill-opacity=\"1\"/>\n",
       "<polyline clip-path=\"url(#clip042)\" style=\"stroke:#000000; stroke-width:4; stroke-opacity:1; fill:none\" points=\"\n",
       "  656.968,1278.09 656.968,1445.72 706.249,1445.72 706.249,1278.09 656.968,1278.09 \n",
       "  \"/>\n",
       "<path clip-path=\"url(#clip042)\" d=\"\n",
       "M706.249 1440.13 L706.249 1445.72 L755.531 1445.72 L755.531 1440.13 L706.249 1440.13 L706.249 1440.13  Z\n",
       "  \" fill=\"#009af9\" fill-rule=\"evenodd\" fill-opacity=\"1\"/>\n",
       "<polyline clip-path=\"url(#clip042)\" style=\"stroke:#000000; stroke-width:4; stroke-opacity:1; fill:none\" points=\"\n",
       "  706.249,1440.13 706.249,1445.72 755.531,1445.72 755.531,1440.13 706.249,1440.13 \n",
       "  \"/>\n",
       "<path clip-path=\"url(#clip042)\" d=\"\n",
       "M755.531 1440.13 L755.531 1445.72 L804.812 1445.72 L804.812 1440.13 L755.531 1440.13 L755.531 1440.13  Z\n",
       "  \" fill=\"#009af9\" fill-rule=\"evenodd\" fill-opacity=\"1\"/>\n",
       "<polyline clip-path=\"url(#clip042)\" style=\"stroke:#000000; stroke-width:4; stroke-opacity:1; fill:none\" points=\"\n",
       "  755.531,1440.13 755.531,1445.72 804.812,1445.72 804.812,1440.13 755.531,1440.13 \n",
       "  \"/>\n",
       "<path clip-path=\"url(#clip042)\" d=\"\n",
       "M804.812 881.388 L804.812 1445.72 L854.094 1445.72 L854.094 881.388 L804.812 881.388 L804.812 881.388  Z\n",
       "  \" fill=\"#009af9\" fill-rule=\"evenodd\" fill-opacity=\"1\"/>\n",
       "<polyline clip-path=\"url(#clip042)\" style=\"stroke:#000000; stroke-width:4; stroke-opacity:1; fill:none\" points=\"\n",
       "  804.812,881.388 804.812,1445.72 854.094,1445.72 854.094,881.388 804.812,881.388 \n",
       "  \"/>\n",
       "<path clip-path=\"url(#clip042)\" d=\"\n",
       "M854.094 1306.03 L854.094 1445.72 L903.375 1445.72 L903.375 1306.03 L854.094 1306.03 L854.094 1306.03  Z\n",
       "  \" fill=\"#009af9\" fill-rule=\"evenodd\" fill-opacity=\"1\"/>\n",
       "<polyline clip-path=\"url(#clip042)\" style=\"stroke:#000000; stroke-width:4; stroke-opacity:1; fill:none\" points=\"\n",
       "  854.094,1306.03 854.094,1445.72 903.375,1445.72 903.375,1306.03 854.094,1306.03 \n",
       "  \"/>\n",
       "<path clip-path=\"url(#clip042)\" d=\"\n",
       "M903.375 1283.68 L903.375 1445.72 L952.657 1445.72 L952.657 1283.68 L903.375 1283.68 L903.375 1283.68  Z\n",
       "  \" fill=\"#009af9\" fill-rule=\"evenodd\" fill-opacity=\"1\"/>\n",
       "<polyline clip-path=\"url(#clip042)\" style=\"stroke:#000000; stroke-width:4; stroke-opacity:1; fill:none\" points=\"\n",
       "  903.375,1283.68 903.375,1445.72 952.657,1445.72 952.657,1283.68 903.375,1283.68 \n",
       "  \"/>\n",
       "<path clip-path=\"url(#clip042)\" d=\"\n",
       "M952.657 1440.13 L952.657 1445.72 L1001.94 1445.72 L1001.94 1440.13 L952.657 1440.13 L952.657 1440.13  Z\n",
       "  \" fill=\"#009af9\" fill-rule=\"evenodd\" fill-opacity=\"1\"/>\n",
       "<polyline clip-path=\"url(#clip042)\" style=\"stroke:#000000; stroke-width:4; stroke-opacity:1; fill:none\" points=\"\n",
       "  952.657,1440.13 952.657,1445.72 1001.94,1445.72 1001.94,1440.13 952.657,1440.13 \n",
       "  \"/>\n",
       "<path clip-path=\"url(#clip042)\" d=\"\n",
       "M1001.94 1445.72 L1001.94 1445.72 L1051.22 1445.72 L1051.22 1445.72 L1001.94 1445.72 L1001.94 1445.72  Z\n",
       "  \" fill=\"#009af9\" fill-rule=\"evenodd\" fill-opacity=\"1\"/>\n",
       "<polyline clip-path=\"url(#clip042)\" style=\"stroke:#000000; stroke-width:4; stroke-opacity:1; fill:none\" points=\"\n",
       "  1001.94,1445.72 1001.94,1445.72 1051.22,1445.72 1001.94,1445.72 \n",
       "  \"/>\n",
       "<path clip-path=\"url(#clip042)\" d=\"\n",
       "M1051.22 1278.09 L1051.22 1445.72 L1100.5 1445.72 L1100.5 1278.09 L1051.22 1278.09 L1051.22 1278.09  Z\n",
       "  \" fill=\"#009af9\" fill-rule=\"evenodd\" fill-opacity=\"1\"/>\n",
       "<polyline clip-path=\"url(#clip042)\" style=\"stroke:#000000; stroke-width:4; stroke-opacity:1; fill:none\" points=\"\n",
       "  1051.22,1278.09 1051.22,1445.72 1100.5,1445.72 1100.5,1278.09 1051.22,1278.09 \n",
       "  \"/>\n",
       "<path clip-path=\"url(#clip042)\" d=\"\n",
       "M1100.5 1440.13 L1100.5 1445.72 L1149.78 1445.72 L1149.78 1440.13 L1100.5 1440.13 L1100.5 1440.13  Z\n",
       "  \" fill=\"#009af9\" fill-rule=\"evenodd\" fill-opacity=\"1\"/>\n",
       "<polyline clip-path=\"url(#clip042)\" style=\"stroke:#000000; stroke-width:4; stroke-opacity:1; fill:none\" points=\"\n",
       "  1100.5,1440.13 1100.5,1445.72 1149.78,1445.72 1149.78,1440.13 1100.5,1440.13 \n",
       "  \"/>\n",
       "<path clip-path=\"url(#clip042)\" d=\"\n",
       "M1149.78 1306.03 L1149.78 1445.72 L1199.06 1445.72 L1199.06 1306.03 L1149.78 1306.03 L1149.78 1306.03  Z\n",
       "  \" fill=\"#009af9\" fill-rule=\"evenodd\" fill-opacity=\"1\"/>\n",
       "<polyline clip-path=\"url(#clip042)\" style=\"stroke:#000000; stroke-width:4; stroke-opacity:1; fill:none\" points=\"\n",
       "  1149.78,1306.03 1149.78,1445.72 1199.06,1445.72 1199.06,1306.03 1149.78,1306.03 \n",
       "  \"/>\n",
       "<path clip-path=\"url(#clip042)\" d=\"\n",
       "M1199.06 1434.54 L1199.06 1445.72 L1248.35 1445.72 L1248.35 1434.54 L1199.06 1434.54 L1199.06 1434.54  Z\n",
       "  \" fill=\"#009af9\" fill-rule=\"evenodd\" fill-opacity=\"1\"/>\n",
       "<polyline clip-path=\"url(#clip042)\" style=\"stroke:#000000; stroke-width:4; stroke-opacity:1; fill:none\" points=\"\n",
       "  1199.06,1434.54 1199.06,1445.72 1248.35,1445.72 1248.35,1434.54 1199.06,1434.54 \n",
       "  \"/>\n",
       "<path clip-path=\"url(#clip042)\" d=\"\n",
       "M1248.35 1445.72 L1248.35 1445.72 L1297.63 1445.72 L1297.63 1445.72 L1248.35 1445.72 L1248.35 1445.72  Z\n",
       "  \" fill=\"#009af9\" fill-rule=\"evenodd\" fill-opacity=\"1\"/>\n",
       "<polyline clip-path=\"url(#clip042)\" style=\"stroke:#000000; stroke-width:4; stroke-opacity:1; fill:none\" points=\"\n",
       "  1248.35,1445.72 1248.35,1445.72 1297.63,1445.72 1248.35,1445.72 \n",
       "  \"/>\n",
       "<path clip-path=\"url(#clip042)\" d=\"\n",
       "M1297.63 1306.03 L1297.63 1445.72 L1346.91 1445.72 L1346.91 1306.03 L1297.63 1306.03 L1297.63 1306.03  Z\n",
       "  \" fill=\"#009af9\" fill-rule=\"evenodd\" fill-opacity=\"1\"/>\n",
       "<polyline clip-path=\"url(#clip042)\" style=\"stroke:#000000; stroke-width:4; stroke-opacity:1; fill:none\" points=\"\n",
       "  1297.63,1306.03 1297.63,1445.72 1346.91,1445.72 1346.91,1306.03 1297.63,1306.03 \n",
       "  \"/>\n",
       "<path clip-path=\"url(#clip042)\" d=\"\n",
       "M1346.91 1440.13 L1346.91 1445.72 L1396.19 1445.72 L1396.19 1440.13 L1346.91 1440.13 L1346.91 1440.13  Z\n",
       "  \" fill=\"#009af9\" fill-rule=\"evenodd\" fill-opacity=\"1\"/>\n",
       "<polyline clip-path=\"url(#clip042)\" style=\"stroke:#000000; stroke-width:4; stroke-opacity:1; fill:none\" points=\"\n",
       "  1346.91,1440.13 1346.91,1445.72 1396.19,1445.72 1396.19,1440.13 1346.91,1440.13 \n",
       "  \"/>\n",
       "<path clip-path=\"url(#clip042)\" d=\"\n",
       "M1396.19 1440.13 L1396.19 1445.72 L1445.47 1445.72 L1445.47 1440.13 L1396.19 1440.13 L1396.19 1440.13  Z\n",
       "  \" fill=\"#009af9\" fill-rule=\"evenodd\" fill-opacity=\"1\"/>\n",
       "<polyline clip-path=\"url(#clip042)\" style=\"stroke:#000000; stroke-width:4; stroke-opacity:1; fill:none\" points=\"\n",
       "  1396.19,1440.13 1396.19,1445.72 1445.47,1445.72 1445.47,1440.13 1396.19,1440.13 \n",
       "  \"/>\n",
       "<path clip-path=\"url(#clip042)\" d=\"\n",
       "M1445.47 1445.72 L1445.47 1445.72 L1494.75 1445.72 L1494.75 1445.72 L1445.47 1445.72 L1445.47 1445.72  Z\n",
       "  \" fill=\"#009af9\" fill-rule=\"evenodd\" fill-opacity=\"1\"/>\n",
       "<polyline clip-path=\"url(#clip042)\" style=\"stroke:#000000; stroke-width:4; stroke-opacity:1; fill:none\" points=\"\n",
       "  1445.47,1445.72 1445.47,1445.72 1494.75,1445.72 1445.47,1445.72 \n",
       "  \"/>\n",
       "<path clip-path=\"url(#clip042)\" d=\"\n",
       "M1494.75 1440.13 L1494.75 1445.72 L1544.04 1445.72 L1544.04 1440.13 L1494.75 1440.13 L1494.75 1440.13  Z\n",
       "  \" fill=\"#009af9\" fill-rule=\"evenodd\" fill-opacity=\"1\"/>\n",
       "<polyline clip-path=\"url(#clip042)\" style=\"stroke:#000000; stroke-width:4; stroke-opacity:1; fill:none\" points=\"\n",
       "  1494.75,1440.13 1494.75,1445.72 1544.04,1445.72 1544.04,1440.13 1494.75,1440.13 \n",
       "  \"/>\n",
       "<path clip-path=\"url(#clip042)\" d=\"\n",
       "M1544.04 1306.03 L1544.04 1445.72 L1593.32 1445.72 L1593.32 1306.03 L1544.04 1306.03 L1544.04 1306.03  Z\n",
       "  \" fill=\"#009af9\" fill-rule=\"evenodd\" fill-opacity=\"1\"/>\n",
       "<polyline clip-path=\"url(#clip042)\" style=\"stroke:#000000; stroke-width:4; stroke-opacity:1; fill:none\" points=\"\n",
       "  1544.04,1306.03 1544.04,1445.72 1593.32,1445.72 1593.32,1306.03 1544.04,1306.03 \n",
       "  \"/>\n",
       "<path clip-path=\"url(#clip042)\" d=\"\n",
       "M1593.32 1440.13 L1593.32 1445.72 L1642.6 1445.72 L1642.6 1440.13 L1593.32 1440.13 L1593.32 1440.13  Z\n",
       "  \" fill=\"#009af9\" fill-rule=\"evenodd\" fill-opacity=\"1\"/>\n",
       "<polyline clip-path=\"url(#clip042)\" style=\"stroke:#000000; stroke-width:4; stroke-opacity:1; fill:none\" points=\"\n",
       "  1593.32,1440.13 1593.32,1445.72 1642.6,1445.72 1642.6,1440.13 1593.32,1440.13 \n",
       "  \"/>\n",
       "<path clip-path=\"url(#clip042)\" d=\"\n",
       "M1642.6 1300.44 L1642.6 1445.72 L1691.88 1445.72 L1691.88 1300.44 L1642.6 1300.44 L1642.6 1300.44  Z\n",
       "  \" fill=\"#009af9\" fill-rule=\"evenodd\" fill-opacity=\"1\"/>\n",
       "<polyline clip-path=\"url(#clip042)\" style=\"stroke:#000000; stroke-width:4; stroke-opacity:1; fill:none\" points=\"\n",
       "  1642.6,1300.44 1642.6,1445.72 1691.88,1445.72 1691.88,1300.44 1642.6,1300.44 \n",
       "  \"/>\n",
       "<path clip-path=\"url(#clip042)\" d=\"\n",
       "M1691.88 1445.72 L1691.88 1445.72 L1741.16 1445.72 L1741.16 1445.72 L1691.88 1445.72 L1691.88 1445.72  Z\n",
       "  \" fill=\"#009af9\" fill-rule=\"evenodd\" fill-opacity=\"1\"/>\n",
       "<polyline clip-path=\"url(#clip042)\" style=\"stroke:#000000; stroke-width:4; stroke-opacity:1; fill:none\" points=\"\n",
       "  1691.88,1445.72 1691.88,1445.72 1741.16,1445.72 1691.88,1445.72 \n",
       "  \"/>\n",
       "<path clip-path=\"url(#clip042)\" d=\"\n",
       "M1741.16 1445.72 L1741.16 1445.72 L1790.44 1445.72 L1790.44 1445.72 L1741.16 1445.72 L1741.16 1445.72  Z\n",
       "  \" fill=\"#009af9\" fill-rule=\"evenodd\" fill-opacity=\"1\"/>\n",
       "<polyline clip-path=\"url(#clip042)\" style=\"stroke:#000000; stroke-width:4; stroke-opacity:1; fill:none\" points=\"\n",
       "  1741.16,1445.72 1741.16,1445.72 1790.44,1445.72 1741.16,1445.72 \n",
       "  \"/>\n",
       "<path clip-path=\"url(#clip042)\" d=\"\n",
       "M1790.44 1434.54 L1790.44 1445.72 L1839.73 1445.72 L1839.73 1434.54 L1790.44 1434.54 L1790.44 1434.54  Z\n",
       "  \" fill=\"#009af9\" fill-rule=\"evenodd\" fill-opacity=\"1\"/>\n",
       "<polyline clip-path=\"url(#clip042)\" style=\"stroke:#000000; stroke-width:4; stroke-opacity:1; fill:none\" points=\"\n",
       "  1790.44,1434.54 1790.44,1445.72 1839.73,1445.72 1839.73,1434.54 1790.44,1434.54 \n",
       "  \"/>\n",
       "<path clip-path=\"url(#clip042)\" d=\"\n",
       "M1839.73 1445.72 L1839.73 1445.72 L1889.01 1445.72 L1889.01 1445.72 L1839.73 1445.72 L1839.73 1445.72  Z\n",
       "  \" fill=\"#009af9\" fill-rule=\"evenodd\" fill-opacity=\"1\"/>\n",
       "<polyline clip-path=\"url(#clip042)\" style=\"stroke:#000000; stroke-width:4; stroke-opacity:1; fill:none\" points=\"\n",
       "  1839.73,1445.72 1839.73,1445.72 1889.01,1445.72 1839.73,1445.72 \n",
       "  \"/>\n",
       "<path clip-path=\"url(#clip042)\" d=\"\n",
       "M1889.01 1445.72 L1889.01 1445.72 L1938.29 1445.72 L1938.29 1445.72 L1889.01 1445.72 L1889.01 1445.72  Z\n",
       "  \" fill=\"#009af9\" fill-rule=\"evenodd\" fill-opacity=\"1\"/>\n",
       "<polyline clip-path=\"url(#clip042)\" style=\"stroke:#000000; stroke-width:4; stroke-opacity:1; fill:none\" points=\"\n",
       "  1889.01,1445.72 1889.01,1445.72 1938.29,1445.72 1889.01,1445.72 \n",
       "  \"/>\n",
       "<path clip-path=\"url(#clip042)\" d=\"\n",
       "M1938.29 1445.72 L1938.29 1445.72 L1987.57 1445.72 L1987.57 1445.72 L1938.29 1445.72 L1938.29 1445.72  Z\n",
       "  \" fill=\"#009af9\" fill-rule=\"evenodd\" fill-opacity=\"1\"/>\n",
       "<polyline clip-path=\"url(#clip042)\" style=\"stroke:#000000; stroke-width:4; stroke-opacity:1; fill:none\" points=\"\n",
       "  1938.29,1445.72 1938.29,1445.72 1987.57,1445.72 1938.29,1445.72 \n",
       "  \"/>\n",
       "<path clip-path=\"url(#clip042)\" d=\"\n",
       "M1987.57 1445.72 L1987.57 1445.72 L2036.85 1445.72 L2036.85 1445.72 L1987.57 1445.72 L1987.57 1445.72  Z\n",
       "  \" fill=\"#009af9\" fill-rule=\"evenodd\" fill-opacity=\"1\"/>\n",
       "<polyline clip-path=\"url(#clip042)\" style=\"stroke:#000000; stroke-width:4; stroke-opacity:1; fill:none\" points=\"\n",
       "  1987.57,1445.72 1987.57,1445.72 2036.85,1445.72 1987.57,1445.72 \n",
       "  \"/>\n",
       "<path clip-path=\"url(#clip042)\" d=\"\n",
       "M2036.85 1445.72 L2036.85 1445.72 L2086.13 1445.72 L2086.13 1445.72 L2036.85 1445.72 L2036.85 1445.72  Z\n",
       "  \" fill=\"#009af9\" fill-rule=\"evenodd\" fill-opacity=\"1\"/>\n",
       "<polyline clip-path=\"url(#clip042)\" style=\"stroke:#000000; stroke-width:4; stroke-opacity:1; fill:none\" points=\"\n",
       "  2036.85,1445.72 2036.85,1445.72 2086.13,1445.72 2036.85,1445.72 \n",
       "  \"/>\n",
       "<path clip-path=\"url(#clip042)\" d=\"\n",
       "M2086.13 1445.72 L2086.13 1445.72 L2135.41 1445.72 L2135.41 1445.72 L2086.13 1445.72 L2086.13 1445.72  Z\n",
       "  \" fill=\"#009af9\" fill-rule=\"evenodd\" fill-opacity=\"1\"/>\n",
       "<polyline clip-path=\"url(#clip042)\" style=\"stroke:#000000; stroke-width:4; stroke-opacity:1; fill:none\" points=\"\n",
       "  2086.13,1445.72 2086.13,1445.72 2135.41,1445.72 2086.13,1445.72 \n",
       "  \"/>\n",
       "<path clip-path=\"url(#clip042)\" d=\"\n",
       "M2135.41 1440.13 L2135.41 1445.72 L2184.7 1445.72 L2184.7 1440.13 L2135.41 1440.13 L2135.41 1440.13  Z\n",
       "  \" fill=\"#009af9\" fill-rule=\"evenodd\" fill-opacity=\"1\"/>\n",
       "<polyline clip-path=\"url(#clip042)\" style=\"stroke:#000000; stroke-width:4; stroke-opacity:1; fill:none\" points=\"\n",
       "  2135.41,1440.13 2135.41,1445.72 2184.7,1445.72 2184.7,1440.13 2135.41,1440.13 \n",
       "  \"/>\n",
       "<path clip-path=\"url(#clip042)\" d=\"\n",
       "M2184.7 1440.13 L2184.7 1445.72 L2233.98 1445.72 L2233.98 1440.13 L2184.7 1440.13 L2184.7 1440.13  Z\n",
       "  \" fill=\"#009af9\" fill-rule=\"evenodd\" fill-opacity=\"1\"/>\n",
       "<polyline clip-path=\"url(#clip042)\" style=\"stroke:#000000; stroke-width:4; stroke-opacity:1; fill:none\" points=\"\n",
       "  2184.7,1440.13 2184.7,1445.72 2233.98,1445.72 2233.98,1440.13 2184.7,1440.13 \n",
       "  \"/>\n",
       "<path clip-path=\"url(#clip040)\" d=\"\n",
       "M1989.8 216.178 L2280.77 216.178 L2280.77 95.2176 L1989.8 95.2176  Z\n",
       "  \" fill=\"#ffffff\" fill-rule=\"evenodd\" fill-opacity=\"1\"/>\n",
       "<polyline clip-path=\"url(#clip040)\" style=\"stroke:#000000; stroke-width:4; stroke-opacity:1; fill:none\" points=\"\n",
       "  1989.8,216.178 2280.77,216.178 2280.77,95.2176 1989.8,95.2176 1989.8,216.178 \n",
       "  \"/>\n",
       "<path clip-path=\"url(#clip040)\" d=\"\n",
       "M2013.8 179.89 L2157.77 179.89 L2157.77 131.506 L2013.8 131.506 L2013.8 179.89  Z\n",
       "  \" fill=\"#009af9\" fill-rule=\"evenodd\" fill-opacity=\"1\"/>\n",
       "<polyline clip-path=\"url(#clip040)\" style=\"stroke:#000000; stroke-width:4; stroke-opacity:1; fill:none\" points=\"\n",
       "  2013.8,179.89 2157.77,179.89 2157.77,131.506 2013.8,131.506 2013.8,179.89 \n",
       "  \"/>\n",
       "<path clip-path=\"url(#clip040)\" d=\"M 0 0 M2195.61 175.385 Q2193.8 180.015 2192.09 181.427 Q2190.37 182.839 2187.5 182.839 L2184.1 182.839 L2184.1 179.274 L2186.6 179.274 Q2188.36 179.274 2189.33 178.44 Q2190.3 177.607 2191.49 174.505 L2192.25 172.561 L2181.76 147.052 L2186.28 147.052 L2194.38 167.329 L2202.48 147.052 L2206.99 147.052 L2195.61 175.385 Z\" fill=\"#000000\" fill-rule=\"evenodd\" fill-opacity=\"1\" /><path clip-path=\"url(#clip040)\" d=\"M 0 0 M2212.87 169.042 L2220.51 169.042 L2220.51 142.677 L2212.2 144.343 L2212.2 140.084 L2220.47 138.418 L2225.14 138.418 L2225.14 169.042 L2232.78 169.042 L2232.78 172.978 L2212.87 172.978 L2212.87 169.042 Z\" fill=\"#000000\" fill-rule=\"evenodd\" fill-opacity=\"1\" /></svg>\n"
      ]
     },
     "execution_count": 262,
     "metadata": {},
     "output_type": "execute_result"
    }
   ],
   "source": [
    "histogram(comb_df[:toughness])"
   ]
  },
  {
   "cell_type": "code",
   "execution_count": 263,
   "metadata": {},
   "outputs": [
    {
     "data": {
      "image/svg+xml": [
       "<?xml version=\"1.0\" encoding=\"utf-8\"?>\n",
       "<svg xmlns=\"http://www.w3.org/2000/svg\" xmlns:xlink=\"http://www.w3.org/1999/xlink\" width=\"600\" height=\"400\" viewBox=\"0 0 2400 1600\">\n",
       "<defs>\n",
       "  <clipPath id=\"clip080\">\n",
       "    <rect x=\"0\" y=\"0\" width=\"2400\" height=\"1600\"/>\n",
       "  </clipPath>\n",
       "</defs>\n",
       "<path clip-path=\"url(#clip080)\" d=\"\n",
       "M0 1600 L2400 1600 L2400 0 L0 0  Z\n",
       "  \" fill=\"#ffffff\" fill-rule=\"evenodd\" fill-opacity=\"1\"/>\n",
       "<defs>\n",
       "  <clipPath id=\"clip081\">\n",
       "    <rect x=\"480\" y=\"0\" width=\"1681\" height=\"1600\"/>\n",
       "  </clipPath>\n",
       "</defs>\n",
       "<path clip-path=\"url(#clip080)\" d=\"\n",
       "M188.612 1486.45 L2352.76 1486.45 L2352.76 47.2441 L188.612 47.2441  Z\n",
       "  \" fill=\"#ffffff\" fill-rule=\"evenodd\" fill-opacity=\"1\"/>\n",
       "<defs>\n",
       "  <clipPath id=\"clip082\">\n",
       "    <rect x=\"188\" y=\"47\" width=\"2165\" height=\"1440\"/>\n",
       "  </clipPath>\n",
       "</defs>\n",
       "<polyline clip-path=\"url(#clip082)\" style=\"stroke:#000000; stroke-width:2; stroke-opacity:0.1; fill:none\" points=\"\n",
       "  653.35,1486.45 653.35,47.2441 \n",
       "  \"/>\n",
       "<polyline clip-path=\"url(#clip082)\" style=\"stroke:#000000; stroke-width:2; stroke-opacity:0.1; fill:none\" points=\"\n",
       "  1147.22,1486.45 1147.22,47.2441 \n",
       "  \"/>\n",
       "<polyline clip-path=\"url(#clip082)\" style=\"stroke:#000000; stroke-width:2; stroke-opacity:0.1; fill:none\" points=\"\n",
       "  1641.08,1486.45 1641.08,47.2441 \n",
       "  \"/>\n",
       "<polyline clip-path=\"url(#clip082)\" style=\"stroke:#000000; stroke-width:2; stroke-opacity:0.1; fill:none\" points=\"\n",
       "  2134.95,1486.45 2134.95,47.2441 \n",
       "  \"/>\n",
       "<polyline clip-path=\"url(#clip080)\" style=\"stroke:#000000; stroke-width:4; stroke-opacity:1; fill:none\" points=\"\n",
       "  188.612,1486.45 2352.76,1486.45 \n",
       "  \"/>\n",
       "<polyline clip-path=\"url(#clip080)\" style=\"stroke:#000000; stroke-width:4; stroke-opacity:1; fill:none\" points=\"\n",
       "  653.35,1486.45 653.35,1469.18 \n",
       "  \"/>\n",
       "<polyline clip-path=\"url(#clip080)\" style=\"stroke:#000000; stroke-width:4; stroke-opacity:1; fill:none\" points=\"\n",
       "  1147.22,1486.45 1147.22,1469.18 \n",
       "  \"/>\n",
       "<polyline clip-path=\"url(#clip080)\" style=\"stroke:#000000; stroke-width:4; stroke-opacity:1; fill:none\" points=\"\n",
       "  1641.08,1486.45 1641.08,1469.18 \n",
       "  \"/>\n",
       "<polyline clip-path=\"url(#clip080)\" style=\"stroke:#000000; stroke-width:4; stroke-opacity:1; fill:none\" points=\"\n",
       "  2134.95,1486.45 2134.95,1469.18 \n",
       "  \"/>\n",
       "<path clip-path=\"url(#clip080)\" d=\"M 0 0 M653.35 1515.64 Q649.739 1515.64 647.911 1519.2 Q646.105 1522.75 646.105 1529.87 Q646.105 1536.98 647.911 1540.55 Q649.739 1544.09 653.35 1544.09 Q656.985 1544.09 658.79 1540.55 Q660.619 1536.98 660.619 1529.87 Q660.619 1522.75 658.79 1519.2 Q656.985 1515.64 653.35 1515.64 M653.35 1511.93 Q659.161 1511.93 662.216 1516.54 Q665.295 1521.12 665.295 1529.87 Q665.295 1538.6 662.216 1543.21 Q659.161 1547.79 653.35 1547.79 Q647.54 1547.79 644.462 1543.21 Q641.406 1538.6 641.406 1529.87 Q641.406 1521.12 644.462 1516.54 Q647.54 1511.93 653.35 1511.93 Z\" fill=\"#000000\" fill-rule=\"evenodd\" fill-opacity=\"1\" /><path clip-path=\"url(#clip080)\" d=\"M 0 0 M1114.86 1543.18 L1131.18 1543.18 L1131.18 1547.12 L1109.23 1547.12 L1109.23 1543.18 Q1111.89 1540.43 1116.48 1535.8 Q1121.08 1531.15 1122.26 1529.81 Q1124.51 1527.28 1125.39 1525.55 Q1126.29 1523.79 1126.29 1522.1 Q1126.29 1519.34 1124.35 1517.61 Q1122.43 1515.87 1119.32 1515.87 Q1117.12 1515.87 1114.67 1516.63 Q1112.24 1517.4 1109.46 1518.95 L1109.46 1514.23 Q1112.29 1513.09 1114.74 1512.51 Q1117.19 1511.93 1119.23 1511.93 Q1124.6 1511.93 1127.8 1514.62 Q1130.99 1517.31 1130.99 1521.8 Q1130.99 1523.93 1130.18 1525.85 Q1129.39 1527.74 1127.29 1530.34 Q1126.71 1531.01 1123.61 1534.23 Q1120.5 1537.42 1114.86 1543.18 Z\" fill=\"#000000\" fill-rule=\"evenodd\" fill-opacity=\"1\" /><path clip-path=\"url(#clip080)\" d=\"M 0 0 M1146.25 1515.64 Q1142.63 1515.64 1140.81 1519.2 Q1139 1522.75 1139 1529.87 Q1139 1536.98 1140.81 1540.55 Q1142.63 1544.09 1146.25 1544.09 Q1149.88 1544.09 1151.68 1540.55 Q1153.51 1536.98 1153.51 1529.87 Q1153.51 1522.75 1151.68 1519.2 Q1149.88 1515.64 1146.25 1515.64 M1146.25 1511.93 Q1152.06 1511.93 1155.11 1516.54 Q1158.19 1521.12 1158.19 1529.87 Q1158.19 1538.6 1155.11 1543.21 Q1152.06 1547.79 1146.25 1547.79 Q1140.43 1547.79 1137.36 1543.21 Q1134.3 1538.6 1134.3 1529.87 Q1134.3 1521.12 1137.36 1516.54 Q1140.43 1511.93 1146.25 1511.93 Z\" fill=\"#000000\" fill-rule=\"evenodd\" fill-opacity=\"1\" /><path clip-path=\"url(#clip080)\" d=\"M 0 0 M1173.26 1515.64 Q1169.65 1515.64 1167.82 1519.2 Q1166.01 1522.75 1166.01 1529.87 Q1166.01 1536.98 1167.82 1540.55 Q1169.65 1544.09 1173.26 1544.09 Q1176.89 1544.09 1178.7 1540.55 Q1180.53 1536.98 1180.53 1529.87 Q1180.53 1522.75 1178.7 1519.2 Q1176.89 1515.64 1173.26 1515.64 M1173.26 1511.93 Q1179.07 1511.93 1182.12 1516.54 Q1185.2 1521.12 1185.2 1529.87 Q1185.2 1538.6 1182.12 1543.21 Q1179.07 1547.79 1173.26 1547.79 Q1167.45 1547.79 1164.37 1543.21 Q1161.31 1538.6 1161.31 1529.87 Q1161.31 1521.12 1164.37 1516.54 Q1167.45 1511.93 1173.26 1511.93 Z\" fill=\"#000000\" fill-rule=\"evenodd\" fill-opacity=\"1\" /><path clip-path=\"url(#clip080)\" d=\"M 0 0 M1617.08 1516.63 L1605.27 1535.08 L1617.08 1535.08 L1617.08 1516.63 M1615.85 1512.56 L1621.73 1512.56 L1621.73 1535.08 L1626.66 1535.08 L1626.66 1538.97 L1621.73 1538.97 L1621.73 1547.12 L1617.08 1547.12 L1617.08 1538.97 L1601.48 1538.97 L1601.48 1534.46 L1615.85 1512.56 Z\" fill=\"#000000\" fill-rule=\"evenodd\" fill-opacity=\"1\" /><path clip-path=\"url(#clip080)\" d=\"M 0 0 M1641.73 1515.64 Q1638.12 1515.64 1636.29 1519.2 Q1634.49 1522.75 1634.49 1529.87 Q1634.49 1536.98 1636.29 1540.55 Q1638.12 1544.09 1641.73 1544.09 Q1645.37 1544.09 1647.17 1540.55 Q1649 1536.98 1649 1529.87 Q1649 1522.75 1647.17 1519.2 Q1645.37 1515.64 1641.73 1515.64 M1641.73 1511.93 Q1647.54 1511.93 1650.6 1516.54 Q1653.68 1521.12 1653.68 1529.87 Q1653.68 1538.6 1650.6 1543.21 Q1647.54 1547.79 1641.73 1547.79 Q1635.92 1547.79 1632.84 1543.21 Q1629.79 1538.6 1629.79 1529.87 Q1629.79 1521.12 1632.84 1516.54 Q1635.92 1511.93 1641.73 1511.93 Z\" fill=\"#000000\" fill-rule=\"evenodd\" fill-opacity=\"1\" /><path clip-path=\"url(#clip080)\" d=\"M 0 0 M1668.75 1515.64 Q1665.13 1515.64 1663.31 1519.2 Q1661.5 1522.75 1661.5 1529.87 Q1661.5 1536.98 1663.31 1540.55 Q1665.13 1544.09 1668.75 1544.09 Q1672.38 1544.09 1674.19 1540.55 Q1676.01 1536.98 1676.01 1529.87 Q1676.01 1522.75 1674.19 1519.2 Q1672.38 1515.64 1668.75 1515.64 M1668.75 1511.93 Q1674.56 1511.93 1677.61 1516.54 Q1680.69 1521.12 1680.69 1529.87 Q1680.69 1538.6 1677.61 1543.21 Q1674.56 1547.79 1668.75 1547.79 Q1662.94 1547.79 1659.86 1543.21 Q1656.8 1538.6 1656.8 1529.87 Q1656.8 1521.12 1659.86 1516.54 Q1662.94 1511.93 1668.75 1511.93 Z\" fill=\"#000000\" fill-rule=\"evenodd\" fill-opacity=\"1\" /><path clip-path=\"url(#clip080)\" d=\"M 0 0 M2108.34 1527.98 Q2105.19 1527.98 2103.34 1530.13 Q2101.51 1532.28 2101.51 1536.03 Q2101.51 1539.76 2103.34 1541.93 Q2105.19 1544.09 2108.34 1544.09 Q2111.49 1544.09 2113.32 1541.93 Q2115.17 1539.76 2115.17 1536.03 Q2115.17 1532.28 2113.32 1530.13 Q2111.49 1527.98 2108.34 1527.98 M2117.62 1513.32 L2117.62 1517.58 Q2115.87 1516.75 2114.06 1516.31 Q2112.28 1515.87 2110.52 1515.87 Q2105.89 1515.87 2103.43 1519 Q2101 1522.12 2100.66 1528.44 Q2102.02 1526.43 2104.08 1525.36 Q2106.14 1524.27 2108.62 1524.27 Q2113.83 1524.27 2116.84 1527.44 Q2119.87 1530.59 2119.87 1536.03 Q2119.87 1541.36 2116.72 1544.57 Q2113.57 1547.79 2108.34 1547.79 Q2102.35 1547.79 2099.18 1543.21 Q2096 1538.6 2096 1529.87 Q2096 1521.68 2099.89 1516.82 Q2103.78 1511.93 2110.33 1511.93 Q2112.09 1511.93 2113.87 1512.28 Q2115.68 1512.63 2117.62 1513.32 Z\" fill=\"#000000\" fill-rule=\"evenodd\" fill-opacity=\"1\" /><path clip-path=\"url(#clip080)\" d=\"M 0 0 M2134.94 1515.64 Q2131.33 1515.64 2129.5 1519.2 Q2127.69 1522.75 2127.69 1529.87 Q2127.69 1536.98 2129.5 1540.55 Q2131.33 1544.09 2134.94 1544.09 Q2138.57 1544.09 2140.38 1540.55 Q2142.21 1536.98 2142.21 1529.87 Q2142.21 1522.75 2140.38 1519.2 Q2138.57 1515.64 2134.94 1515.64 M2134.94 1511.93 Q2140.75 1511.93 2143.8 1516.54 Q2146.88 1521.12 2146.88 1529.87 Q2146.88 1538.6 2143.8 1543.21 Q2140.75 1547.79 2134.94 1547.79 Q2129.13 1547.79 2126.05 1543.21 Q2122.99 1538.6 2122.99 1529.87 Q2122.99 1521.12 2126.05 1516.54 Q2129.13 1511.93 2134.94 1511.93 Z\" fill=\"#000000\" fill-rule=\"evenodd\" fill-opacity=\"1\" /><path clip-path=\"url(#clip080)\" d=\"M 0 0 M2161.95 1515.64 Q2158.34 1515.64 2156.51 1519.2 Q2154.71 1522.75 2154.71 1529.87 Q2154.71 1536.98 2156.51 1540.55 Q2158.34 1544.09 2161.95 1544.09 Q2165.59 1544.09 2167.39 1540.55 Q2169.22 1536.98 2169.22 1529.87 Q2169.22 1522.75 2167.39 1519.2 Q2165.59 1515.64 2161.95 1515.64 M2161.95 1511.93 Q2167.76 1511.93 2170.82 1516.54 Q2173.9 1521.12 2173.9 1529.87 Q2173.9 1538.6 2170.82 1543.21 Q2167.76 1547.79 2161.95 1547.79 Q2156.14 1547.79 2153.06 1543.21 Q2150.01 1538.6 2150.01 1529.87 Q2150.01 1521.12 2153.06 1516.54 Q2156.14 1511.93 2161.95 1511.93 Z\" fill=\"#000000\" fill-rule=\"evenodd\" fill-opacity=\"1\" /><polyline clip-path=\"url(#clip082)\" style=\"stroke:#000000; stroke-width:2; stroke-opacity:0.1; fill:none\" points=\"\n",
       "  188.612,1445.72 2352.76,1445.72 \n",
       "  \"/>\n",
       "<polyline clip-path=\"url(#clip082)\" style=\"stroke:#000000; stroke-width:2; stroke-opacity:0.1; fill:none\" points=\"\n",
       "  188.612,1128.78 2352.76,1128.78 \n",
       "  \"/>\n",
       "<polyline clip-path=\"url(#clip082)\" style=\"stroke:#000000; stroke-width:2; stroke-opacity:0.1; fill:none\" points=\"\n",
       "  188.612,811.85 2352.76,811.85 \n",
       "  \"/>\n",
       "<polyline clip-path=\"url(#clip082)\" style=\"stroke:#000000; stroke-width:2; stroke-opacity:0.1; fill:none\" points=\"\n",
       "  188.612,494.918 2352.76,494.918 \n",
       "  \"/>\n",
       "<polyline clip-path=\"url(#clip082)\" style=\"stroke:#000000; stroke-width:2; stroke-opacity:0.1; fill:none\" points=\"\n",
       "  188.612,177.985 2352.76,177.985 \n",
       "  \"/>\n",
       "<polyline clip-path=\"url(#clip080)\" style=\"stroke:#000000; stroke-width:4; stroke-opacity:1; fill:none\" points=\"\n",
       "  188.612,1486.45 188.612,47.2441 \n",
       "  \"/>\n",
       "<polyline clip-path=\"url(#clip080)\" style=\"stroke:#000000; stroke-width:4; stroke-opacity:1; fill:none\" points=\"\n",
       "  188.612,1445.72 214.582,1445.72 \n",
       "  \"/>\n",
       "<polyline clip-path=\"url(#clip080)\" style=\"stroke:#000000; stroke-width:4; stroke-opacity:1; fill:none\" points=\"\n",
       "  188.612,1128.78 214.582,1128.78 \n",
       "  \"/>\n",
       "<polyline clip-path=\"url(#clip080)\" style=\"stroke:#000000; stroke-width:4; stroke-opacity:1; fill:none\" points=\"\n",
       "  188.612,811.85 214.582,811.85 \n",
       "  \"/>\n",
       "<polyline clip-path=\"url(#clip080)\" style=\"stroke:#000000; stroke-width:4; stroke-opacity:1; fill:none\" points=\"\n",
       "  188.612,494.918 214.582,494.918 \n",
       "  \"/>\n",
       "<polyline clip-path=\"url(#clip080)\" style=\"stroke:#000000; stroke-width:4; stroke-opacity:1; fill:none\" points=\"\n",
       "  188.612,177.985 214.582,177.985 \n",
       "  \"/>\n",
       "<path clip-path=\"url(#clip080)\" d=\"M 0 0 M140.668 1431.51 Q137.056 1431.51 135.228 1435.08 Q133.422 1438.62 133.422 1445.75 Q133.422 1452.86 135.228 1456.42 Q137.056 1459.96 140.668 1459.96 Q144.302 1459.96 146.107 1456.42 Q147.936 1452.86 147.936 1445.75 Q147.936 1438.62 146.107 1435.08 Q144.302 1431.51 140.668 1431.51 M140.668 1427.81 Q146.478 1427.81 149.533 1432.42 Q152.612 1437 152.612 1445.75 Q152.612 1454.48 149.533 1459.08 Q146.478 1463.67 140.668 1463.67 Q134.857 1463.67 131.779 1459.08 Q128.723 1454.48 128.723 1445.75 Q128.723 1437 131.779 1432.42 Q134.857 1427.81 140.668 1427.81 Z\" fill=\"#000000\" fill-rule=\"evenodd\" fill-opacity=\"1\" /><path clip-path=\"url(#clip080)\" d=\"M 0 0 M83.2605 1142.13 L99.5798 1142.13 L99.5798 1146.06 L77.6355 1146.06 L77.6355 1142.13 Q80.2975 1139.37 84.8808 1134.74 Q89.4873 1130.09 90.6678 1128.75 Q92.9132 1126.23 93.7928 1124.49 Q94.6956 1122.73 94.6956 1121.04 Q94.6956 1118.29 92.7512 1116.55 Q90.8299 1114.81 87.728 1114.81 Q85.529 1114.81 83.0753 1115.58 Q80.6447 1116.34 77.867 1117.89 L77.867 1113.17 Q80.691 1112.04 83.1447 1111.46 Q85.5984 1110.88 87.6354 1110.88 Q93.0058 1110.88 96.2002 1113.56 Q99.3946 1116.25 99.3946 1120.74 Q99.3946 1122.87 98.5845 1124.79 Q97.7974 1126.69 95.691 1129.28 Q95.1123 1129.95 92.0104 1133.17 Q88.9086 1136.36 83.2605 1142.13 Z\" fill=\"#000000\" fill-rule=\"evenodd\" fill-opacity=\"1\" /><path clip-path=\"url(#clip080)\" d=\"M 0 0 M104.696 1111.5 L123.052 1111.5 L123.052 1115.44 L108.978 1115.44 L108.978 1123.91 Q109.996 1123.56 111.015 1123.4 Q112.033 1123.22 113.052 1123.22 Q118.839 1123.22 122.219 1126.39 Q125.598 1129.56 125.598 1134.98 Q125.598 1140.55 122.126 1143.66 Q118.654 1146.73 112.334 1146.73 Q110.158 1146.73 107.89 1146.36 Q105.645 1145.99 103.237 1145.25 L103.237 1140.55 Q105.321 1141.69 107.543 1142.24 Q109.765 1142.8 112.242 1142.8 Q116.246 1142.8 118.584 1140.69 Q120.922 1138.59 120.922 1134.98 Q120.922 1131.36 118.584 1129.26 Q116.246 1127.15 112.242 1127.15 Q110.367 1127.15 108.492 1127.57 Q106.64 1127.98 104.696 1128.86 L104.696 1111.5 Z\" fill=\"#000000\" fill-rule=\"evenodd\" fill-opacity=\"1\" /><path clip-path=\"url(#clip080)\" d=\"M 0 0 M140.668 1114.58 Q137.056 1114.58 135.228 1118.15 Q133.422 1121.69 133.422 1128.82 Q133.422 1135.92 135.228 1139.49 Q137.056 1143.03 140.668 1143.03 Q144.302 1143.03 146.107 1139.49 Q147.936 1135.92 147.936 1128.82 Q147.936 1121.69 146.107 1118.15 Q144.302 1114.58 140.668 1114.58 M140.668 1110.88 Q146.478 1110.88 149.533 1115.48 Q152.612 1120.07 152.612 1128.82 Q152.612 1137.54 149.533 1142.15 Q146.478 1146.73 140.668 1146.73 Q134.857 1146.73 131.779 1142.15 Q128.723 1137.54 128.723 1128.82 Q128.723 1120.07 131.779 1115.48 Q134.857 1110.88 140.668 1110.88 Z\" fill=\"#000000\" fill-rule=\"evenodd\" fill-opacity=\"1\" /><path clip-path=\"url(#clip080)\" d=\"M 0 0 M77.6818 794.57 L96.0382 794.57 L96.0382 798.506 L81.9642 798.506 L81.9642 806.978 Q82.9827 806.631 84.0012 806.469 Q85.0197 806.283 86.0382 806.283 Q91.8252 806.283 95.2049 809.455 Q98.5845 812.626 98.5845 818.043 Q98.5845 823.621 95.1123 826.723 Q91.6401 829.802 85.3206 829.802 Q83.1447 829.802 80.8762 829.431 Q78.6309 829.061 76.2235 828.32 L76.2235 823.621 Q78.3068 824.755 80.529 825.311 Q82.7512 825.867 85.2281 825.867 Q89.2327 825.867 91.5706 823.76 Q93.9086 821.654 93.9086 818.043 Q93.9086 814.431 91.5706 812.325 Q89.2327 810.218 85.2281 810.218 Q83.3531 810.218 81.4781 810.635 Q79.6262 811.052 77.6818 811.931 L77.6818 794.57 Z\" fill=\"#000000\" fill-rule=\"evenodd\" fill-opacity=\"1\" /><path clip-path=\"url(#clip080)\" d=\"M 0 0 M113.654 797.649 Q110.043 797.649 108.214 801.214 Q106.408 804.756 106.408 811.885 Q106.408 818.992 108.214 822.556 Q110.043 826.098 113.654 826.098 Q117.288 826.098 119.094 822.556 Q120.922 818.992 120.922 811.885 Q120.922 804.756 119.094 801.214 Q117.288 797.649 113.654 797.649 M113.654 793.945 Q119.464 793.945 122.52 798.552 Q125.598 803.135 125.598 811.885 Q125.598 820.612 122.52 825.218 Q119.464 829.802 113.654 829.802 Q107.844 829.802 104.765 825.218 Q101.709 820.612 101.709 811.885 Q101.709 803.135 104.765 798.552 Q107.844 793.945 113.654 793.945 Z\" fill=\"#000000\" fill-rule=\"evenodd\" fill-opacity=\"1\" /><path clip-path=\"url(#clip080)\" d=\"M 0 0 M140.668 797.649 Q137.056 797.649 135.228 801.214 Q133.422 804.756 133.422 811.885 Q133.422 818.992 135.228 822.556 Q137.056 826.098 140.668 826.098 Q144.302 826.098 146.107 822.556 Q147.936 818.992 147.936 811.885 Q147.936 804.756 146.107 801.214 Q144.302 797.649 140.668 797.649 M140.668 793.945 Q146.478 793.945 149.533 798.552 Q152.612 803.135 152.612 811.885 Q152.612 820.612 149.533 825.218 Q146.478 829.802 140.668 829.802 Q134.857 829.802 131.779 825.218 Q128.723 820.612 128.723 811.885 Q128.723 803.135 131.779 798.552 Q134.857 793.945 140.668 793.945 Z\" fill=\"#000000\" fill-rule=\"evenodd\" fill-opacity=\"1\" /><path clip-path=\"url(#clip080)\" d=\"M 0 0 M77.3577 477.638 L99.5798 477.638 L99.5798 479.629 L87.0336 512.198 L82.1494 512.198 L93.9549 481.573 L77.3577 481.573 L77.3577 477.638 Z\" fill=\"#000000\" fill-rule=\"evenodd\" fill-opacity=\"1\" /><path clip-path=\"url(#clip080)\" d=\"M 0 0 M104.696 477.638 L123.052 477.638 L123.052 481.573 L108.978 481.573 L108.978 490.045 Q109.996 489.698 111.015 489.536 Q112.033 489.351 113.052 489.351 Q118.839 489.351 122.219 492.522 Q125.598 495.693 125.598 501.11 Q125.598 506.689 122.126 509.79 Q118.654 512.869 112.334 512.869 Q110.158 512.869 107.89 512.499 Q105.645 512.128 103.237 511.388 L103.237 506.689 Q105.321 507.823 107.543 508.378 Q109.765 508.934 112.242 508.934 Q116.246 508.934 118.584 506.827 Q120.922 504.721 120.922 501.11 Q120.922 497.499 118.584 495.392 Q116.246 493.286 112.242 493.286 Q110.367 493.286 108.492 493.703 Q106.64 494.119 104.696 494.999 L104.696 477.638 Z\" fill=\"#000000\" fill-rule=\"evenodd\" fill-opacity=\"1\" /><path clip-path=\"url(#clip080)\" d=\"M 0 0 M140.668 480.716 Q137.056 480.716 135.228 484.281 Q133.422 487.823 133.422 494.953 Q133.422 502.059 135.228 505.624 Q137.056 509.165 140.668 509.165 Q144.302 509.165 146.107 505.624 Q147.936 502.059 147.936 494.953 Q147.936 487.823 146.107 484.281 Q144.302 480.716 140.668 480.716 M140.668 477.013 Q146.478 477.013 149.533 481.619 Q152.612 486.203 152.612 494.953 Q152.612 503.679 149.533 508.286 Q146.478 512.869 140.668 512.869 Q134.857 512.869 131.779 508.286 Q128.723 503.679 128.723 494.953 Q128.723 486.203 131.779 481.619 Q134.857 477.013 140.668 477.013 Z\" fill=\"#000000\" fill-rule=\"evenodd\" fill-opacity=\"1\" /><path clip-path=\"url(#clip080)\" d=\"M 0 0 M51.6634 191.33 L59.3023 191.33 L59.3023 164.964 L50.9921 166.631 L50.9921 162.372 L59.256 160.705 L63.9319 160.705 L63.9319 191.33 L71.5707 191.33 L71.5707 195.265 L51.6634 195.265 L51.6634 191.33 Z\" fill=\"#000000\" fill-rule=\"evenodd\" fill-opacity=\"1\" /><path clip-path=\"url(#clip080)\" d=\"M 0 0 M86.6401 163.784 Q83.029 163.784 81.2003 167.349 Q79.3948 170.89 79.3948 178.02 Q79.3948 185.126 81.2003 188.691 Q83.029 192.233 86.6401 192.233 Q90.2743 192.233 92.0799 188.691 Q93.9086 185.126 93.9086 178.02 Q93.9086 170.89 92.0799 167.349 Q90.2743 163.784 86.6401 163.784 M86.6401 160.08 Q92.4502 160.08 95.5058 164.687 Q98.5845 169.27 98.5845 178.02 Q98.5845 186.747 95.5058 191.353 Q92.4502 195.936 86.6401 195.936 Q80.8299 195.936 77.7512 191.353 Q74.6957 186.747 74.6957 178.02 Q74.6957 169.27 77.7512 164.687 Q80.8299 160.08 86.6401 160.08 Z\" fill=\"#000000\" fill-rule=\"evenodd\" fill-opacity=\"1\" /><path clip-path=\"url(#clip080)\" d=\"M 0 0 M113.654 163.784 Q110.043 163.784 108.214 167.349 Q106.408 170.89 106.408 178.02 Q106.408 185.126 108.214 188.691 Q110.043 192.233 113.654 192.233 Q117.288 192.233 119.094 188.691 Q120.922 185.126 120.922 178.02 Q120.922 170.89 119.094 167.349 Q117.288 163.784 113.654 163.784 M113.654 160.08 Q119.464 160.08 122.52 164.687 Q125.598 169.27 125.598 178.02 Q125.598 186.747 122.52 191.353 Q119.464 195.936 113.654 195.936 Q107.844 195.936 104.765 191.353 Q101.709 186.747 101.709 178.02 Q101.709 169.27 104.765 164.687 Q107.844 160.08 113.654 160.08 Z\" fill=\"#000000\" fill-rule=\"evenodd\" fill-opacity=\"1\" /><path clip-path=\"url(#clip080)\" d=\"M 0 0 M140.668 163.784 Q137.056 163.784 135.228 167.349 Q133.422 170.89 133.422 178.02 Q133.422 185.126 135.228 188.691 Q137.056 192.233 140.668 192.233 Q144.302 192.233 146.107 188.691 Q147.936 185.126 147.936 178.02 Q147.936 170.89 146.107 167.349 Q144.302 163.784 140.668 163.784 M140.668 160.08 Q146.478 160.08 149.533 164.687 Q152.612 169.27 152.612 178.02 Q152.612 186.747 149.533 191.353 Q146.478 195.936 140.668 195.936 Q134.857 195.936 131.779 191.353 Q128.723 186.747 128.723 178.02 Q128.723 169.27 131.779 164.687 Q134.857 160.08 140.668 160.08 Z\" fill=\"#000000\" fill-rule=\"evenodd\" fill-opacity=\"1\" /><path clip-path=\"url(#clip082)\" d=\"\n",
       "M307.644 1439.38 L307.644 1445.72 L357.03 1445.72 L357.03 1439.38 L307.644 1439.38 L307.644 1439.38  Z\n",
       "  \" fill=\"#009af9\" fill-rule=\"evenodd\" fill-opacity=\"1\"/>\n",
       "<polyline clip-path=\"url(#clip082)\" style=\"stroke:#000000; stroke-width:4; stroke-opacity:1; fill:none\" points=\"\n",
       "  307.644,1439.38 307.644,1445.72 357.03,1445.72 357.03,1439.38 307.644,1439.38 \n",
       "  \"/>\n",
       "<path clip-path=\"url(#clip082)\" d=\"\n",
       "M357.03 1422.9 L357.03 1445.72 L406.417 1445.72 L406.417 1422.9 L357.03 1422.9 L357.03 1422.9  Z\n",
       "  \" fill=\"#009af9\" fill-rule=\"evenodd\" fill-opacity=\"1\"/>\n",
       "<polyline clip-path=\"url(#clip082)\" style=\"stroke:#000000; stroke-width:4; stroke-opacity:1; fill:none\" points=\"\n",
       "  357.03,1422.9 357.03,1445.72 406.417,1445.72 406.417,1422.9 357.03,1422.9 \n",
       "  \"/>\n",
       "<path clip-path=\"url(#clip082)\" d=\"\n",
       "M406.417 1387.4 L406.417 1445.72 L455.804 1445.72 L455.804 1387.4 L406.417 1387.4 L406.417 1387.4  Z\n",
       "  \" fill=\"#009af9\" fill-rule=\"evenodd\" fill-opacity=\"1\"/>\n",
       "<polyline clip-path=\"url(#clip082)\" style=\"stroke:#000000; stroke-width:4; stroke-opacity:1; fill:none\" points=\"\n",
       "  406.417,1387.4 406.417,1445.72 455.804,1445.72 455.804,1387.4 406.417,1387.4 \n",
       "  \"/>\n",
       "<path clip-path=\"url(#clip082)\" d=\"\n",
       "M455.804 1370.92 L455.804 1445.72 L505.19 1445.72 L505.19 1370.92 L455.804 1370.92 L455.804 1370.92  Z\n",
       "  \" fill=\"#009af9\" fill-rule=\"evenodd\" fill-opacity=\"1\"/>\n",
       "<polyline clip-path=\"url(#clip082)\" style=\"stroke:#000000; stroke-width:4; stroke-opacity:1; fill:none\" points=\"\n",
       "  455.804,1370.92 455.804,1445.72 505.19,1445.72 505.19,1370.92 455.804,1370.92 \n",
       "  \"/>\n",
       "<path clip-path=\"url(#clip082)\" d=\"\n",
       "M505.19 1360.78 L505.19 1445.72 L554.577 1445.72 L554.577 1360.78 L505.19 1360.78 L505.19 1360.78  Z\n",
       "  \" fill=\"#009af9\" fill-rule=\"evenodd\" fill-opacity=\"1\"/>\n",
       "<polyline clip-path=\"url(#clip082)\" style=\"stroke:#000000; stroke-width:4; stroke-opacity:1; fill:none\" points=\"\n",
       "  505.19,1360.78 505.19,1445.72 554.577,1445.72 554.577,1360.78 505.19,1360.78 \n",
       "  \"/>\n",
       "<path clip-path=\"url(#clip082)\" d=\"\n",
       "M554.577 1241.61 L554.577 1445.72 L603.964 1445.72 L603.964 1241.61 L554.577 1241.61 L554.577 1241.61  Z\n",
       "  \" fill=\"#009af9\" fill-rule=\"evenodd\" fill-opacity=\"1\"/>\n",
       "<polyline clip-path=\"url(#clip082)\" style=\"stroke:#000000; stroke-width:4; stroke-opacity:1; fill:none\" points=\"\n",
       "  554.577,1241.61 554.577,1445.72 603.964,1445.72 603.964,1241.61 554.577,1241.61 \n",
       "  \"/>\n",
       "<path clip-path=\"url(#clip082)\" d=\"\n",
       "M603.964 1157.94 L603.964 1445.72 L653.35 1445.72 L653.35 1157.94 L603.964 1157.94 L603.964 1157.94  Z\n",
       "  \" fill=\"#009af9\" fill-rule=\"evenodd\" fill-opacity=\"1\"/>\n",
       "<polyline clip-path=\"url(#clip082)\" style=\"stroke:#000000; stroke-width:4; stroke-opacity:1; fill:none\" points=\"\n",
       "  603.964,1157.94 603.964,1445.72 653.35,1445.72 653.35,1157.94 603.964,1157.94 \n",
       "  \"/>\n",
       "<path clip-path=\"url(#clip082)\" d=\"\n",
       "M653.35 805.512 L653.35 1445.72 L702.737 1445.72 L702.737 805.512 L653.35 805.512 L653.35 805.512  Z\n",
       "  \" fill=\"#009af9\" fill-rule=\"evenodd\" fill-opacity=\"1\"/>\n",
       "<polyline clip-path=\"url(#clip082)\" style=\"stroke:#000000; stroke-width:4; stroke-opacity:1; fill:none\" points=\"\n",
       "  653.35,805.512 653.35,1445.72 702.737,1445.72 702.737,805.512 653.35,805.512 \n",
       "  \"/>\n",
       "<path clip-path=\"url(#clip082)\" d=\"\n",
       "M702.737 87.9763 L702.737 1445.72 L752.124 1445.72 L752.124 87.9763 L702.737 87.9763 L702.737 87.9763  Z\n",
       "  \" fill=\"#009af9\" fill-rule=\"evenodd\" fill-opacity=\"1\"/>\n",
       "<polyline clip-path=\"url(#clip082)\" style=\"stroke:#000000; stroke-width:4; stroke-opacity:1; fill:none\" points=\"\n",
       "  702.737,87.9763 702.737,1445.72 752.124,1445.72 752.124,87.9763 702.737,87.9763 \n",
       "  \"/>\n",
       "<path clip-path=\"url(#clip082)\" d=\"\n",
       "M752.124 578.588 L752.124 1445.72 L801.51 1445.72 L801.51 578.588 L752.124 578.588 L752.124 578.588  Z\n",
       "  \" fill=\"#009af9\" fill-rule=\"evenodd\" fill-opacity=\"1\"/>\n",
       "<polyline clip-path=\"url(#clip082)\" style=\"stroke:#000000; stroke-width:4; stroke-opacity:1; fill:none\" points=\"\n",
       "  752.124,578.588 752.124,1445.72 801.51,1445.72 801.51,578.588 752.124,578.588 \n",
       "  \"/>\n",
       "<path clip-path=\"url(#clip082)\" d=\"\n",
       "M801.51 403.641 L801.51 1445.72 L850.897 1445.72 L850.897 403.641 L801.51 403.641 L801.51 403.641  Z\n",
       "  \" fill=\"#009af9\" fill-rule=\"evenodd\" fill-opacity=\"1\"/>\n",
       "<polyline clip-path=\"url(#clip082)\" style=\"stroke:#000000; stroke-width:4; stroke-opacity:1; fill:none\" points=\"\n",
       "  801.51,403.641 801.51,1445.72 850.897,1445.72 850.897,403.641 801.51,403.641 \n",
       "  \"/>\n",
       "<path clip-path=\"url(#clip082)\" d=\"\n",
       "M850.897 314.9 L850.897 1445.72 L900.284 1445.72 L900.284 314.9 L850.897 314.9 L850.897 314.9  Z\n",
       "  \" fill=\"#009af9\" fill-rule=\"evenodd\" fill-opacity=\"1\"/>\n",
       "<polyline clip-path=\"url(#clip082)\" style=\"stroke:#000000; stroke-width:4; stroke-opacity:1; fill:none\" points=\"\n",
       "  850.897,314.9 850.897,1445.72 900.284,1445.72 900.284,314.9 850.897,314.9 \n",
       "  \"/>\n",
       "<path clip-path=\"url(#clip082)\" d=\"\n",
       "M900.284 251.514 L900.284 1445.72 L949.671 1445.72 L949.671 251.514 L900.284 251.514 L900.284 251.514  Z\n",
       "  \" fill=\"#009af9\" fill-rule=\"evenodd\" fill-opacity=\"1\"/>\n",
       "<polyline clip-path=\"url(#clip082)\" style=\"stroke:#000000; stroke-width:4; stroke-opacity:1; fill:none\" points=\"\n",
       "  900.284,251.514 900.284,1445.72 949.671,1445.72 949.671,251.514 900.284,251.514 \n",
       "  \"/>\n",
       "<path clip-path=\"url(#clip082)\" d=\"\n",
       "M949.671 223.623 L949.671 1445.72 L999.057 1445.72 L999.057 223.623 L949.671 223.623 L949.671 223.623  Z\n",
       "  \" fill=\"#009af9\" fill-rule=\"evenodd\" fill-opacity=\"1\"/>\n",
       "<polyline clip-path=\"url(#clip082)\" style=\"stroke:#000000; stroke-width:4; stroke-opacity:1; fill:none\" points=\"\n",
       "  949.671,223.623 949.671,1445.72 999.057,1445.72 999.057,223.623 949.671,223.623 \n",
       "  \"/>\n",
       "<path clip-path=\"url(#clip082)\" d=\"\n",
       "M999.057 267.994 L999.057 1445.72 L1048.44 1445.72 L1048.44 267.994 L999.057 267.994 L999.057 267.994  Z\n",
       "  \" fill=\"#009af9\" fill-rule=\"evenodd\" fill-opacity=\"1\"/>\n",
       "<polyline clip-path=\"url(#clip082)\" style=\"stroke:#000000; stroke-width:4; stroke-opacity:1; fill:none\" points=\"\n",
       "  999.057,267.994 999.057,1445.72 1048.44,1445.72 1048.44,267.994 999.057,267.994 \n",
       "  \"/>\n",
       "<path clip-path=\"url(#clip082)\" d=\"\n",
       "M1048.44 213.482 L1048.44 1445.72 L1097.83 1445.72 L1097.83 213.482 L1048.44 213.482 L1048.44 213.482  Z\n",
       "  \" fill=\"#009af9\" fill-rule=\"evenodd\" fill-opacity=\"1\"/>\n",
       "<polyline clip-path=\"url(#clip082)\" style=\"stroke:#000000; stroke-width:4; stroke-opacity:1; fill:none\" points=\"\n",
       "  1048.44,213.482 1048.44,1445.72 1097.83,1445.72 1097.83,213.482 1048.44,213.482 \n",
       "  \"/>\n",
       "<path clip-path=\"url(#clip082)\" d=\"\n",
       "M1097.83 284.475 L1097.83 1445.72 L1147.22 1445.72 L1147.22 284.475 L1097.83 284.475 L1097.83 284.475  Z\n",
       "  \" fill=\"#009af9\" fill-rule=\"evenodd\" fill-opacity=\"1\"/>\n",
       "<polyline clip-path=\"url(#clip082)\" style=\"stroke:#000000; stroke-width:4; stroke-opacity:1; fill:none\" points=\"\n",
       "  1097.83,284.475 1097.83,1445.72 1147.22,1445.72 1147.22,284.475 1097.83,284.475 \n",
       "  \"/>\n",
       "<path clip-path=\"url(#clip082)\" d=\"\n",
       "M1147.22 139.953 L1147.22 1445.72 L1196.6 1445.72 L1196.6 139.953 L1147.22 139.953 L1147.22 139.953  Z\n",
       "  \" fill=\"#009af9\" fill-rule=\"evenodd\" fill-opacity=\"1\"/>\n",
       "<polyline clip-path=\"url(#clip082)\" style=\"stroke:#000000; stroke-width:4; stroke-opacity:1; fill:none\" points=\"\n",
       "  1147.22,139.953 1147.22,1445.72 1196.6,1445.72 1196.6,139.953 1147.22,139.953 \n",
       "  \"/>\n",
       "<path clip-path=\"url(#clip082)\" d=\"\n",
       "M1196.6 214.749 L1196.6 1445.72 L1245.99 1445.72 L1245.99 214.749 L1196.6 214.749 L1196.6 214.749  Z\n",
       "  \" fill=\"#009af9\" fill-rule=\"evenodd\" fill-opacity=\"1\"/>\n",
       "<polyline clip-path=\"url(#clip082)\" style=\"stroke:#000000; stroke-width:4; stroke-opacity:1; fill:none\" points=\"\n",
       "  1196.6,214.749 1196.6,1445.72 1245.99,1445.72 1245.99,214.749 1196.6,214.749 \n",
       "  \"/>\n",
       "<path clip-path=\"url(#clip082)\" d=\"\n",
       "M1245.99 176.717 L1245.99 1445.72 L1295.38 1445.72 L1295.38 176.717 L1245.99 176.717 L1245.99 176.717  Z\n",
       "  \" fill=\"#009af9\" fill-rule=\"evenodd\" fill-opacity=\"1\"/>\n",
       "<polyline clip-path=\"url(#clip082)\" style=\"stroke:#000000; stroke-width:4; stroke-opacity:1; fill:none\" points=\"\n",
       "  1245.99,176.717 1245.99,1445.72 1295.38,1445.72 1295.38,176.717 1245.99,176.717 \n",
       "  \"/>\n",
       "<path clip-path=\"url(#clip082)\" d=\"\n",
       "M1295.38 114.599 L1295.38 1445.72 L1344.76 1445.72 L1344.76 114.599 L1295.38 114.599 L1295.38 114.599  Z\n",
       "  \" fill=\"#009af9\" fill-rule=\"evenodd\" fill-opacity=\"1\"/>\n",
       "<polyline clip-path=\"url(#clip082)\" style=\"stroke:#000000; stroke-width:4; stroke-opacity:1; fill:none\" points=\"\n",
       "  1295.38,114.599 1295.38,1445.72 1344.76,1445.72 1344.76,114.599 1295.38,114.599 \n",
       "  \"/>\n",
       "<path clip-path=\"url(#clip082)\" d=\"\n",
       "M1344.76 145.024 L1344.76 1445.72 L1394.15 1445.72 L1394.15 145.024 L1344.76 145.024 L1344.76 145.024  Z\n",
       "  \" fill=\"#009af9\" fill-rule=\"evenodd\" fill-opacity=\"1\"/>\n",
       "<polyline clip-path=\"url(#clip082)\" style=\"stroke:#000000; stroke-width:4; stroke-opacity:1; fill:none\" points=\"\n",
       "  1344.76,145.024 1344.76,1445.72 1394.15,1445.72 1394.15,145.024 1344.76,145.024 \n",
       "  \"/>\n",
       "<path clip-path=\"url(#clip082)\" d=\"\n",
       "M1394.15 158.969 L1394.15 1445.72 L1443.54 1445.72 L1443.54 158.969 L1394.15 158.969 L1394.15 158.969  Z\n",
       "  \" fill=\"#009af9\" fill-rule=\"evenodd\" fill-opacity=\"1\"/>\n",
       "<polyline clip-path=\"url(#clip082)\" style=\"stroke:#000000; stroke-width:4; stroke-opacity:1; fill:none\" points=\"\n",
       "  1394.15,158.969 1394.15,1445.72 1443.54,1445.72 1443.54,158.969 1394.15,158.969 \n",
       "  \"/>\n",
       "<path clip-path=\"url(#clip082)\" d=\"\n",
       "M1443.54 273.065 L1443.54 1445.72 L1492.92 1445.72 L1492.92 273.065 L1443.54 273.065 L1443.54 273.065  Z\n",
       "  \" fill=\"#009af9\" fill-rule=\"evenodd\" fill-opacity=\"1\"/>\n",
       "<polyline clip-path=\"url(#clip082)\" style=\"stroke:#000000; stroke-width:4; stroke-opacity:1; fill:none\" points=\"\n",
       "  1443.54,273.065 1443.54,1445.72 1492.92,1445.72 1492.92,273.065 1443.54,273.065 \n",
       "  \"/>\n",
       "<path clip-path=\"url(#clip082)\" d=\"\n",
       "M1492.92 416.318 L1492.92 1445.72 L1542.31 1445.72 L1542.31 416.318 L1492.92 416.318 L1492.92 416.318  Z\n",
       "  \" fill=\"#009af9\" fill-rule=\"evenodd\" fill-opacity=\"1\"/>\n",
       "<polyline clip-path=\"url(#clip082)\" style=\"stroke:#000000; stroke-width:4; stroke-opacity:1; fill:none\" points=\"\n",
       "  1492.92,416.318 1492.92,1445.72 1542.31,1445.72 1542.31,416.318 1492.92,416.318 \n",
       "  \"/>\n",
       "<path clip-path=\"url(#clip082)\" d=\"\n",
       "M1542.31 622.959 L1542.31 1445.72 L1591.7 1445.72 L1591.7 622.959 L1542.31 622.959 L1542.31 622.959  Z\n",
       "  \" fill=\"#009af9\" fill-rule=\"evenodd\" fill-opacity=\"1\"/>\n",
       "<polyline clip-path=\"url(#clip082)\" style=\"stroke:#000000; stroke-width:4; stroke-opacity:1; fill:none\" points=\"\n",
       "  1542.31,622.959 1542.31,1445.72 1591.7,1445.72 1591.7,622.959 1542.31,622.959 \n",
       "  \"/>\n",
       "<path clip-path=\"url(#clip082)\" d=\"\n",
       "M1591.7 783.96 L1591.7 1445.72 L1641.08 1445.72 L1641.08 783.96 L1591.7 783.96 L1591.7 783.96  Z\n",
       "  \" fill=\"#009af9\" fill-rule=\"evenodd\" fill-opacity=\"1\"/>\n",
       "<polyline clip-path=\"url(#clip082)\" style=\"stroke:#000000; stroke-width:4; stroke-opacity:1; fill:none\" points=\"\n",
       "  1591.7,783.96 1591.7,1445.72 1641.08,1445.72 1641.08,783.96 1591.7,783.96 \n",
       "  \"/>\n",
       "<path clip-path=\"url(#clip082)\" d=\"\n",
       "M1641.08 920.875 L1641.08 1445.72 L1690.47 1445.72 L1690.47 920.875 L1641.08 920.875 L1641.08 920.875  Z\n",
       "  \" fill=\"#009af9\" fill-rule=\"evenodd\" fill-opacity=\"1\"/>\n",
       "<polyline clip-path=\"url(#clip082)\" style=\"stroke:#000000; stroke-width:4; stroke-opacity:1; fill:none\" points=\"\n",
       "  1641.08,920.875 1641.08,1445.72 1690.47,1445.72 1690.47,920.875 1641.08,920.875 \n",
       "  \"/>\n",
       "<path clip-path=\"url(#clip082)\" d=\"\n",
       "M1690.47 1085.68 L1690.47 1445.72 L1739.86 1445.72 L1739.86 1085.68 L1690.47 1085.68 L1690.47 1085.68  Z\n",
       "  \" fill=\"#009af9\" fill-rule=\"evenodd\" fill-opacity=\"1\"/>\n",
       "<polyline clip-path=\"url(#clip082)\" style=\"stroke:#000000; stroke-width:4; stroke-opacity:1; fill:none\" points=\"\n",
       "  1690.47,1085.68 1690.47,1445.72 1739.86,1445.72 1739.86,1085.68 1690.47,1085.68 \n",
       "  \"/>\n",
       "<path clip-path=\"url(#clip082)\" d=\"\n",
       "M1739.86 1160.48 L1739.86 1445.72 L1789.24 1445.72 L1789.24 1160.48 L1739.86 1160.48 L1739.86 1160.48  Z\n",
       "  \" fill=\"#009af9\" fill-rule=\"evenodd\" fill-opacity=\"1\"/>\n",
       "<polyline clip-path=\"url(#clip082)\" style=\"stroke:#000000; stroke-width:4; stroke-opacity:1; fill:none\" points=\"\n",
       "  1739.86,1160.48 1739.86,1445.72 1789.24,1445.72 1789.24,1160.48 1739.86,1160.48 \n",
       "  \"/>\n",
       "<path clip-path=\"url(#clip082)\" d=\"\n",
       "M1789.24 1240.34 L1789.24 1445.72 L1838.63 1445.72 L1838.63 1240.34 L1789.24 1240.34 L1789.24 1240.34  Z\n",
       "  \" fill=\"#009af9\" fill-rule=\"evenodd\" fill-opacity=\"1\"/>\n",
       "<polyline clip-path=\"url(#clip082)\" style=\"stroke:#000000; stroke-width:4; stroke-opacity:1; fill:none\" points=\"\n",
       "  1789.24,1240.34 1789.24,1445.72 1838.63,1445.72 1838.63,1240.34 1789.24,1240.34 \n",
       "  \"/>\n",
       "<path clip-path=\"url(#clip082)\" d=\"\n",
       "M1838.63 1310.07 L1838.63 1445.72 L1888.02 1445.72 L1888.02 1310.07 L1838.63 1310.07 L1838.63 1310.07  Z\n",
       "  \" fill=\"#009af9\" fill-rule=\"evenodd\" fill-opacity=\"1\"/>\n",
       "<polyline clip-path=\"url(#clip082)\" style=\"stroke:#000000; stroke-width:4; stroke-opacity:1; fill:none\" points=\"\n",
       "  1838.63,1310.07 1838.63,1445.72 1888.02,1445.72 1888.02,1310.07 1838.63,1310.07 \n",
       "  \"/>\n",
       "<path clip-path=\"url(#clip082)\" d=\"\n",
       "M1888.02 1363.31 L1888.02 1445.72 L1937.4 1445.72 L1937.4 1363.31 L1888.02 1363.31 L1888.02 1363.31  Z\n",
       "  \" fill=\"#009af9\" fill-rule=\"evenodd\" fill-opacity=\"1\"/>\n",
       "<polyline clip-path=\"url(#clip082)\" style=\"stroke:#000000; stroke-width:4; stroke-opacity:1; fill:none\" points=\"\n",
       "  1888.02,1363.31 1888.02,1445.72 1937.4,1445.72 1937.4,1363.31 1888.02,1363.31 \n",
       "  \"/>\n",
       "<path clip-path=\"url(#clip082)\" d=\"\n",
       "M1937.4 1362.05 L1937.4 1445.72 L1986.79 1445.72 L1986.79 1362.05 L1937.4 1362.05 L1937.4 1362.05  Z\n",
       "  \" fill=\"#009af9\" fill-rule=\"evenodd\" fill-opacity=\"1\"/>\n",
       "<polyline clip-path=\"url(#clip082)\" style=\"stroke:#000000; stroke-width:4; stroke-opacity:1; fill:none\" points=\"\n",
       "  1937.4,1362.05 1937.4,1445.72 1986.79,1445.72 1986.79,1362.05 1937.4,1362.05 \n",
       "  \"/>\n",
       "<path clip-path=\"url(#clip082)\" d=\"\n",
       "M1986.79 1407.68 L1986.79 1445.72 L2036.18 1445.72 L2036.18 1407.68 L1986.79 1407.68 L1986.79 1407.68  Z\n",
       "  \" fill=\"#009af9\" fill-rule=\"evenodd\" fill-opacity=\"1\"/>\n",
       "<polyline clip-path=\"url(#clip082)\" style=\"stroke:#000000; stroke-width:4; stroke-opacity:1; fill:none\" points=\"\n",
       "  1986.79,1407.68 1986.79,1445.72 2036.18,1445.72 2036.18,1407.68 1986.79,1407.68 \n",
       "  \"/>\n",
       "<path clip-path=\"url(#clip082)\" d=\"\n",
       "M2036.18 1421.63 L2036.18 1445.72 L2085.56 1445.72 L2085.56 1421.63 L2036.18 1421.63 L2036.18 1421.63  Z\n",
       "  \" fill=\"#009af9\" fill-rule=\"evenodd\" fill-opacity=\"1\"/>\n",
       "<polyline clip-path=\"url(#clip082)\" style=\"stroke:#000000; stroke-width:4; stroke-opacity:1; fill:none\" points=\"\n",
       "  2036.18,1421.63 2036.18,1445.72 2085.56,1445.72 2085.56,1421.63 2036.18,1421.63 \n",
       "  \"/>\n",
       "<path clip-path=\"url(#clip082)\" d=\"\n",
       "M2085.56 1422.9 L2085.56 1445.72 L2134.95 1445.72 L2134.95 1422.9 L2085.56 1422.9 L2085.56 1422.9  Z\n",
       "  \" fill=\"#009af9\" fill-rule=\"evenodd\" fill-opacity=\"1\"/>\n",
       "<polyline clip-path=\"url(#clip082)\" style=\"stroke:#000000; stroke-width:4; stroke-opacity:1; fill:none\" points=\"\n",
       "  2085.56,1422.9 2085.56,1445.72 2134.95,1445.72 2134.95,1422.9 2085.56,1422.9 \n",
       "  \"/>\n",
       "<path clip-path=\"url(#clip082)\" d=\"\n",
       "M2134.95 1435.57 L2134.95 1445.72 L2184.34 1445.72 L2184.34 1435.57 L2134.95 1435.57 L2134.95 1435.57  Z\n",
       "  \" fill=\"#009af9\" fill-rule=\"evenodd\" fill-opacity=\"1\"/>\n",
       "<polyline clip-path=\"url(#clip082)\" style=\"stroke:#000000; stroke-width:4; stroke-opacity:1; fill:none\" points=\"\n",
       "  2134.95,1435.57 2134.95,1445.72 2184.34,1445.72 2184.34,1435.57 2134.95,1435.57 \n",
       "  \"/>\n",
       "<path clip-path=\"url(#clip082)\" d=\"\n",
       "M2184.34 1440.64 L2184.34 1445.72 L2233.72 1445.72 L2233.72 1440.64 L2184.34 1440.64 L2184.34 1440.64  Z\n",
       "  \" fill=\"#009af9\" fill-rule=\"evenodd\" fill-opacity=\"1\"/>\n",
       "<polyline clip-path=\"url(#clip082)\" style=\"stroke:#000000; stroke-width:4; stroke-opacity:1; fill:none\" points=\"\n",
       "  2184.34,1440.64 2184.34,1445.72 2233.72,1445.72 2233.72,1440.64 2184.34,1440.64 \n",
       "  \"/>\n",
       "<path clip-path=\"url(#clip080)\" d=\"\n",
       "M1989.14 216.178 L2280.62 216.178 L2280.62 95.2176 L1989.14 95.2176  Z\n",
       "  \" fill=\"#ffffff\" fill-rule=\"evenodd\" fill-opacity=\"1\"/>\n",
       "<polyline clip-path=\"url(#clip080)\" style=\"stroke:#000000; stroke-width:4; stroke-opacity:1; fill:none\" points=\"\n",
       "  1989.14,216.178 2280.62,216.178 2280.62,95.2176 1989.14,95.2176 1989.14,216.178 \n",
       "  \"/>\n",
       "<path clip-path=\"url(#clip080)\" d=\"\n",
       "M2013.19 179.89 L2157.46 179.89 L2157.46 131.506 L2013.19 131.506 L2013.19 179.89  Z\n",
       "  \" fill=\"#009af9\" fill-rule=\"evenodd\" fill-opacity=\"1\"/>\n",
       "<polyline clip-path=\"url(#clip080)\" style=\"stroke:#000000; stroke-width:4; stroke-opacity:1; fill:none\" points=\"\n",
       "  2013.19,179.89 2157.46,179.89 2157.46,131.506 2013.19,131.506 2013.19,179.89 \n",
       "  \"/>\n",
       "<path clip-path=\"url(#clip080)\" d=\"M 0 0 M2195.35 175.385 Q2193.54 180.015 2191.83 181.427 Q2190.12 182.839 2187.25 182.839 L2183.85 182.839 L2183.85 179.274 L2186.35 179.274 Q2188.1 179.274 2189.08 178.44 Q2190.05 177.607 2191.23 174.505 L2191.99 172.561 L2181.51 147.052 L2186.02 147.052 L2194.12 167.329 L2202.22 147.052 L2206.74 147.052 L2195.35 175.385 Z\" fill=\"#000000\" fill-rule=\"evenodd\" fill-opacity=\"1\" /><path clip-path=\"url(#clip080)\" d=\"M 0 0 M2212.62 169.042 L2220.26 169.042 L2220.26 142.677 L2211.95 144.343 L2211.95 140.084 L2220.21 138.418 L2224.89 138.418 L2224.89 169.042 L2232.53 169.042 L2232.53 172.978 L2212.62 172.978 L2212.62 169.042 Z\" fill=\"#000000\" fill-rule=\"evenodd\" fill-opacity=\"1\" /></svg>\n"
      ]
     },
     "execution_count": 263,
     "metadata": {},
     "output_type": "execute_result"
    }
   ],
   "source": [
    "histogram(comb_df[:durability])"
   ]
  },
  {
   "cell_type": "code",
   "execution_count": null,
   "metadata": {},
   "outputs": [],
   "source": []
  }
 ],
 "metadata": {
  "kernelspec": {
   "display_name": "Julia 1.5.2",
   "language": "julia",
   "name": "julia-1.5"
  },
  "language_info": {
   "file_extension": ".jl",
   "mimetype": "application/julia",
   "name": "julia",
   "version": "1.5.2"
  }
 },
 "nbformat": 4,
 "nbformat_minor": 2
}